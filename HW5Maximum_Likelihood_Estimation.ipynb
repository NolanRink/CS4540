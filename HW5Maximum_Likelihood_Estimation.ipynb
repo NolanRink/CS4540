{
  "cells": [
    {
      "cell_type": "markdown",
      "metadata": {
        "id": "view-in-github",
        "colab_type": "text"
      },
      "source": [
        "<a href=\"https://colab.research.google.com/github/NolanRink/CS4540/blob/main/HW5Maximum_Likelihood_Estimation.ipynb\" target=\"_parent\"><img src=\"https://colab.research.google.com/assets/colab-badge.svg\" alt=\"Open In Colab\"/></a>"
      ]
    },
    {
      "cell_type": "markdown",
      "metadata": {
        "id": "0-mCX6pwjeQO"
      },
      "source": [
        "<a target=\"_blank\" href=\"https://colab.research.google.com/github/cyneuro/Neural-Networks-Machine-Learning/blob/main/stats/Maximum_Likelihood_Estimation.ipynb\">\n",
        "  <img src=\"https://colab.research.google.com/assets/colab-badge.svg\" alt=\"Open In Colab\"/>\n",
        "</a>"
      ]
    },
    {
      "cell_type": "markdown",
      "metadata": {
        "collapsed": false,
        "pycharm": {
          "name": "#%% md\n"
        },
        "id": "-Z8fpfaTjeQR"
      },
      "source": [
        "## Maximum Likelihood Estimation\n",
        "\n",
        "This notebook assumes the data is a standard continuous normal distribution. The number of random samples, mean, and standard deviation of the distribution can be set in lines 7-9 in code cell 1.\n",
        "\n",
        "The function `gaussian` calculates the negative log likelihood given the random samples and the initial predicted mean and standard deviations defined in initParams.\n",
        "\n",
        "The key to the whole program is the scipy function `minimize`. It is a regular optimization function and more information about it can be found [here](https://docs.scipy.org/doc/scipy/reference/generated/scipy.optimize.minimize.html).\n",
        "\n",
        "**Note:** the method can be a lot of different options, all different mathematical optimization techniques.\n",
        "\n",
        "\n",
        "#### Questions:\n",
        "1. If everything is working, we would expect more accurate $\\mu^*$ and $\\sigma^*$ predictions with more random samples. Think about why this is.\n",
        "- More samples reduce random errors and help the data better reflect the true distribution. This makes the likelihood curve steeper near the true values, leading to more accurate estimates of the parameters.\n",
        "2. What happens when the initial parameter guesses are extremely off? What about when they're extremely close? How does this impact the number of samples?\n",
        "- Extremely Off: The optimizer may take longer to find the best values and might even get stuck in a wrong spot, especially with little data          \n",
        "Extremely Close: The process speeds up because the starting point is near the true values, reducing the effort needed to reach the best estimates.\n",
        "3. Break down each line in the `gaussian` function. Knowing what you know about MLE, what do you think the function `stats.norm.logpdf` does?\n",
        "- The gaussian function first unpacks the parameter estimates from the input array by setting mean and std from params. It then calculates the log likelihood of each data point using stats.norm.logpdf(data, mean, std), which computes the logarithm of the probability density function for a normal distribution—this transformation is crucial for numerical stability and to convert products of probabilities into sums. Finally, by summing these log likelihoods and returning their negative value, the function produces the negative log likelihood, which is minimized during optimization to yield the maximum likelihood estimates for the mean and standard deviation."
      ]
    },
    {
      "cell_type": "code",
      "execution_count": 1,
      "metadata": {
        "pycharm": {
          "name": "#%%\n"
        },
        "id": "AxDhxq_RjeQS",
        "outputId": "2942860a-001e-4d87-b5f2-de224582fcfe",
        "colab": {
          "base_uri": "https://localhost:8080/"
        }
      },
      "outputs": [
        {
          "output_type": "stream",
          "name": "stdout",
          "text": [
            "mean*  = 0.016 std*  = 2.995\n",
            "mean   = 0.000 std   = 3.000\n"
          ]
        }
      ],
      "source": [
        "from scipy import stats\n",
        "import numpy as np\n",
        "from scipy.optimize import minimize\n",
        "np.random.seed(1)\n",
        "\n",
        "\n",
        "samples = 100000\n",
        "mu      = 0\n",
        "sigma   = 3\n",
        "\n",
        "\n",
        "#  Take random sample from the distribution of data (normal dist in this case)\n",
        "sample_data = np.random.normal(loc=mu, scale=sigma, size=samples)\n",
        "\n",
        "def gaussian(params):\n",
        "    mean = params[0]\n",
        "    sd = params[1]\n",
        "\n",
        "    # Calculate negative log likelihood\n",
        "    nll = -np.sum(stats.norm.logpdf(sample_data, loc=mean, scale=sd))\n",
        "\n",
        "    return nll\n",
        "\n",
        "\n",
        "initParams = [1, 1]\n",
        "\n",
        "results = minimize(gaussian, initParams, method='Nelder-Mead')\n",
        "\n",
        "\n",
        "print('mean*  = {:.3f} std*  = {:.3f}'.format(results.x[0],results.x[1]))\n",
        "print('mean   = {:.3f} std   = {:.3f}'.format(mu, sigma))"
      ]
    },
    {
      "cell_type": "code",
      "execution_count": 2,
      "metadata": {
        "pycharm": {
          "name": "#%%\n"
        },
        "id": "OcRqRGaZjeQT",
        "outputId": "f28dbeaf-060e-4737-fc7c-8db19259940c",
        "colab": {
          "base_uri": "https://localhost:8080/",
          "height": 430
        }
      },
      "outputs": [
        {
          "output_type": "display_data",
          "data": {
            "text/plain": [
              "<Figure size 640x480 with 1 Axes>"
            ],
            "image/png": "[encoded data removed]"
          },
          "metadata": {}
        }
      ],
      "source": [
        "import matplotlib.pyplot as plt\n",
        "\n",
        "def normal_dist(inp, mean, std):\n",
        "    return 1./(np.sqrt(2.*np.pi)*std)*np.exp(-np.power((inp - mean)/std, 2.)/2)\n",
        "\n",
        "x = np.arange(-10, 10, 0.1)\n",
        "y = normal_dist(x, mu, sigma)\n",
        "\n",
        "num_bins = 20\n",
        "\n",
        "count, bins, ignored = plt.hist(sample_data, bins=num_bins, density=True)\n",
        "plt.plot(bins, 1/(sigma * np.sqrt(2 * np.pi)) * np.exp( - (bins - mu)**2 / (2 * sigma**2) ))\n",
        "plt.show()"
      ]
    },
    {
      "cell_type": "code",
      "execution_count": 3,
      "metadata": {
        "pycharm": {
          "name": "#%%\n"
        },
        "id": "WpCvIBrFjeQX"
      },
      "outputs": [],
      "source": [
        "from scipy import stats\n",
        "import numpy as np\n",
        "from scipy.optimize import minimize\n",
        "np.random.seed(1)\n",
        "\n",
        "samples = 1000\n",
        "mu_logistic = 2\n",
        "sigma_logistic  = 1\n",
        "\n",
        "logistic_data = np.random.logistic(loc=mu_logistic, scale=sigma_logistic, size=samples)\n",
        "\n"
      ]
    },
    {
      "cell_type": "code",
      "source": [
        "def logistic_neg_log_likelihood(params, data):\n",
        "    mu, sigma = params\n",
        "    # Avoid division by zero or negative scale\n",
        "    if sigma <= 0:\n",
        "        return np.inf\n",
        "\n",
        "    # Compute the logistic PDF values\n",
        "    exp_term = np.exp(-(data - mu) / sigma)\n",
        "    pdf = exp_term / (sigma * (1 + exp_term)**2)\n",
        "\n",
        "    # Return the negative log likelihood\n",
        "    return -np.sum(np.log(pdf))\n",
        "\n",
        "# Initial parameter guesses; these can be tweaked\n",
        "init_params = [0.0, 1.0]\n",
        "\n",
        "# Use the minimize function to estimate the parameters\n",
        "result = minimize(logistic_neg_log_likelihood, init_params, args=(logistic_data,))\n",
        "estimated_mu, estimated_sigma = result.x\n",
        "\n",
        "print('mean*  = {:.3f} std*  = {:.3f}'.format(result.x[0],result.x[1]))\n",
        "print('mean   = {:.3f} std   = {:.3f}'.format(mu_logistic, sigma_logistic))"
      ],
      "metadata": {
        "id": "sAibuY9bKr7K",
        "outputId": "9e8b1cd9-d23e-4de4-c13e-afcd041c089c",
        "colab": {
          "base_uri": "https://localhost:8080/"
        }
      },
      "execution_count": 4,
      "outputs": [
        {
          "output_type": "stream",
          "name": "stdout",
          "text": [
            "mean*  = 2.004 std*  = 1.005\n",
            "mean   = 2.000 std   = 1.000\n"
          ]
        }
      ]
    },
    {
      "cell_type": "code",
      "source": [],
      "metadata": {
        "id": "ATIbqsiMOVWd"
      },
      "execution_count": null,
      "outputs": []
    }
  ],
  "metadata": {
    "kernelspec": {
      "display_name": "NME",
      "language": "python",
      "name": "python3"
    },
    "language_info": {
      "codemirror_mode": {
        "name": "ipython",
        "version": 3
      },
      "file_extension": ".py",
      "mimetype": "text/x-python",
      "name": "python",
      "nbconvert_exporter": "python",
      "pygments_lexer": "ipython3",
      "version": "3.10.16"
    },
    "colab": {
      "provenance": [],
      "include_colab_link": true
    }
  },
  "nbformat": 4,
  "nbformat_minor": 0
}