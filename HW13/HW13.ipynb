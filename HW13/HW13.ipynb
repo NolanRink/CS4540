{
  "nbformat": 4,
  "nbformat_minor": 0,
  "metadata": {
    "colab": {
      "provenance": [],
      "gpuType": "T4",
      "authorship_tag": "ABX9TyMq5TR7WM0/r5xDY4pT4EXY",
      "include_colab_link": true
    },
    "kernelspec": {
      "name": "python3",
      "display_name": "Python 3"
    },
    "language_info": {
      "name": "python"
    },
    "accelerator": "GPU"
  },
  "cells": [
    {
      "cell_type": "markdown",
      "metadata": {
        "id": "view-in-github",
        "colab_type": "text"
      },
      "source": [
        "<a href=\"https://colab.research.google.com/github/NolanRink/CS4540/blob/main/HW13/HW13.ipynb\" target=\"_parent\"><img src=\"https://colab.research.google.com/assets/colab-badge.svg\" alt=\"Open In Colab\"/></a>"
      ]
    },
    {
      "cell_type": "markdown",
      "source": [
        "# 1. Summarize the key ideas related to Wavenets in itemized (bullet) form, using the paper provided below, and other internet sources, as appropriate.\n",
        "\n",
        "- **Generates audio sample-by-sample**  \n",
        "  WaveNet treats each tiny audio sample as depending on all earlier samples, so it can create raw sound from scratch.  \n",
        "\n",
        "- **Uses dilated causal convolutions**  \n",
        "  Special 1-D convolutions “skip” over inputs so the network sees hundreds of milliseconds of context without needing huge filters or slow RNN loops.  \n",
        "\n",
        "- **Gated activation + residual & skip links**  \n",
        "  A tanh × sigmoid gate inside residual blocks keeps the very deep stack stable and lets information flow straight to the output.  \n",
        "\n",
        "- **Soft-max over 8-bit µ-law values**  \n",
        "  16-bit samples are companded to 256 bins; a categorical soft-max models any waveform shape better than simple Gaussians.  \n",
        "\n",
        "- **Easy conditioning**  \n",
        "  *Global* conditioning picks a speaker or instrument; *local* conditioning adds slower signals like phonemes or pitch, guiding what the model says or plays.  \n",
        "\n",
        "- **Top-tier speech quality**  \n",
        "  In listening tests, WaveNet voices scored above 4 / 5 MOS and sounded more natural than LSTM or unit-selection systems.  \n",
        "\n",
        "- **Works beyond speech**  \n",
        "  The same network can generate music fragments or even act as a raw-audio recogniser."
      ],
      "metadata": {
        "id": "mKNFr-iR5Jwu"
      }
    }
  ]
}