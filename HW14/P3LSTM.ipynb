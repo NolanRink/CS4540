{
  "nbformat": 4,
  "nbformat_minor": 0,
  "metadata": {
    "colab": {
      "provenance": [],
      "gpuType": "T4",
      "authorship_tag": "ABX9TyOw2hWZca9kYT+tc7VAKmY8",
      "include_colab_link": true
    },
    "kernelspec": {
      "name": "python3",
      "display_name": "Python 3"
    },
    "language_info": {
      "name": "python"
    },
    "accelerator": "GPU"
  },
  "cells": [
    {
      "cell_type": "markdown",
      "metadata": {
        "id": "view-in-github",
        "colab_type": "text"
      },
      "source": [
        "<a href=\"https://colab.research.google.com/github/NolanRink/CS4540/blob/main/HW14/P3LSTM.ipynb\" target=\"_parent\"><img src=\"https://colab.research.google.com/assets/colab-badge.svg\" alt=\"Open In Colab\"/></a>"
      ]
    },
    {
      "cell_type": "code",
      "source": [
        "import torch\n",
        "import torch.nn as nn\n",
        "import torch.optim as optim\n",
        "from torch.utils.data import DataLoader, TensorDataset\n",
        "import numpy as np\n",
        "import h5py\n",
        "from scipy.signal import welch\n",
        "import matplotlib.pyplot as plt\n",
        "from sklearn.model_selection import train_test_split\n",
        "from sklearn.metrics import confusion_matrix, classification_report\n",
        "from sklearn.utils import class_weight\n",
        "\n",
        "# Check for GPU\n",
        "device = torch.device('cuda' if torch.cuda.is_available() else 'cpu')\n",
        "print(\"Using device:\", device)\n",
        "if device.type == 'cuda':\n",
        "    # In Colab this will list the available GPU(s)\n",
        "    !nvidia-smi -L\n"
      ],
      "metadata": {
        "colab": {
          "base_uri": "https://localhost:8080/"
        },
        "id": "4d_UixBVkddJ",
        "outputId": "3eeb5774-1681-480e-fcd8-a845d15e0944"
      },
      "execution_count": 9,
      "outputs": [
        {
          "output_type": "stream",
          "name": "stdout",
          "text": [
            "Using device: cuda\n",
            "GPU 0: Tesla T4 (UUID: GPU-8e4fc71a-4385-6c22-9d4d-9153afe893a2)\n"
          ]
        }
      ]
    },
    {
      "cell_type": "code",
      "source": [
        "files = [\"Rat08-20130711_017.h5\", \"Part1SubjectHB10.h5\", \"Part2SubjectHB13.h5\"]\n",
        "subject_names = [\"Rat08_HPC\", \"SubjectHB10_BLA\", \"SubjectHB13_BLA\"]\n",
        "data_dict = {}\n",
        "\n",
        "for subject, filename in zip(subject_names, files):\n",
        "    segments, labels = [], []\n",
        "    with h5py.File(filename, 'r') as f:\n",
        "        fs = f.attrs.get('fs', 1250)  # sampling rate (Hz)\n",
        "        for state in f.keys():\n",
        "            lab = 1 if state == \"NREM\" else 0\n",
        "            for seg in f[state].values():\n",
        "                segments.append(seg[()].astype(float))\n",
        "                labels.append(lab)\n",
        "    data_dict[subject] = {\"segments\": segments, \"labels\": np.array(labels), \"fs\": fs}\n",
        "    print(f\"{subject}: Loaded {len(segments)} segments\")\n"
      ],
      "metadata": {
        "colab": {
          "base_uri": "https://localhost:8080/"
        },
        "id": "BoUCqU-AkhAw",
        "outputId": "4f65da21-7154-4381-b7fc-187775d86fc9"
      },
      "execution_count": 10,
      "outputs": [
        {
          "output_type": "stream",
          "name": "stdout",
          "text": [
            "Rat08_HPC: Loaded 96 segments\n",
            "SubjectHB10_BLA: Loaded 55 segments\n",
            "SubjectHB13_BLA: Loaded 41 segments\n"
          ]
        }
      ]
    },
    {
      "cell_type": "code",
      "source": [
        "clip_duration = 5  # seconds\n",
        "bands = {\n",
        "    'delta': (0.5, 4),\n",
        "    'theta': (4, 8),\n",
        "    'alpha': (8,12),\n",
        "    'beta':  (12,30),\n",
        "    'gamma': (30,100)\n",
        "}\n",
        "processed_data = {}\n",
        "\n",
        "for subject in subject_names:\n",
        "    fs = data_dict[subject][\"fs\"]\n",
        "    clip_length = int(clip_duration * fs)\n",
        "    X_raw, X_spectral, y_clips = [], [], []\n",
        "\n",
        "    for seg, lab in zip(data_dict[subject][\"segments\"], data_dict[subject][\"labels\"]):\n",
        "        if len(seg) < clip_length:\n",
        "            continue\n",
        "        num_clips = len(seg) // clip_length\n",
        "        clips = seg[:num_clips*clip_length].reshape(num_clips, clip_length)\n",
        "\n",
        "        for clip in clips:\n",
        "            X_raw.append(clip)\n",
        "            freqs, psd = welch(clip, fs=fs, nperseg=min(512, clip_length))\n",
        "            band_feats = [\n",
        "                np.mean(psd[(freqs >= low) & (freqs <= high)])\n",
        "                for low, high in bands.values()\n",
        "            ]\n",
        "            X_spectral.append(band_feats)\n",
        "            y_clips.append(lab)\n",
        "\n",
        "    processed_data[subject] = {\n",
        "        \"X_raw\":      np.array(X_raw),\n",
        "        \"X_spectral\": np.array(X_spectral),\n",
        "        \"y\":          np.array(y_clips),\n",
        "        \"fs\":         fs\n",
        "    }\n",
        "    print(f\"{subject}: {len(X_raw)} clips ({(np.array(y_clips)==1).sum()} NREM)\")\n"
      ],
      "metadata": {
        "colab": {
          "base_uri": "https://localhost:8080/"
        },
        "id": "byjG_Mszkg9x",
        "outputId": "b96e91c7-9f42-4c85-fbab-f514da3722ab"
      },
      "execution_count": 11,
      "outputs": [
        {
          "output_type": "stream",
          "name": "stderr",
          "text": [
            "<ipython-input-11-12d98c9bb7c7>:13: DeprecationWarning: Conversion of an array with ndim > 0 to a scalar is deprecated, and will error in future. Ensure you extract a single element from your array before performing this operation. (Deprecated NumPy 1.25.)\n",
            "  clip_length = int(clip_duration * fs)\n"
          ]
        },
        {
          "output_type": "stream",
          "name": "stdout",
          "text": [
            "Rat08_HPC: 3682 clips (1239 NREM)\n",
            "SubjectHB10_BLA: 907 clips (330 NREM)\n",
            "SubjectHB13_BLA: 913 clips (295 NREM)\n"
          ]
        }
      ]
    },
    {
      "cell_type": "markdown",
      "source": [
        "- Perform stratified splits: 70% train, 15% validation, 15% test (preserving class ratios).  \n",
        "- Apply z-score normalization separately to the raw time-series (global mean/std) and spectral features (per-feature mean/std).  \n",
        "- Compute class weights for balanced training due to label imbalance.  \n"
      ],
      "metadata": {
        "id": "Gepu2GEhk36W"
      }
    },
    {
      "cell_type": "code",
      "source": [
        "splits = {}\n",
        "for subject in subject_names:\n",
        "    Xr, Xs, y = (processed_data[subject][k] for k in (\"X_raw\",\"X_spectral\",\"y\"))\n",
        "    Xr_t, Xr_test, Xs_t, Xs_test, y_t, y_test = train_test_split(\n",
        "        Xr, Xs, y, test_size=0.15, random_state=42, stratify=y\n",
        "    )\n",
        "    Xr_train, Xr_val, Xs_train, Xs_val, y_train, y_val = train_test_split(\n",
        "        Xr_t, Xs_t, y_t, test_size=0.15/0.85, random_state=42, stratify=y_t\n",
        "    )\n",
        "\n",
        "    # Raw normalization\n",
        "    mu_r, std_r = Xr_train.mean(), Xr_train.std()\n",
        "    Xr_train, Xr_val, Xr_test = (\n",
        "        (arr - mu_r) / std_r for arr in (Xr_train, Xr_val, Xr_test)\n",
        "    )\n",
        "\n",
        "    # Spectral normalization (per-feature)\n",
        "    mu_s, std_s = Xs_train.mean(0), Xs_train.std(0)\n",
        "    std_s[std_s == 0] = 1\n",
        "    Xs_train, Xs_val, Xs_test = (\n",
        "        (arr - mu_s) / std_s for arr in (Xs_train, Xs_val, Xs_test)\n",
        "    )\n",
        "\n",
        "    # Class weights\n",
        "    cw = class_weight.compute_class_weight('balanced',\n",
        "          classes=np.unique(y_train), y=y_train)\n",
        "    cw = torch.tensor(cw, dtype=torch.float32)\n",
        "\n",
        "    splits[subject] = {\n",
        "        \"Xr_train\": Xr_train, \"Xr_val\": Xr_val, \"Xr_test\": Xr_test,\n",
        "        \"Xs_train\": Xs_train, \"Xs_val\": Xs_val, \"Xs_test\": Xs_test,\n",
        "        \"y_train\": y_train, \"y_val\": y_val, \"y_test\": y_test,\n",
        "        \"class_weights\": cw\n",
        "    }\n",
        "    print(f\"{subject}: Train={len(y_train)}, Val={len(y_val)}, Test={len(y_test)}; cw={cw.numpy()}\")\n"
      ],
      "metadata": {
        "colab": {
          "base_uri": "https://localhost:8080/"
        },
        "id": "NDS3Ct67kg7c",
        "outputId": "04ee67ff-5969-41ef-c908-799e94a07904"
      },
      "execution_count": 12,
      "outputs": [
        {
          "output_type": "stream",
          "name": "stdout",
          "text": [
            "Rat08_HPC: Train=2576, Val=553, Test=553; cw=[0.7536571 1.4855825]\n",
            "SubjectHB10_BLA: Train=634, Val=136, Test=137; cw=[0.7866005 1.3722944]\n",
            "SubjectHB13_BLA: Train=639, Val=137, Test=137; cw=[0.7395833 1.5434783]\n"
          ]
        }
      ]
    },
    {
      "cell_type": "markdown",
      "source": [
        "Convert NumPy arrays to PyTorch tensors and wrap them in `TensorDataset` + `DataLoader` for efficient mini-batch training.  \n",
        "Raw inputs get shape `[batch, seq_length, 1]`.  \n",
        "Spectral features are `[batch, num_bands]`.  \n"
      ],
      "metadata": {
        "id": "Tg-igIzsk57N"
      }
    },
    {
      "cell_type": "code",
      "source": [
        "batch_size = 64\n",
        "loaders = {}\n",
        "\n",
        "for subject in subject_names:\n",
        "    Xr_tr = torch.tensor(splits[subject][\"Xr_train\"], dtype=torch.float32).unsqueeze(-1)\n",
        "    Xr_va = torch.tensor(splits[subject][\"Xr_val\"],   dtype=torch.float32).unsqueeze(-1)\n",
        "    Xr_te = torch.tensor(splits[subject][\"Xr_test\"],  dtype=torch.float32).unsqueeze(-1)\n",
        "    Xs_tr = torch.tensor(splits[subject][\"Xs_train\"], dtype=torch.float32)\n",
        "    Xs_va = torch.tensor(splits[subject][\"Xs_val\"],   dtype=torch.float32)\n",
        "    Xs_te = torch.tensor(splits[subject][\"Xs_test\"],  dtype=torch.float32)\n",
        "    y_tr  = torch.tensor(splits[subject][\"y_train\"],  dtype=torch.long)\n",
        "    y_va  = torch.tensor(splits[subject][\"y_val\"],    dtype=torch.long)\n",
        "    y_te  = torch.tensor(splits[subject][\"y_test\"],   dtype=torch.long)\n",
        "\n",
        "    train_ds = TensorDataset(Xr_tr, Xs_tr, y_tr)\n",
        "    val_ds   = TensorDataset(Xr_va, Xs_va, y_va)\n",
        "    test_ds  = TensorDataset(Xr_te, Xs_te, y_te)\n",
        "\n",
        "    loaders[subject] = {\n",
        "        'train': DataLoader(train_ds, batch_size, shuffle=True),\n",
        "        'val':   DataLoader(val_ds,   batch_size, shuffle=False),\n",
        "        'test':  DataLoader(test_ds,  batch_size, shuffle=False)\n",
        "    }\n"
      ],
      "metadata": {
        "id": "lQPGrkX_kg4n"
      },
      "execution_count": 13,
      "outputs": []
    },
    {
      "cell_type": "markdown",
      "source": [
        "Define a bidirectional, multi-layer LSTM with an attention mechanism over time.  \n",
        "Also create a small MLP to encode the 5 spectral band features.  \n",
        "Finally, fuse both representations and classify into 2 classes.  \n"
      ],
      "metadata": {
        "id": "-z7JMJ5Nk75Q"
      }
    },
    {
      "cell_type": "code",
      "source": [
        "class EnhancedSleepLSTM(nn.Module):\n",
        "    def __init__(self, input_size=1, hidden_size=64, num_layers=2,\n",
        "                 dropout=0.3, num_spectral_features=5):\n",
        "        super().__init__()\n",
        "        self.lstm = nn.LSTM(\n",
        "            input_size, hidden_size,\n",
        "            num_layers=num_layers,\n",
        "            dropout=dropout if num_layers>1 else 0,\n",
        "            batch_first=True, bidirectional=True\n",
        "        )\n",
        "        # Attention over sequence outputs\n",
        "        self.attention = nn.Sequential(\n",
        "            nn.Linear(hidden_size*2, 1), nn.Tanh()\n",
        "        )\n",
        "        # Spectral encoder MLP\n",
        "        self.spectral_encoder = nn.Sequential(\n",
        "            nn.Linear(num_spectral_features, hidden_size),\n",
        "            nn.ReLU(), nn.Dropout(dropout)\n",
        "        )\n",
        "        # Final fusion & classifier\n",
        "        self.fc = nn.Sequential(\n",
        "            nn.Linear(hidden_size*2 + hidden_size, hidden_size),\n",
        "            nn.ReLU(), nn.Dropout(dropout),\n",
        "            nn.Linear(hidden_size, 2)\n",
        "        )\n",
        "\n",
        "    def forward(self, x_raw, x_spec):\n",
        "        lstm_out, _ = self.lstm(x_raw)                        # [B, T, H*2]\n",
        "        attn_w = torch.softmax(self.attention(lstm_out), dim=1)  # [B, T, 1]\n",
        "        context = (lstm_out * attn_w).sum(dim=1)              # [B, H*2]\n",
        "        spec_enc = self.spectral_encoder(x_spec)              # [B, H]\n",
        "        combined = torch.cat([context, spec_enc], dim=1)      # [B, H*3]\n",
        "        return self.fc(combined)                              # [B, 2]\n"
      ],
      "metadata": {
        "id": "1BS7uGePkg2B"
      },
      "execution_count": 14,
      "outputs": []
    },
    {
      "cell_type": "markdown",
      "source": [
        "Train with:  \n",
        "- Adam optimizer + weight decay  \n",
        "- `ReduceLROnPlateau` scheduler on validation accuracy  \n",
        "- Class-weighted cross-entropy to handle imbalance  \n",
        "- Mixed-precision (`GradScaler`) for GPU speed  \n",
        "- Early stopping based on validation F1 (focus on NREM class)  \n"
      ],
      "metadata": {
        "id": "_nqH8i3Wk9dK"
      }
    },
    {
      "cell_type": "code",
      "source": [
        "def train_model(subj, model, train_loader, val_loader, class_weights,\n",
        "                epochs=100, lr=1e-3, patience=10):\n",
        "    model.to(device)\n",
        "    cw = class_weights.to(device)\n",
        "    optimizer = optim.Adam(model.parameters(), lr=lr, weight_decay=1e-5)\n",
        "    scheduler = optim.lr_scheduler.ReduceLROnPlateau(\n",
        "        optimizer, mode='max', factor=0.5, patience=10, verbose=True\n",
        "    )\n",
        "    criterion = nn.CrossEntropyLoss(weight=cw).to(device)\n",
        "    scaler = torch.cuda.amp.GradScaler()\n",
        "\n",
        "    best_f1, no_improve = 0, 0\n",
        "    history = {'train_acc': [], 'val_acc': []}\n",
        "\n",
        "    for epoch in range(1, epochs+1):\n",
        "        # Training\n",
        "        model.train()\n",
        "        correct_tr = total_tr = 0\n",
        "        loss_tr = 0\n",
        "        for Xr, Xs, y in train_loader:\n",
        "            Xr, Xs, y = Xr.to(device), Xs.to(device), y.to(device)\n",
        "            optimizer.zero_grad()\n",
        "            with torch.cuda.amp.autocast():\n",
        "                out = model(Xr, Xs)\n",
        "                loss = criterion(out, y)\n",
        "            scaler.scale(loss).backward()\n",
        "            scaler.step(optimizer); scaler.update()\n",
        "            loss_tr += loss.item()\n",
        "            preds = out.argmax(1)\n",
        "            correct_tr += (preds == y).sum().item()\n",
        "            total_tr += y.size(0)\n",
        "        train_acc = correct_tr / total_tr\n",
        "        loss_tr /= len(train_loader)\n",
        "\n",
        "        # Validation\n",
        "        model.eval()\n",
        "        correct_va = total_va = 0\n",
        "        loss_va = 0\n",
        "        all_p, all_l = [], []\n",
        "        with torch.no_grad():\n",
        "            for Xr, Xs, y in val_loader:\n",
        "                Xr, Xs, y = Xr.to(device), Xs.to(device), y.to(device)\n",
        "                out = model(Xr, Xs)\n",
        "                loss = criterion(out, y)\n",
        "                loss_va += loss.item()\n",
        "                preds = out.argmax(1)\n",
        "                all_p.extend(preds.cpu().numpy())\n",
        "                all_l.extend(y.cpu().numpy())\n",
        "                correct_va += (preds == y).sum().item()\n",
        "                total_va += y.size(0)\n",
        "        val_acc = correct_va / total_va\n",
        "        loss_va /= len(val_loader)\n",
        "\n",
        "        # Compute F1 for NREM class\n",
        "        cm = confusion_matrix(all_l, all_p)\n",
        "        if cm.shape == (2,2):\n",
        "            prec = cm[1,1] / (cm[1,1]+cm[0,1]) if cm[1,1]+cm[0,1]>0 else 0\n",
        "            rec  = cm[1,1] / (cm[1,1]+cm[1,0]) if cm[1,1]+cm[1,0]>0 else 0\n",
        "            f1   = 2*prec*rec/(prec+rec) if prec+rec>0 else 0\n",
        "        else:\n",
        "            f1 = 0\n",
        "\n",
        "        scheduler.step(val_acc)\n",
        "        history['train_acc'].append(train_acc)\n",
        "        history['val_acc'].append(val_acc)\n",
        "\n",
        "        print(f\"{subj} E{epoch}/{epochs} \"\n",
        "              f\"TrLoss:{loss_tr:.4f} VaLoss:{loss_va:.4f} \"\n",
        "              f\"TrAcc:{train_acc*100:.1f}% VaAcc:{val_acc*100:.1f}% F1:{f1:.4f}\")\n",
        "\n",
        "        if f1 > best_f1:\n",
        "            best_f1, no_improve = f1, 0\n",
        "            torch.save(model.state_dict(), f\"{subj}_best.pt\")\n",
        "            print(\" ✓ saved\")\n",
        "        else:\n",
        "            no_improve += 1\n",
        "            if no_improve >= patience:\n",
        "                print(\" Early stopping.\")\n",
        "                break\n",
        "\n",
        "    model.load_state_dict(torch.load(f\"{subj}_best.pt\"))\n",
        "    return history, model\n"
      ],
      "metadata": {
        "id": "uFBtfb5kkmuJ"
      },
      "execution_count": 15,
      "outputs": []
    },
    {
      "cell_type": "markdown",
      "source": [
        "For each subject:  \n",
        "1. Initialize & train the model.  \n",
        "2. Evaluate on the test set: print accuracy, confusion matrix, classification report.  \n",
        "3. Plot training vs validation accuracy curves and the test confusion matrix.  \n"
      ],
      "metadata": {
        "id": "mNb_KEn2k-4w"
      }
    },
    {
      "cell_type": "code",
      "source": [
        "models, histories = {}, {}\n",
        "\n",
        "for subj in subject_names:\n",
        "    print(f\"\\n=== {subj} ===\")\n",
        "    model = EnhancedSleepLSTM(\n",
        "        hidden_size=64, num_layers=2,\n",
        "        dropout=0.3, num_spectral_features=len(bands)\n",
        "    )\n",
        "    history, best_model = train_model(\n",
        "        subj, model,\n",
        "        loaders[subj]['train'], loaders[subj]['val'],\n",
        "        splits[subj]['class_weights'],\n",
        "        epochs=100, lr=1e-3, patience=10\n",
        "    )\n",
        "    models[subj] = best_model\n",
        "    histories[subj] = history\n",
        "\n",
        "    # Test evaluation\n",
        "    all_p, all_l = [], []\n",
        "    with torch.no_grad():\n",
        "        for Xr, Xs, y in loaders[subj]['test']:\n",
        "            Xr, Xs = Xr.to(device), Xs.to(device)\n",
        "            out = best_model(Xr, Xs)\n",
        "            all_p.extend(out.argmax(1).cpu().numpy())\n",
        "            all_l.extend(y.numpy())\n",
        "    all_p, all_l = np.array(all_p), np.array(all_l)\n",
        "    acc = (all_p == all_l).mean() * 100\n",
        "    cm = confusion_matrix(all_l, all_p)\n",
        "    print(f\"Test Acc: {acc:.2f}%\\n\", cm)\n",
        "    print(classification_report(all_l, all_p, target_names=['WAKE','NREM']))\n",
        "\n",
        "    # Plot\n",
        "    plt.figure(figsize=(12,4))\n",
        "    plt.subplot(1,2,1)\n",
        "    plt.plot(histories[subj]['train_acc'], label='Train')\n",
        "    plt.plot(histories[subj]['val_acc'],   label='Val')\n",
        "    plt.title(f\"{subj} Accuracy\"); plt.legend()\n",
        "    plt.subplot(1,2,2)\n",
        "    plt.imshow(cm, cmap='Blues'); plt.title(\"Confusion Matrix\")\n",
        "    for i in range(2):\n",
        "        for j in range(2):\n",
        "            plt.text(j,i,cm[i,j], ha='center',\n",
        "                     color='white' if cm[i,j]>cm.max()/2 else 'black')\n",
        "    plt.xticks([0,1],['WAKE','NREM']); plt.yticks([0,1],['WAKE','NREM'])\n",
        "    plt.tight_layout(); plt.show()\n"
      ],
      "metadata": {
        "colab": {
          "base_uri": "https://localhost:8080/",
          "height": 1000
        },
        "id": "evhicA8wkgzh",
        "outputId": "3de11387-08d4-4024-f1d4-c917115d6701"
      },
      "execution_count": 16,
      "outputs": [
        {
          "output_type": "stream",
          "name": "stdout",
          "text": [
            "\n",
            "=== Rat08_HPC ===\n"
          ]
        },
        {
          "output_type": "stream",
          "name": "stderr",
          "text": [
            "/usr/local/lib/python3.11/dist-packages/torch/optim/lr_scheduler.py:62: UserWarning: The verbose parameter is deprecated. Please use get_last_lr() to access the learning rate.\n",
            "  warnings.warn(\n",
            "<ipython-input-15-893625c7e94b>:10: FutureWarning: `torch.cuda.amp.GradScaler(args...)` is deprecated. Please use `torch.amp.GradScaler('cuda', args...)` instead.\n",
            "  scaler = torch.cuda.amp.GradScaler()\n",
            "<ipython-input-15-893625c7e94b>:23: FutureWarning: `torch.cuda.amp.autocast(args...)` is deprecated. Please use `torch.amp.autocast('cuda', args...)` instead.\n",
            "  with torch.cuda.amp.autocast():\n"
          ]
        },
        {
          "output_type": "stream",
          "name": "stdout",
          "text": [
            "Rat08_HPC E1/100 TrLoss:0.5519 VaLoss:0.3779 TrAcc:81.2% VaAcc:88.8% F1:0.8368\n",
            " ✓ saved\n"
          ]
        },
        {
          "output_type": "stream",
          "name": "stderr",
          "text": [
            "<ipython-input-15-893625c7e94b>:23: FutureWarning: `torch.cuda.amp.autocast(args...)` is deprecated. Please use `torch.amp.autocast('cuda', args...)` instead.\n",
            "  with torch.cuda.amp.autocast():\n"
          ]
        },
        {
          "output_type": "stream",
          "name": "stdout",
          "text": [
            "Rat08_HPC E2/100 TrLoss:0.3415 VaLoss:0.2500 TrAcc:88.9% VaAcc:92.6% F1:0.8918\n",
            " ✓ saved\n"
          ]
        },
        {
          "output_type": "stream",
          "name": "stderr",
          "text": [
            "<ipython-input-15-893625c7e94b>:23: FutureWarning: `torch.cuda.amp.autocast(args...)` is deprecated. Please use `torch.amp.autocast('cuda', args...)` instead.\n",
            "  with torch.cuda.amp.autocast():\n"
          ]
        },
        {
          "output_type": "stream",
          "name": "stdout",
          "text": [
            "Rat08_HPC E3/100 TrLoss:0.2668 VaLoss:0.2188 TrAcc:90.4% VaAcc:92.4% F1:0.8901\n"
          ]
        },
        {
          "output_type": "stream",
          "name": "stderr",
          "text": [
            "<ipython-input-15-893625c7e94b>:23: FutureWarning: `torch.cuda.amp.autocast(args...)` is deprecated. Please use `torch.amp.autocast('cuda', args...)` instead.\n",
            "  with torch.cuda.amp.autocast():\n"
          ]
        },
        {
          "output_type": "stream",
          "name": "stdout",
          "text": [
            "Rat08_HPC E4/100 TrLoss:0.2320 VaLoss:0.2051 TrAcc:91.5% VaAcc:92.2% F1:0.8900\n"
          ]
        },
        {
          "output_type": "stream",
          "name": "stderr",
          "text": [
            "<ipython-input-15-893625c7e94b>:23: FutureWarning: `torch.cuda.amp.autocast(args...)` is deprecated. Please use `torch.amp.autocast('cuda', args...)` instead.\n",
            "  with torch.cuda.amp.autocast():\n"
          ]
        },
        {
          "output_type": "stream",
          "name": "stdout",
          "text": [
            "Rat08_HPC E5/100 TrLoss:0.2275 VaLoss:0.2103 TrAcc:90.6% VaAcc:92.0% F1:0.8824\n"
          ]
        },
        {
          "output_type": "stream",
          "name": "stderr",
          "text": [
            "<ipython-input-15-893625c7e94b>:23: FutureWarning: `torch.cuda.amp.autocast(args...)` is deprecated. Please use `torch.amp.autocast('cuda', args...)` instead.\n",
            "  with torch.cuda.amp.autocast():\n"
          ]
        },
        {
          "output_type": "stream",
          "name": "stdout",
          "text": [
            "Rat08_HPC E6/100 TrLoss:0.2247 VaLoss:0.1962 TrAcc:91.1% VaAcc:92.0% F1:0.8883\n"
          ]
        },
        {
          "output_type": "stream",
          "name": "stderr",
          "text": [
            "<ipython-input-15-893625c7e94b>:23: FutureWarning: `torch.cuda.amp.autocast(args...)` is deprecated. Please use `torch.amp.autocast('cuda', args...)` instead.\n",
            "  with torch.cuda.amp.autocast():\n"
          ]
        },
        {
          "output_type": "stream",
          "name": "stdout",
          "text": [
            "Rat08_HPC E7/100 TrLoss:0.2157 VaLoss:0.1943 TrAcc:91.5% VaAcc:91.7% F1:0.8832\n"
          ]
        },
        {
          "output_type": "stream",
          "name": "stderr",
          "text": [
            "<ipython-input-15-893625c7e94b>:23: FutureWarning: `torch.cuda.amp.autocast(args...)` is deprecated. Please use `torch.amp.autocast('cuda', args...)` instead.\n",
            "  with torch.cuda.amp.autocast():\n"
          ]
        },
        {
          "output_type": "stream",
          "name": "stdout",
          "text": [
            "Rat08_HPC E8/100 TrLoss:0.2162 VaLoss:0.1871 TrAcc:91.3% VaAcc:92.4% F1:0.8918\n"
          ]
        },
        {
          "output_type": "stream",
          "name": "stderr",
          "text": [
            "<ipython-input-15-893625c7e94b>:23: FutureWarning: `torch.cuda.amp.autocast(args...)` is deprecated. Please use `torch.amp.autocast('cuda', args...)` instead.\n",
            "  with torch.cuda.amp.autocast():\n"
          ]
        },
        {
          "output_type": "stream",
          "name": "stdout",
          "text": [
            "Rat08_HPC E9/100 TrLoss:0.2144 VaLoss:0.1871 TrAcc:91.7% VaAcc:92.6% F1:0.8951\n",
            " ✓ saved\n"
          ]
        },
        {
          "output_type": "stream",
          "name": "stderr",
          "text": [
            "<ipython-input-15-893625c7e94b>:23: FutureWarning: `torch.cuda.amp.autocast(args...)` is deprecated. Please use `torch.amp.autocast('cuda', args...)` instead.\n",
            "  with torch.cuda.amp.autocast():\n"
          ]
        },
        {
          "output_type": "stream",
          "name": "stdout",
          "text": [
            "Rat08_HPC E10/100 TrLoss:0.2209 VaLoss:0.1829 TrAcc:91.7% VaAcc:92.4% F1:0.8929\n"
          ]
        },
        {
          "output_type": "stream",
          "name": "stderr",
          "text": [
            "<ipython-input-15-893625c7e94b>:23: FutureWarning: `torch.cuda.amp.autocast(args...)` is deprecated. Please use `torch.amp.autocast('cuda', args...)` instead.\n",
            "  with torch.cuda.amp.autocast():\n"
          ]
        },
        {
          "output_type": "stream",
          "name": "stdout",
          "text": [
            "Rat08_HPC E11/100 TrLoss:0.2139 VaLoss:0.1850 TrAcc:91.8% VaAcc:92.0% F1:0.8889\n"
          ]
        },
        {
          "output_type": "stream",
          "name": "stderr",
          "text": [
            "<ipython-input-15-893625c7e94b>:23: FutureWarning: `torch.cuda.amp.autocast(args...)` is deprecated. Please use `torch.amp.autocast('cuda', args...)` instead.\n",
            "  with torch.cuda.amp.autocast():\n"
          ]
        },
        {
          "output_type": "stream",
          "name": "stdout",
          "text": [
            "Rat08_HPC E12/100 TrLoss:0.2031 VaLoss:0.1791 TrAcc:92.1% VaAcc:92.8% F1:0.8980\n",
            " ✓ saved\n"
          ]
        },
        {
          "output_type": "stream",
          "name": "stderr",
          "text": [
            "<ipython-input-15-893625c7e94b>:23: FutureWarning: `torch.cuda.amp.autocast(args...)` is deprecated. Please use `torch.amp.autocast('cuda', args...)` instead.\n",
            "  with torch.cuda.amp.autocast():\n"
          ]
        },
        {
          "output_type": "stream",
          "name": "stdout",
          "text": [
            "Rat08_HPC E13/100 TrLoss:0.1959 VaLoss:0.1744 TrAcc:92.5% VaAcc:93.1% F1:0.9026\n",
            " ✓ saved\n"
          ]
        },
        {
          "output_type": "stream",
          "name": "stderr",
          "text": [
            "<ipython-input-15-893625c7e94b>:23: FutureWarning: `torch.cuda.amp.autocast(args...)` is deprecated. Please use `torch.amp.autocast('cuda', args...)` instead.\n",
            "  with torch.cuda.amp.autocast():\n"
          ]
        },
        {
          "output_type": "stream",
          "name": "stdout",
          "text": [
            "Rat08_HPC E14/100 TrLoss:0.1923 VaLoss:0.1734 TrAcc:92.4% VaAcc:91.9% F1:0.8866\n"
          ]
        },
        {
          "output_type": "stream",
          "name": "stderr",
          "text": [
            "<ipython-input-15-893625c7e94b>:23: FutureWarning: `torch.cuda.amp.autocast(args...)` is deprecated. Please use `torch.amp.autocast('cuda', args...)` instead.\n",
            "  with torch.cuda.amp.autocast():\n"
          ]
        },
        {
          "output_type": "stream",
          "name": "stdout",
          "text": [
            "Rat08_HPC E15/100 TrLoss:0.1910 VaLoss:0.1707 TrAcc:92.5% VaAcc:92.6% F1:0.8962\n"
          ]
        },
        {
          "output_type": "stream",
          "name": "stderr",
          "text": [
            "<ipython-input-15-893625c7e94b>:23: FutureWarning: `torch.cuda.amp.autocast(args...)` is deprecated. Please use `torch.amp.autocast('cuda', args...)` instead.\n",
            "  with torch.cuda.amp.autocast():\n"
          ]
        },
        {
          "output_type": "stream",
          "name": "stdout",
          "text": [
            "Rat08_HPC E16/100 TrLoss:0.1917 VaLoss:0.1682 TrAcc:92.5% VaAcc:92.9% F1:0.9008\n"
          ]
        },
        {
          "output_type": "stream",
          "name": "stderr",
          "text": [
            "<ipython-input-15-893625c7e94b>:23: FutureWarning: `torch.cuda.amp.autocast(args...)` is deprecated. Please use `torch.amp.autocast('cuda', args...)` instead.\n",
            "  with torch.cuda.amp.autocast():\n"
          ]
        },
        {
          "output_type": "stream",
          "name": "stdout",
          "text": [
            "Rat08_HPC E17/100 TrLoss:0.1855 VaLoss:0.1675 TrAcc:92.3% VaAcc:92.6% F1:0.8967\n"
          ]
        },
        {
          "output_type": "stream",
          "name": "stderr",
          "text": [
            "<ipython-input-15-893625c7e94b>:23: FutureWarning: `torch.cuda.amp.autocast(args...)` is deprecated. Please use `torch.amp.autocast('cuda', args...)` instead.\n",
            "  with torch.cuda.amp.autocast():\n"
          ]
        },
        {
          "output_type": "stream",
          "name": "stdout",
          "text": [
            "Rat08_HPC E18/100 TrLoss:0.1932 VaLoss:0.1663 TrAcc:92.5% VaAcc:92.2% F1:0.8928\n"
          ]
        },
        {
          "output_type": "stream",
          "name": "stderr",
          "text": [
            "<ipython-input-15-893625c7e94b>:23: FutureWarning: `torch.cuda.amp.autocast(args...)` is deprecated. Please use `torch.amp.autocast('cuda', args...)` instead.\n",
            "  with torch.cuda.amp.autocast():\n"
          ]
        },
        {
          "output_type": "stream",
          "name": "stdout",
          "text": [
            "Rat08_HPC E19/100 TrLoss:0.1795 VaLoss:0.1613 TrAcc:92.7% VaAcc:93.9% F1:0.9128\n",
            " ✓ saved\n"
          ]
        },
        {
          "output_type": "stream",
          "name": "stderr",
          "text": [
            "<ipython-input-15-893625c7e94b>:23: FutureWarning: `torch.cuda.amp.autocast(args...)` is deprecated. Please use `torch.amp.autocast('cuda', args...)` instead.\n",
            "  with torch.cuda.amp.autocast():\n"
          ]
        },
        {
          "output_type": "stream",
          "name": "stdout",
          "text": [
            "Rat08_HPC E20/100 TrLoss:0.1778 VaLoss:0.1687 TrAcc:92.7% VaAcc:93.3% F1:0.9034\n"
          ]
        },
        {
          "output_type": "stream",
          "name": "stderr",
          "text": [
            "<ipython-input-15-893625c7e94b>:23: FutureWarning: `torch.cuda.amp.autocast(args...)` is deprecated. Please use `torch.amp.autocast('cuda', args...)` instead.\n",
            "  with torch.cuda.amp.autocast():\n"
          ]
        },
        {
          "output_type": "stream",
          "name": "stdout",
          "text": [
            "Rat08_HPC E21/100 TrLoss:0.1795 VaLoss:0.1646 TrAcc:92.8% VaAcc:92.2% F1:0.8933\n"
          ]
        },
        {
          "output_type": "stream",
          "name": "stderr",
          "text": [
            "<ipython-input-15-893625c7e94b>:23: FutureWarning: `torch.cuda.amp.autocast(args...)` is deprecated. Please use `torch.amp.autocast('cuda', args...)` instead.\n",
            "  with torch.cuda.amp.autocast():\n"
          ]
        },
        {
          "output_type": "stream",
          "name": "stdout",
          "text": [
            "Rat08_HPC E22/100 TrLoss:0.1754 VaLoss:0.1595 TrAcc:92.7% VaAcc:92.8% F1:0.8990\n"
          ]
        },
        {
          "output_type": "stream",
          "name": "stderr",
          "text": [
            "<ipython-input-15-893625c7e94b>:23: FutureWarning: `torch.cuda.amp.autocast(args...)` is deprecated. Please use `torch.amp.autocast('cuda', args...)` instead.\n",
            "  with torch.cuda.amp.autocast():\n"
          ]
        },
        {
          "output_type": "stream",
          "name": "stdout",
          "text": [
            "Rat08_HPC E23/100 TrLoss:0.1785 VaLoss:0.1646 TrAcc:92.8% VaAcc:92.4% F1:0.8955\n"
          ]
        },
        {
          "output_type": "stream",
          "name": "stderr",
          "text": [
            "<ipython-input-15-893625c7e94b>:23: FutureWarning: `torch.cuda.amp.autocast(args...)` is deprecated. Please use `torch.amp.autocast('cuda', args...)` instead.\n",
            "  with torch.cuda.amp.autocast():\n"
          ]
        },
        {
          "output_type": "stream",
          "name": "stdout",
          "text": [
            "Rat08_HPC E24/100 TrLoss:0.1870 VaLoss:0.1556 TrAcc:92.6% VaAcc:92.9% F1:0.9018\n"
          ]
        },
        {
          "output_type": "stream",
          "name": "stderr",
          "text": [
            "<ipython-input-15-893625c7e94b>:23: FutureWarning: `torch.cuda.amp.autocast(args...)` is deprecated. Please use `torch.amp.autocast('cuda', args...)` instead.\n",
            "  with torch.cuda.amp.autocast():\n"
          ]
        },
        {
          "output_type": "stream",
          "name": "stdout",
          "text": [
            "Rat08_HPC E25/100 TrLoss:0.1723 VaLoss:0.1549 TrAcc:93.2% VaAcc:93.3% F1:0.9068\n"
          ]
        },
        {
          "output_type": "stream",
          "name": "stderr",
          "text": [
            "<ipython-input-15-893625c7e94b>:23: FutureWarning: `torch.cuda.amp.autocast(args...)` is deprecated. Please use `torch.amp.autocast('cuda', args...)` instead.\n",
            "  with torch.cuda.amp.autocast():\n"
          ]
        },
        {
          "output_type": "stream",
          "name": "stdout",
          "text": [
            "Rat08_HPC E26/100 TrLoss:0.1740 VaLoss:0.1576 TrAcc:93.1% VaAcc:92.8% F1:0.9005\n"
          ]
        },
        {
          "output_type": "stream",
          "name": "stderr",
          "text": [
            "<ipython-input-15-893625c7e94b>:23: FutureWarning: `torch.cuda.amp.autocast(args...)` is deprecated. Please use `torch.amp.autocast('cuda', args...)` instead.\n",
            "  with torch.cuda.amp.autocast():\n"
          ]
        },
        {
          "output_type": "stream",
          "name": "stdout",
          "text": [
            "Rat08_HPC E27/100 TrLoss:0.1716 VaLoss:0.1606 TrAcc:93.0% VaAcc:92.4% F1:0.8955\n"
          ]
        },
        {
          "output_type": "stream",
          "name": "stderr",
          "text": [
            "<ipython-input-15-893625c7e94b>:23: FutureWarning: `torch.cuda.amp.autocast(args...)` is deprecated. Please use `torch.amp.autocast('cuda', args...)` instead.\n",
            "  with torch.cuda.amp.autocast():\n"
          ]
        },
        {
          "output_type": "stream",
          "name": "stdout",
          "text": [
            "Rat08_HPC E28/100 TrLoss:0.1736 VaLoss:0.1515 TrAcc:93.1% VaAcc:93.5% F1:0.9086\n"
          ]
        },
        {
          "output_type": "stream",
          "name": "stderr",
          "text": [
            "<ipython-input-15-893625c7e94b>:23: FutureWarning: `torch.cuda.amp.autocast(args...)` is deprecated. Please use `torch.amp.autocast('cuda', args...)` instead.\n",
            "  with torch.cuda.amp.autocast():\n"
          ]
        },
        {
          "output_type": "stream",
          "name": "stdout",
          "text": [
            "Rat08_HPC E29/100 TrLoss:0.1750 VaLoss:0.1477 TrAcc:92.7% VaAcc:93.3% F1:0.9063\n",
            " Early stopping.\n",
            "Test Acc: 92.95%\n",
            " [[343  24]\n",
            " [ 15 171]]\n",
            "              precision    recall  f1-score   support\n",
            "\n",
            "        WAKE       0.96      0.93      0.95       367\n",
            "        NREM       0.88      0.92      0.90       186\n",
            "\n",
            "    accuracy                           0.93       553\n",
            "   macro avg       0.92      0.93      0.92       553\n",
            "weighted avg       0.93      0.93      0.93       553\n",
            "\n"
          ]
        },
        {
          "output_type": "display_data",
          "data": {
            "text/plain": [
              "<Figure size 1200x400 with 2 Axes>"
            ],
            "image/png": "[encoded data removed]"
          },
          "metadata": {}
        },
        {
          "output_type": "stream",
          "name": "stdout",
          "text": [
            "\n",
            "=== SubjectHB10_BLA ===\n"
          ]
        },
        {
          "output_type": "stream",
          "name": "stderr",
          "text": [
            "/usr/local/lib/python3.11/dist-packages/torch/optim/lr_scheduler.py:62: UserWarning: The verbose parameter is deprecated. Please use get_last_lr() to access the learning rate.\n",
            "  warnings.warn(\n",
            "<ipython-input-15-893625c7e94b>:10: FutureWarning: `torch.cuda.amp.GradScaler(args...)` is deprecated. Please use `torch.amp.GradScaler('cuda', args...)` instead.\n",
            "  scaler = torch.cuda.amp.GradScaler()\n",
            "<ipython-input-15-893625c7e94b>:23: FutureWarning: `torch.cuda.amp.autocast(args...)` is deprecated. Please use `torch.amp.autocast('cuda', args...)` instead.\n",
            "  with torch.cuda.amp.autocast():\n"
          ]
        },
        {
          "output_type": "stream",
          "name": "stdout",
          "text": [
            "SubjectHB10_BLA E1/100 TrLoss:0.6295 VaLoss:0.5303 TrAcc:66.2% VaAcc:98.5% F1:0.9800\n",
            " ✓ saved\n"
          ]
        },
        {
          "output_type": "stream",
          "name": "stderr",
          "text": [
            "<ipython-input-15-893625c7e94b>:23: FutureWarning: `torch.cuda.amp.autocast(args...)` is deprecated. Please use `torch.amp.autocast('cuda', args...)` instead.\n",
            "  with torch.cuda.amp.autocast():\n"
          ]
        },
        {
          "output_type": "stream",
          "name": "stdout",
          "text": [
            "SubjectHB10_BLA E2/100 TrLoss:0.4496 VaLoss:0.3369 TrAcc:98.1% VaAcc:98.5% F1:0.9800\n"
          ]
        },
        {
          "output_type": "stream",
          "name": "stderr",
          "text": [
            "<ipython-input-15-893625c7e94b>:23: FutureWarning: `torch.cuda.amp.autocast(args...)` is deprecated. Please use `torch.amp.autocast('cuda', args...)` instead.\n",
            "  with torch.cuda.amp.autocast():\n"
          ]
        },
        {
          "output_type": "stream",
          "name": "stdout",
          "text": [
            "SubjectHB10_BLA E3/100 TrLoss:0.2713 VaLoss:0.1765 TrAcc:98.3% VaAcc:97.8% F1:0.9703\n"
          ]
        },
        {
          "output_type": "stream",
          "name": "stderr",
          "text": [
            "<ipython-input-15-893625c7e94b>:23: FutureWarning: `torch.cuda.amp.autocast(args...)` is deprecated. Please use `torch.amp.autocast('cuda', args...)` instead.\n",
            "  with torch.cuda.amp.autocast():\n"
          ]
        },
        {
          "output_type": "stream",
          "name": "stdout",
          "text": [
            "SubjectHB10_BLA E4/100 TrLoss:0.1425 VaLoss:0.0843 TrAcc:98.7% VaAcc:99.3% F1:0.9899\n",
            " ✓ saved\n"
          ]
        },
        {
          "output_type": "stream",
          "name": "stderr",
          "text": [
            "<ipython-input-15-893625c7e94b>:23: FutureWarning: `torch.cuda.amp.autocast(args...)` is deprecated. Please use `torch.amp.autocast('cuda', args...)` instead.\n",
            "  with torch.cuda.amp.autocast():\n"
          ]
        },
        {
          "output_type": "stream",
          "name": "stdout",
          "text": [
            "SubjectHB10_BLA E5/100 TrLoss:0.0806 VaLoss:0.0419 TrAcc:99.2% VaAcc:99.3% F1:0.9899\n"
          ]
        },
        {
          "output_type": "stream",
          "name": "stderr",
          "text": [
            "<ipython-input-15-893625c7e94b>:23: FutureWarning: `torch.cuda.amp.autocast(args...)` is deprecated. Please use `torch.amp.autocast('cuda', args...)` instead.\n",
            "  with torch.cuda.amp.autocast():\n"
          ]
        },
        {
          "output_type": "stream",
          "name": "stdout",
          "text": [
            "SubjectHB10_BLA E6/100 TrLoss:0.0545 VaLoss:0.0245 TrAcc:99.2% VaAcc:100.0% F1:1.0000\n",
            " ✓ saved\n"
          ]
        },
        {
          "output_type": "stream",
          "name": "stderr",
          "text": [
            "<ipython-input-15-893625c7e94b>:23: FutureWarning: `torch.cuda.amp.autocast(args...)` is deprecated. Please use `torch.amp.autocast('cuda', args...)` instead.\n",
            "  with torch.cuda.amp.autocast():\n"
          ]
        },
        {
          "output_type": "stream",
          "name": "stdout",
          "text": [
            "SubjectHB10_BLA E7/100 TrLoss:0.0424 VaLoss:0.0173 TrAcc:99.5% VaAcc:100.0% F1:1.0000\n"
          ]
        },
        {
          "output_type": "stream",
          "name": "stderr",
          "text": [
            "<ipython-input-15-893625c7e94b>:23: FutureWarning: `torch.cuda.amp.autocast(args...)` is deprecated. Please use `torch.amp.autocast('cuda', args...)` instead.\n",
            "  with torch.cuda.amp.autocast():\n"
          ]
        },
        {
          "output_type": "stream",
          "name": "stdout",
          "text": [
            "SubjectHB10_BLA E8/100 TrLoss:0.0241 VaLoss:0.0113 TrAcc:99.8% VaAcc:100.0% F1:1.0000\n"
          ]
        },
        {
          "output_type": "stream",
          "name": "stderr",
          "text": [
            "<ipython-input-15-893625c7e94b>:23: FutureWarning: `torch.cuda.amp.autocast(args...)` is deprecated. Please use `torch.amp.autocast('cuda', args...)` instead.\n",
            "  with torch.cuda.amp.autocast():\n"
          ]
        },
        {
          "output_type": "stream",
          "name": "stdout",
          "text": [
            "SubjectHB10_BLA E9/100 TrLoss:0.0143 VaLoss:0.0086 TrAcc:100.0% VaAcc:100.0% F1:1.0000\n"
          ]
        },
        {
          "output_type": "stream",
          "name": "stderr",
          "text": [
            "<ipython-input-15-893625c7e94b>:23: FutureWarning: `torch.cuda.amp.autocast(args...)` is deprecated. Please use `torch.amp.autocast('cuda', args...)` instead.\n",
            "  with torch.cuda.amp.autocast():\n"
          ]
        },
        {
          "output_type": "stream",
          "name": "stdout",
          "text": [
            "SubjectHB10_BLA E10/100 TrLoss:0.0128 VaLoss:0.0072 TrAcc:100.0% VaAcc:100.0% F1:1.0000\n"
          ]
        },
        {
          "output_type": "stream",
          "name": "stderr",
          "text": [
            "<ipython-input-15-893625c7e94b>:23: FutureWarning: `torch.cuda.amp.autocast(args...)` is deprecated. Please use `torch.amp.autocast('cuda', args...)` instead.\n",
            "  with torch.cuda.amp.autocast():\n"
          ]
        },
        {
          "output_type": "stream",
          "name": "stdout",
          "text": [
            "SubjectHB10_BLA E11/100 TrLoss:0.0126 VaLoss:0.0077 TrAcc:100.0% VaAcc:100.0% F1:1.0000\n"
          ]
        },
        {
          "output_type": "stream",
          "name": "stderr",
          "text": [
            "<ipython-input-15-893625c7e94b>:23: FutureWarning: `torch.cuda.amp.autocast(args...)` is deprecated. Please use `torch.amp.autocast('cuda', args...)` instead.\n",
            "  with torch.cuda.amp.autocast():\n"
          ]
        },
        {
          "output_type": "stream",
          "name": "stdout",
          "text": [
            "SubjectHB10_BLA E12/100 TrLoss:0.0096 VaLoss:0.0044 TrAcc:100.0% VaAcc:100.0% F1:1.0000\n"
          ]
        },
        {
          "output_type": "stream",
          "name": "stderr",
          "text": [
            "<ipython-input-15-893625c7e94b>:23: FutureWarning: `torch.cuda.amp.autocast(args...)` is deprecated. Please use `torch.amp.autocast('cuda', args...)` instead.\n",
            "  with torch.cuda.amp.autocast():\n"
          ]
        },
        {
          "output_type": "stream",
          "name": "stdout",
          "text": [
            "SubjectHB10_BLA E13/100 TrLoss:0.0114 VaLoss:0.0040 TrAcc:99.8% VaAcc:100.0% F1:1.0000\n"
          ]
        },
        {
          "output_type": "stream",
          "name": "stderr",
          "text": [
            "<ipython-input-15-893625c7e94b>:23: FutureWarning: `torch.cuda.amp.autocast(args...)` is deprecated. Please use `torch.amp.autocast('cuda', args...)` instead.\n",
            "  with torch.cuda.amp.autocast():\n"
          ]
        },
        {
          "output_type": "stream",
          "name": "stdout",
          "text": [
            "SubjectHB10_BLA E14/100 TrLoss:0.0083 VaLoss:0.0041 TrAcc:99.8% VaAcc:100.0% F1:1.0000\n"
          ]
        },
        {
          "output_type": "stream",
          "name": "stderr",
          "text": [
            "<ipython-input-15-893625c7e94b>:23: FutureWarning: `torch.cuda.amp.autocast(args...)` is deprecated. Please use `torch.amp.autocast('cuda', args...)` instead.\n",
            "  with torch.cuda.amp.autocast():\n"
          ]
        },
        {
          "output_type": "stream",
          "name": "stdout",
          "text": [
            "SubjectHB10_BLA E15/100 TrLoss:0.0089 VaLoss:0.0055 TrAcc:99.8% VaAcc:100.0% F1:1.0000\n"
          ]
        },
        {
          "output_type": "stream",
          "name": "stderr",
          "text": [
            "<ipython-input-15-893625c7e94b>:23: FutureWarning: `torch.cuda.amp.autocast(args...)` is deprecated. Please use `torch.amp.autocast('cuda', args...)` instead.\n",
            "  with torch.cuda.amp.autocast():\n"
          ]
        },
        {
          "output_type": "stream",
          "name": "stdout",
          "text": [
            "SubjectHB10_BLA E16/100 TrLoss:0.0102 VaLoss:0.0026 TrAcc:99.7% VaAcc:100.0% F1:1.0000\n",
            " Early stopping.\n",
            "Test Acc: 100.00%\n",
            " [[87  0]\n",
            " [ 0 50]]\n",
            "              precision    recall  f1-score   support\n",
            "\n",
            "        WAKE       1.00      1.00      1.00        87\n",
            "        NREM       1.00      1.00      1.00        50\n",
            "\n",
            "    accuracy                           1.00       137\n",
            "   macro avg       1.00      1.00      1.00       137\n",
            "weighted avg       1.00      1.00      1.00       137\n",
            "\n"
          ]
        },
        {
          "output_type": "display_data",
          "data": {
            "text/plain": [
              "<Figure size 1200x400 with 2 Axes>"
            ],
            "image/png": "[encoded data removed]"
          },
          "metadata": {}
        },
        {
          "output_type": "stream",
          "name": "stdout",
          "text": [
            "\n",
            "=== SubjectHB13_BLA ===\n"
          ]
        },
        {
          "output_type": "stream",
          "name": "stderr",
          "text": [
            "/usr/local/lib/python3.11/dist-packages/torch/optim/lr_scheduler.py:62: UserWarning: The verbose parameter is deprecated. Please use get_last_lr() to access the learning rate.\n",
            "  warnings.warn(\n",
            "<ipython-input-15-893625c7e94b>:10: FutureWarning: `torch.cuda.amp.GradScaler(args...)` is deprecated. Please use `torch.amp.GradScaler('cuda', args...)` instead.\n",
            "  scaler = torch.cuda.amp.GradScaler()\n",
            "<ipython-input-15-893625c7e94b>:23: FutureWarning: `torch.cuda.amp.autocast(args...)` is deprecated. Please use `torch.amp.autocast('cuda', args...)` instead.\n",
            "  with torch.cuda.amp.autocast():\n"
          ]
        },
        {
          "output_type": "stream",
          "name": "stdout",
          "text": [
            "SubjectHB13_BLA E1/100 TrLoss:0.6064 VaLoss:0.5240 TrAcc:87.5% VaAcc:91.2% F1:0.8696\n",
            " ✓ saved\n"
          ]
        },
        {
          "output_type": "stream",
          "name": "stderr",
          "text": [
            "<ipython-input-15-893625c7e94b>:23: FutureWarning: `torch.cuda.amp.autocast(args...)` is deprecated. Please use `torch.amp.autocast('cuda', args...)` instead.\n",
            "  with torch.cuda.amp.autocast():\n"
          ]
        },
        {
          "output_type": "stream",
          "name": "stdout",
          "text": [
            "SubjectHB13_BLA E2/100 TrLoss:0.4541 VaLoss:0.3714 TrAcc:93.0% VaAcc:89.1% F1:0.8421\n"
          ]
        },
        {
          "output_type": "stream",
          "name": "stderr",
          "text": [
            "<ipython-input-15-893625c7e94b>:23: FutureWarning: `torch.cuda.amp.autocast(args...)` is deprecated. Please use `torch.amp.autocast('cuda', args...)` instead.\n",
            "  with torch.cuda.amp.autocast():\n"
          ]
        },
        {
          "output_type": "stream",
          "name": "stdout",
          "text": [
            "SubjectHB13_BLA E3/100 TrLoss:0.3024 VaLoss:0.2613 TrAcc:93.1% VaAcc:89.1% F1:0.8421\n"
          ]
        },
        {
          "output_type": "stream",
          "name": "stderr",
          "text": [
            "<ipython-input-15-893625c7e94b>:23: FutureWarning: `torch.cuda.amp.autocast(args...)` is deprecated. Please use `torch.amp.autocast('cuda', args...)` instead.\n",
            "  with torch.cuda.amp.autocast():\n"
          ]
        },
        {
          "output_type": "stream",
          "name": "stdout",
          "text": [
            "SubjectHB13_BLA E4/100 TrLoss:0.1992 VaLoss:0.1965 TrAcc:94.7% VaAcc:89.8% F1:0.8542\n"
          ]
        },
        {
          "output_type": "stream",
          "name": "stderr",
          "text": [
            "<ipython-input-15-893625c7e94b>:23: FutureWarning: `torch.cuda.amp.autocast(args...)` is deprecated. Please use `torch.amp.autocast('cuda', args...)` instead.\n",
            "  with torch.cuda.amp.autocast():\n"
          ]
        },
        {
          "output_type": "stream",
          "name": "stdout",
          "text": [
            "SubjectHB13_BLA E5/100 TrLoss:0.1516 VaLoss:0.1742 TrAcc:94.4% VaAcc:91.2% F1:0.8723\n",
            " ✓ saved\n"
          ]
        },
        {
          "output_type": "stream",
          "name": "stderr",
          "text": [
            "<ipython-input-15-893625c7e94b>:23: FutureWarning: `torch.cuda.amp.autocast(args...)` is deprecated. Please use `torch.amp.autocast('cuda', args...)` instead.\n",
            "  with torch.cuda.amp.autocast():\n"
          ]
        },
        {
          "output_type": "stream",
          "name": "stdout",
          "text": [
            "SubjectHB13_BLA E6/100 TrLoss:0.1140 VaLoss:0.1600 TrAcc:96.7% VaAcc:92.7% F1:0.8913\n",
            " ✓ saved\n"
          ]
        },
        {
          "output_type": "stream",
          "name": "stderr",
          "text": [
            "<ipython-input-15-893625c7e94b>:23: FutureWarning: `torch.cuda.amp.autocast(args...)` is deprecated. Please use `torch.amp.autocast('cuda', args...)` instead.\n",
            "  with torch.cuda.amp.autocast():\n"
          ]
        },
        {
          "output_type": "stream",
          "name": "stdout",
          "text": [
            "SubjectHB13_BLA E7/100 TrLoss:0.0883 VaLoss:0.1520 TrAcc:97.5% VaAcc:92.7% F1:0.8913\n"
          ]
        },
        {
          "output_type": "stream",
          "name": "stderr",
          "text": [
            "<ipython-input-15-893625c7e94b>:23: FutureWarning: `torch.cuda.amp.autocast(args...)` is deprecated. Please use `torch.amp.autocast('cuda', args...)` instead.\n",
            "  with torch.cuda.amp.autocast():\n"
          ]
        },
        {
          "output_type": "stream",
          "name": "stdout",
          "text": [
            "SubjectHB13_BLA E8/100 TrLoss:0.0858 VaLoss:0.1309 TrAcc:97.3% VaAcc:92.7% F1:0.8958\n",
            " ✓ saved\n"
          ]
        },
        {
          "output_type": "stream",
          "name": "stderr",
          "text": [
            "<ipython-input-15-893625c7e94b>:23: FutureWarning: `torch.cuda.amp.autocast(args...)` is deprecated. Please use `torch.amp.autocast('cuda', args...)` instead.\n",
            "  with torch.cuda.amp.autocast():\n"
          ]
        },
        {
          "output_type": "stream",
          "name": "stdout",
          "text": [
            "SubjectHB13_BLA E9/100 TrLoss:0.0635 VaLoss:0.1456 TrAcc:97.7% VaAcc:93.4% F1:0.9011\n",
            " ✓ saved\n"
          ]
        },
        {
          "output_type": "stream",
          "name": "stderr",
          "text": [
            "<ipython-input-15-893625c7e94b>:23: FutureWarning: `torch.cuda.amp.autocast(args...)` is deprecated. Please use `torch.amp.autocast('cuda', args...)` instead.\n",
            "  with torch.cuda.amp.autocast():\n"
          ]
        },
        {
          "output_type": "stream",
          "name": "stdout",
          "text": [
            "SubjectHB13_BLA E10/100 TrLoss:0.0539 VaLoss:0.1371 TrAcc:98.7% VaAcc:94.2% F1:0.9149\n",
            " ✓ saved\n"
          ]
        },
        {
          "output_type": "stream",
          "name": "stderr",
          "text": [
            "<ipython-input-15-893625c7e94b>:23: FutureWarning: `torch.cuda.amp.autocast(args...)` is deprecated. Please use `torch.amp.autocast('cuda', args...)` instead.\n",
            "  with torch.cuda.amp.autocast():\n"
          ]
        },
        {
          "output_type": "stream",
          "name": "stdout",
          "text": [
            "SubjectHB13_BLA E11/100 TrLoss:0.0511 VaLoss:0.1342 TrAcc:98.1% VaAcc:94.2% F1:0.9149\n"
          ]
        },
        {
          "output_type": "stream",
          "name": "stderr",
          "text": [
            "<ipython-input-15-893625c7e94b>:23: FutureWarning: `torch.cuda.amp.autocast(args...)` is deprecated. Please use `torch.amp.autocast('cuda', args...)` instead.\n",
            "  with torch.cuda.amp.autocast():\n"
          ]
        },
        {
          "output_type": "stream",
          "name": "stdout",
          "text": [
            "SubjectHB13_BLA E12/100 TrLoss:0.0531 VaLoss:0.1439 TrAcc:98.1% VaAcc:94.9% F1:0.9247\n",
            " ✓ saved\n"
          ]
        },
        {
          "output_type": "stream",
          "name": "stderr",
          "text": [
            "<ipython-input-15-893625c7e94b>:23: FutureWarning: `torch.cuda.amp.autocast(args...)` is deprecated. Please use `torch.amp.autocast('cuda', args...)` instead.\n",
            "  with torch.cuda.amp.autocast():\n"
          ]
        },
        {
          "output_type": "stream",
          "name": "stdout",
          "text": [
            "SubjectHB13_BLA E13/100 TrLoss:0.0391 VaLoss:0.1272 TrAcc:98.6% VaAcc:94.2% F1:0.9149\n"
          ]
        },
        {
          "output_type": "stream",
          "name": "stderr",
          "text": [
            "<ipython-input-15-893625c7e94b>:23: FutureWarning: `torch.cuda.amp.autocast(args...)` is deprecated. Please use `torch.amp.autocast('cuda', args...)` instead.\n",
            "  with torch.cuda.amp.autocast():\n"
          ]
        },
        {
          "output_type": "stream",
          "name": "stdout",
          "text": [
            "SubjectHB13_BLA E14/100 TrLoss:0.0456 VaLoss:0.1490 TrAcc:98.7% VaAcc:95.6% F1:0.9348\n",
            " ✓ saved\n"
          ]
        },
        {
          "output_type": "stream",
          "name": "stderr",
          "text": [
            "<ipython-input-15-893625c7e94b>:23: FutureWarning: `torch.cuda.amp.autocast(args...)` is deprecated. Please use `torch.amp.autocast('cuda', args...)` instead.\n",
            "  with torch.cuda.amp.autocast():\n"
          ]
        },
        {
          "output_type": "stream",
          "name": "stdout",
          "text": [
            "SubjectHB13_BLA E15/100 TrLoss:0.0422 VaLoss:0.1322 TrAcc:98.7% VaAcc:94.9% F1:0.9247\n"
          ]
        },
        {
          "output_type": "stream",
          "name": "stderr",
          "text": [
            "<ipython-input-15-893625c7e94b>:23: FutureWarning: `torch.cuda.amp.autocast(args...)` is deprecated. Please use `torch.amp.autocast('cuda', args...)` instead.\n",
            "  with torch.cuda.amp.autocast():\n"
          ]
        },
        {
          "output_type": "stream",
          "name": "stdout",
          "text": [
            "SubjectHB13_BLA E16/100 TrLoss:0.0419 VaLoss:0.1322 TrAcc:98.6% VaAcc:94.9% F1:0.9247\n"
          ]
        },
        {
          "output_type": "stream",
          "name": "stderr",
          "text": [
            "<ipython-input-15-893625c7e94b>:23: FutureWarning: `torch.cuda.amp.autocast(args...)` is deprecated. Please use `torch.amp.autocast('cuda', args...)` instead.\n",
            "  with torch.cuda.amp.autocast():\n"
          ]
        },
        {
          "output_type": "stream",
          "name": "stdout",
          "text": [
            "SubjectHB13_BLA E17/100 TrLoss:0.0432 VaLoss:0.1404 TrAcc:98.3% VaAcc:95.6% F1:0.9348\n"
          ]
        },
        {
          "output_type": "stream",
          "name": "stderr",
          "text": [
            "<ipython-input-15-893625c7e94b>:23: FutureWarning: `torch.cuda.amp.autocast(args...)` is deprecated. Please use `torch.amp.autocast('cuda', args...)` instead.\n",
            "  with torch.cuda.amp.autocast():\n"
          ]
        },
        {
          "output_type": "stream",
          "name": "stdout",
          "text": [
            "SubjectHB13_BLA E18/100 TrLoss:0.0367 VaLoss:0.1109 TrAcc:98.9% VaAcc:94.9% F1:0.9247\n"
          ]
        },
        {
          "output_type": "stream",
          "name": "stderr",
          "text": [
            "<ipython-input-15-893625c7e94b>:23: FutureWarning: `torch.cuda.amp.autocast(args...)` is deprecated. Please use `torch.amp.autocast('cuda', args...)` instead.\n",
            "  with torch.cuda.amp.autocast():\n"
          ]
        },
        {
          "output_type": "stream",
          "name": "stdout",
          "text": [
            "SubjectHB13_BLA E19/100 TrLoss:0.0394 VaLoss:0.1153 TrAcc:98.6% VaAcc:94.9% F1:0.9247\n"
          ]
        },
        {
          "output_type": "stream",
          "name": "stderr",
          "text": [
            "<ipython-input-15-893625c7e94b>:23: FutureWarning: `torch.cuda.amp.autocast(args...)` is deprecated. Please use `torch.amp.autocast('cuda', args...)` instead.\n",
            "  with torch.cuda.amp.autocast():\n"
          ]
        },
        {
          "output_type": "stream",
          "name": "stdout",
          "text": [
            "SubjectHB13_BLA E20/100 TrLoss:0.0331 VaLoss:0.1156 TrAcc:99.1% VaAcc:97.1% F1:0.9556\n",
            " ✓ saved\n"
          ]
        },
        {
          "output_type": "stream",
          "name": "stderr",
          "text": [
            "<ipython-input-15-893625c7e94b>:23: FutureWarning: `torch.cuda.amp.autocast(args...)` is deprecated. Please use `torch.amp.autocast('cuda', args...)` instead.\n",
            "  with torch.cuda.amp.autocast():\n"
          ]
        },
        {
          "output_type": "stream",
          "name": "stdout",
          "text": [
            "SubjectHB13_BLA E21/100 TrLoss:0.0364 VaLoss:0.0857 TrAcc:98.9% VaAcc:95.6% F1:0.9362\n"
          ]
        },
        {
          "output_type": "stream",
          "name": "stderr",
          "text": [
            "<ipython-input-15-893625c7e94b>:23: FutureWarning: `torch.cuda.amp.autocast(args...)` is deprecated. Please use `torch.amp.autocast('cuda', args...)` instead.\n",
            "  with torch.cuda.amp.autocast():\n"
          ]
        },
        {
          "output_type": "stream",
          "name": "stdout",
          "text": [
            "SubjectHB13_BLA E22/100 TrLoss:0.0266 VaLoss:0.0974 TrAcc:99.1% VaAcc:96.4% F1:0.9451\n"
          ]
        },
        {
          "output_type": "stream",
          "name": "stderr",
          "text": [
            "<ipython-input-15-893625c7e94b>:23: FutureWarning: `torch.cuda.amp.autocast(args...)` is deprecated. Please use `torch.amp.autocast('cuda', args...)` instead.\n",
            "  with torch.cuda.amp.autocast():\n"
          ]
        },
        {
          "output_type": "stream",
          "name": "stdout",
          "text": [
            "SubjectHB13_BLA E23/100 TrLoss:0.0321 VaLoss:0.0913 TrAcc:99.1% VaAcc:95.6% F1:0.9348\n"
          ]
        },
        {
          "output_type": "stream",
          "name": "stderr",
          "text": [
            "<ipython-input-15-893625c7e94b>:23: FutureWarning: `torch.cuda.amp.autocast(args...)` is deprecated. Please use `torch.amp.autocast('cuda', args...)` instead.\n",
            "  with torch.cuda.amp.autocast():\n"
          ]
        },
        {
          "output_type": "stream",
          "name": "stdout",
          "text": [
            "SubjectHB13_BLA E24/100 TrLoss:0.0202 VaLoss:0.0907 TrAcc:99.2% VaAcc:96.4% F1:0.9451\n"
          ]
        },
        {
          "output_type": "stream",
          "name": "stderr",
          "text": [
            "<ipython-input-15-893625c7e94b>:23: FutureWarning: `torch.cuda.amp.autocast(args...)` is deprecated. Please use `torch.amp.autocast('cuda', args...)` instead.\n",
            "  with torch.cuda.amp.autocast():\n"
          ]
        },
        {
          "output_type": "stream",
          "name": "stdout",
          "text": [
            "SubjectHB13_BLA E25/100 TrLoss:0.0345 VaLoss:0.0703 TrAcc:99.1% VaAcc:96.4% F1:0.9462\n"
          ]
        },
        {
          "output_type": "stream",
          "name": "stderr",
          "text": [
            "<ipython-input-15-893625c7e94b>:23: FutureWarning: `torch.cuda.amp.autocast(args...)` is deprecated. Please use `torch.amp.autocast('cuda', args...)` instead.\n",
            "  with torch.cuda.amp.autocast():\n"
          ]
        },
        {
          "output_type": "stream",
          "name": "stdout",
          "text": [
            "SubjectHB13_BLA E26/100 TrLoss:0.0272 VaLoss:0.0703 TrAcc:99.4% VaAcc:96.4% F1:0.9462\n"
          ]
        },
        {
          "output_type": "stream",
          "name": "stderr",
          "text": [
            "<ipython-input-15-893625c7e94b>:23: FutureWarning: `torch.cuda.amp.autocast(args...)` is deprecated. Please use `torch.amp.autocast('cuda', args...)` instead.\n",
            "  with torch.cuda.amp.autocast():\n"
          ]
        },
        {
          "output_type": "stream",
          "name": "stdout",
          "text": [
            "SubjectHB13_BLA E27/100 TrLoss:0.0336 VaLoss:0.0757 TrAcc:98.9% VaAcc:97.1% F1:0.9556\n"
          ]
        },
        {
          "output_type": "stream",
          "name": "stderr",
          "text": [
            "<ipython-input-15-893625c7e94b>:23: FutureWarning: `torch.cuda.amp.autocast(args...)` is deprecated. Please use `torch.amp.autocast('cuda', args...)` instead.\n",
            "  with torch.cuda.amp.autocast():\n"
          ]
        },
        {
          "output_type": "stream",
          "name": "stdout",
          "text": [
            "SubjectHB13_BLA E28/100 TrLoss:0.0253 VaLoss:0.0700 TrAcc:98.9% VaAcc:96.4% F1:0.9462\n"
          ]
        },
        {
          "output_type": "stream",
          "name": "stderr",
          "text": [
            "<ipython-input-15-893625c7e94b>:23: FutureWarning: `torch.cuda.amp.autocast(args...)` is deprecated. Please use `torch.amp.autocast('cuda', args...)` instead.\n",
            "  with torch.cuda.amp.autocast():\n"
          ]
        },
        {
          "output_type": "stream",
          "name": "stdout",
          "text": [
            "SubjectHB13_BLA E29/100 TrLoss:0.0243 VaLoss:0.0615 TrAcc:99.2% VaAcc:97.1% F1:0.9565\n",
            " ✓ saved\n"
          ]
        },
        {
          "output_type": "stream",
          "name": "stderr",
          "text": [
            "<ipython-input-15-893625c7e94b>:23: FutureWarning: `torch.cuda.amp.autocast(args...)` is deprecated. Please use `torch.amp.autocast('cuda', args...)` instead.\n",
            "  with torch.cuda.amp.autocast():\n"
          ]
        },
        {
          "output_type": "stream",
          "name": "stdout",
          "text": [
            "SubjectHB13_BLA E30/100 TrLoss:0.0247 VaLoss:0.0748 TrAcc:99.2% VaAcc:97.1% F1:0.9556\n"
          ]
        },
        {
          "output_type": "stream",
          "name": "stderr",
          "text": [
            "<ipython-input-15-893625c7e94b>:23: FutureWarning: `torch.cuda.amp.autocast(args...)` is deprecated. Please use `torch.amp.autocast('cuda', args...)` instead.\n",
            "  with torch.cuda.amp.autocast():\n"
          ]
        },
        {
          "output_type": "stream",
          "name": "stdout",
          "text": [
            "SubjectHB13_BLA E31/100 TrLoss:0.0264 VaLoss:0.0541 TrAcc:99.4% VaAcc:95.6% F1:0.9362\n"
          ]
        },
        {
          "output_type": "stream",
          "name": "stderr",
          "text": [
            "<ipython-input-15-893625c7e94b>:23: FutureWarning: `torch.cuda.amp.autocast(args...)` is deprecated. Please use `torch.amp.autocast('cuda', args...)` instead.\n",
            "  with torch.cuda.amp.autocast():\n"
          ]
        },
        {
          "output_type": "stream",
          "name": "stdout",
          "text": [
            "SubjectHB13_BLA E32/100 TrLoss:0.0277 VaLoss:0.0545 TrAcc:99.4% VaAcc:95.6% F1:0.9362\n"
          ]
        },
        {
          "output_type": "stream",
          "name": "stderr",
          "text": [
            "<ipython-input-15-893625c7e94b>:23: FutureWarning: `torch.cuda.amp.autocast(args...)` is deprecated. Please use `torch.amp.autocast('cuda', args...)` instead.\n",
            "  with torch.cuda.amp.autocast():\n"
          ]
        },
        {
          "output_type": "stream",
          "name": "stdout",
          "text": [
            "SubjectHB13_BLA E33/100 TrLoss:0.0303 VaLoss:0.0560 TrAcc:98.4% VaAcc:97.1% F1:0.9565\n"
          ]
        },
        {
          "output_type": "stream",
          "name": "stderr",
          "text": [
            "<ipython-input-15-893625c7e94b>:23: FutureWarning: `torch.cuda.amp.autocast(args...)` is deprecated. Please use `torch.amp.autocast('cuda', args...)` instead.\n",
            "  with torch.cuda.amp.autocast():\n"
          ]
        },
        {
          "output_type": "stream",
          "name": "stdout",
          "text": [
            "SubjectHB13_BLA E34/100 TrLoss:0.0220 VaLoss:0.0568 TrAcc:99.8% VaAcc:97.1% F1:0.9565\n"
          ]
        },
        {
          "output_type": "stream",
          "name": "stderr",
          "text": [
            "<ipython-input-15-893625c7e94b>:23: FutureWarning: `torch.cuda.amp.autocast(args...)` is deprecated. Please use `torch.amp.autocast('cuda', args...)` instead.\n",
            "  with torch.cuda.amp.autocast():\n"
          ]
        },
        {
          "output_type": "stream",
          "name": "stdout",
          "text": [
            "SubjectHB13_BLA E35/100 TrLoss:0.0138 VaLoss:0.0539 TrAcc:99.7% VaAcc:95.6% F1:0.9362\n"
          ]
        },
        {
          "output_type": "stream",
          "name": "stderr",
          "text": [
            "<ipython-input-15-893625c7e94b>:23: FutureWarning: `torch.cuda.amp.autocast(args...)` is deprecated. Please use `torch.amp.autocast('cuda', args...)` instead.\n",
            "  with torch.cuda.amp.autocast():\n"
          ]
        },
        {
          "output_type": "stream",
          "name": "stdout",
          "text": [
            "SubjectHB13_BLA E36/100 TrLoss:0.0208 VaLoss:0.0518 TrAcc:99.4% VaAcc:97.8% F1:0.9670\n",
            " ✓ saved\n"
          ]
        },
        {
          "output_type": "stream",
          "name": "stderr",
          "text": [
            "<ipython-input-15-893625c7e94b>:23: FutureWarning: `torch.cuda.amp.autocast(args...)` is deprecated. Please use `torch.amp.autocast('cuda', args...)` instead.\n",
            "  with torch.cuda.amp.autocast():\n"
          ]
        },
        {
          "output_type": "stream",
          "name": "stdout",
          "text": [
            "SubjectHB13_BLA E37/100 TrLoss:0.0234 VaLoss:0.0474 TrAcc:99.1% VaAcc:97.1% F1:0.9565\n"
          ]
        },
        {
          "output_type": "stream",
          "name": "stderr",
          "text": [
            "<ipython-input-15-893625c7e94b>:23: FutureWarning: `torch.cuda.amp.autocast(args...)` is deprecated. Please use `torch.amp.autocast('cuda', args...)` instead.\n",
            "  with torch.cuda.amp.autocast():\n"
          ]
        },
        {
          "output_type": "stream",
          "name": "stdout",
          "text": [
            "SubjectHB13_BLA E38/100 TrLoss:0.0197 VaLoss:0.0454 TrAcc:99.4% VaAcc:97.1% F1:0.9565\n"
          ]
        },
        {
          "output_type": "stream",
          "name": "stderr",
          "text": [
            "<ipython-input-15-893625c7e94b>:23: FutureWarning: `torch.cuda.amp.autocast(args...)` is deprecated. Please use `torch.amp.autocast('cuda', args...)` instead.\n",
            "  with torch.cuda.amp.autocast():\n"
          ]
        },
        {
          "output_type": "stream",
          "name": "stdout",
          "text": [
            "SubjectHB13_BLA E39/100 TrLoss:0.0180 VaLoss:0.0435 TrAcc:99.4% VaAcc:97.1% F1:0.9565\n"
          ]
        },
        {
          "output_type": "stream",
          "name": "stderr",
          "text": [
            "<ipython-input-15-893625c7e94b>:23: FutureWarning: `torch.cuda.amp.autocast(args...)` is deprecated. Please use `torch.amp.autocast('cuda', args...)` instead.\n",
            "  with torch.cuda.amp.autocast():\n"
          ]
        },
        {
          "output_type": "stream",
          "name": "stdout",
          "text": [
            "SubjectHB13_BLA E40/100 TrLoss:0.0149 VaLoss:0.0486 TrAcc:99.5% VaAcc:97.8% F1:0.9670\n"
          ]
        },
        {
          "output_type": "stream",
          "name": "stderr",
          "text": [
            "<ipython-input-15-893625c7e94b>:23: FutureWarning: `torch.cuda.amp.autocast(args...)` is deprecated. Please use `torch.amp.autocast('cuda', args...)` instead.\n",
            "  with torch.cuda.amp.autocast():\n"
          ]
        },
        {
          "output_type": "stream",
          "name": "stdout",
          "text": [
            "SubjectHB13_BLA E41/100 TrLoss:0.0184 VaLoss:0.0488 TrAcc:99.5% VaAcc:97.8% F1:0.9670\n"
          ]
        },
        {
          "output_type": "stream",
          "name": "stderr",
          "text": [
            "<ipython-input-15-893625c7e94b>:23: FutureWarning: `torch.cuda.amp.autocast(args...)` is deprecated. Please use `torch.amp.autocast('cuda', args...)` instead.\n",
            "  with torch.cuda.amp.autocast():\n"
          ]
        },
        {
          "output_type": "stream",
          "name": "stdout",
          "text": [
            "SubjectHB13_BLA E42/100 TrLoss:0.0225 VaLoss:0.0416 TrAcc:99.2% VaAcc:97.8% F1:0.9670\n"
          ]
        },
        {
          "output_type": "stream",
          "name": "stderr",
          "text": [
            "<ipython-input-15-893625c7e94b>:23: FutureWarning: `torch.cuda.amp.autocast(args...)` is deprecated. Please use `torch.amp.autocast('cuda', args...)` instead.\n",
            "  with torch.cuda.amp.autocast():\n"
          ]
        },
        {
          "output_type": "stream",
          "name": "stdout",
          "text": [
            "SubjectHB13_BLA E43/100 TrLoss:0.0162 VaLoss:0.0425 TrAcc:99.4% VaAcc:95.6% F1:0.9362\n"
          ]
        },
        {
          "output_type": "stream",
          "name": "stderr",
          "text": [
            "<ipython-input-15-893625c7e94b>:23: FutureWarning: `torch.cuda.amp.autocast(args...)` is deprecated. Please use `torch.amp.autocast('cuda', args...)` instead.\n",
            "  with torch.cuda.amp.autocast():\n"
          ]
        },
        {
          "output_type": "stream",
          "name": "stdout",
          "text": [
            "SubjectHB13_BLA E44/100 TrLoss:0.0126 VaLoss:0.0410 TrAcc:99.7% VaAcc:97.1% F1:0.9565\n"
          ]
        },
        {
          "output_type": "stream",
          "name": "stderr",
          "text": [
            "<ipython-input-15-893625c7e94b>:23: FutureWarning: `torch.cuda.amp.autocast(args...)` is deprecated. Please use `torch.amp.autocast('cuda', args...)` instead.\n",
            "  with torch.cuda.amp.autocast():\n"
          ]
        },
        {
          "output_type": "stream",
          "name": "stdout",
          "text": [
            "SubjectHB13_BLA E45/100 TrLoss:0.0204 VaLoss:0.0412 TrAcc:99.1% VaAcc:97.1% F1:0.9565\n"
          ]
        },
        {
          "output_type": "stream",
          "name": "stderr",
          "text": [
            "<ipython-input-15-893625c7e94b>:23: FutureWarning: `torch.cuda.amp.autocast(args...)` is deprecated. Please use `torch.amp.autocast('cuda', args...)` instead.\n",
            "  with torch.cuda.amp.autocast():\n"
          ]
        },
        {
          "output_type": "stream",
          "name": "stdout",
          "text": [
            "SubjectHB13_BLA E46/100 TrLoss:0.0197 VaLoss:0.0421 TrAcc:99.4% VaAcc:97.8% F1:0.9670\n",
            " Early stopping.\n",
            "Test Acc: 98.54%\n",
            " [[91  2]\n",
            " [ 0 44]]\n",
            "              precision    recall  f1-score   support\n",
            "\n",
            "        WAKE       1.00      0.98      0.99        93\n",
            "        NREM       0.96      1.00      0.98        44\n",
            "\n",
            "    accuracy                           0.99       137\n",
            "   macro avg       0.98      0.99      0.98       137\n",
            "weighted avg       0.99      0.99      0.99       137\n",
            "\n"
          ]
        },
        {
          "output_type": "display_data",
          "data": {
            "text/plain": [
              "<Figure size 1200x400 with 2 Axes>"
            ],
            "image/png": "[encoded data removed]"
          },
          "metadata": {}
        }
      ]
    }
  ]
}