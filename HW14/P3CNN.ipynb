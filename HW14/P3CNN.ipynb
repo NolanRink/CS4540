{
  "nbformat": 4,
  "nbformat_minor": 0,
  "metadata": {
    "colab": {
      "provenance": [],
      "gpuType": "T4",
      "authorship_tag": "ABX9TyOp2FKBSrgghAGowpEiuxMB",
      "include_colab_link": true
    },
    "kernelspec": {
      "name": "python3",
      "display_name": "Python 3"
    },
    "language_info": {
      "name": "python"
    },
    "accelerator": "GPU"
  },
  "cells": [
    {
      "cell_type": "markdown",
      "metadata": {
        "id": "view-in-github",
        "colab_type": "text"
      },
      "source": [
        "<a href=\"https://colab.research.google.com/github/NolanRink/CS4540/blob/main/HW14/P3CNN.ipynb\" target=\"_parent\"><img src=\"https://colab.research.google.com/assets/colab-badge.svg\" alt=\"Open In Colab\"/></a>"
      ]
    },
    {
      "cell_type": "code",
      "source": [
        "import torch\n",
        "print(torch.cuda.is_available())   # should print True\n",
        "!nvidia-smi                        # shows the GPU details\n"
      ],
      "metadata": {
        "colab": {
          "base_uri": "https://localhost:8080/"
        },
        "id": "XojvK9lmscFT",
        "outputId": "60b0f5ef-a184-4bc3-89ac-621173b3b3a0"
      },
      "execution_count": 1,
      "outputs": [
        {
          "output_type": "stream",
          "name": "stdout",
          "text": [
            "True\n",
            "Mon Apr 28 23:25:43 2025       \n",
            "+-----------------------------------------------------------------------------------------+\n",
            "| NVIDIA-SMI 550.54.15              Driver Version: 550.54.15      CUDA Version: 12.4     |\n",
            "|-----------------------------------------+------------------------+----------------------+\n",
            "| GPU  Name                 Persistence-M | Bus-Id          Disp.A | Volatile Uncorr. ECC |\n",
            "| Fan  Temp   Perf          Pwr:Usage/Cap |           Memory-Usage | GPU-Util  Compute M. |\n",
            "|                                         |                        |               MIG M. |\n",
            "|=========================================+========================+======================|\n",
            "|   0  Tesla T4                       Off |   00000000:00:04.0 Off |                    0 |\n",
            "| N/A   39C    P8              9W /   70W |       2MiB /  15360MiB |      0%      Default |\n",
            "|                                         |                        |                  N/A |\n",
            "+-----------------------------------------+------------------------+----------------------+\n",
            "                                                                                         \n",
            "+-----------------------------------------------------------------------------------------+\n",
            "| Processes:                                                                              |\n",
            "|  GPU   GI   CI        PID   Type   Process name                              GPU Memory |\n",
            "|        ID   ID                                                               Usage      |\n",
            "|=========================================================================================|\n",
            "|  No running processes found                                                             |\n",
            "+-----------------------------------------------------------------------------------------+\n"
          ]
        }
      ]
    },
    {
      "cell_type": "code",
      "source": [
        "device = torch.device(\"cuda\" if torch.cuda.is_available() else \"cpu\")\n",
        "print(\"Using device:\", device)\n"
      ],
      "metadata": {
        "colab": {
          "base_uri": "https://localhost:8080/"
        },
        "id": "86SDh55-sdxg",
        "outputId": "9e960191-9ab1-4d58-ffb0-c98dae71da59"
      },
      "execution_count": 13,
      "outputs": [
        {
          "output_type": "stream",
          "name": "stdout",
          "text": [
            "Using device: cuda\n"
          ]
        }
      ]
    },
    {
      "cell_type": "markdown",
      "source": [
        "## 1. Imports and Device Setup\n",
        "Import all required Python libraries and configure cuDNN for optimized convolutions. Detect whether a CUDA GPU is available and set the `device` accordingly for all tensor operations."
      ],
      "metadata": {
        "id": "oZ24Jiq5Df1_"
      }
    },
    {
      "cell_type": "code",
      "source": [
        "import h5py\n",
        "import numpy as np\n",
        "import torch\n",
        "import torch.nn as nn\n",
        "import torch.nn.functional as F\n",
        "import torch.optim as optim\n",
        "from torch.utils.data import TensorDataset, DataLoader\n",
        "from torch.cuda.amp import GradScaler, autocast\n",
        "from sklearn.model_selection import train_test_split\n",
        "from sklearn.metrics import confusion_matrix\n",
        "import matplotlib.pyplot as plt\n",
        "\n",
        "torch.backends.cudnn.benchmark = True\n",
        "device = torch.device(\"cuda\" if torch.cuda.is_available() else \"cpu\")\n",
        "print(\"Using device:\", device)\n"
      ],
      "metadata": {
        "colab": {
          "base_uri": "https://localhost:8080/"
        },
        "id": "n7gZsfjrr81H",
        "outputId": "14819b5d-3635-4da6-a74b-5801751c3c8a"
      },
      "execution_count": 14,
      "outputs": [
        {
          "output_type": "stream",
          "name": "stdout",
          "text": [
            "Using device: cuda\n"
          ]
        }
      ]
    },
    {
      "cell_type": "markdown",
      "source": [
        "## 2. Data Loading\n",
        "Load the raw LFP recordings for each subject from the provided HDF5 files. Assign binary labels (`0=WAKE`, `1=NREM`) to each segment and store the data and sampling rates in a dictionary.\n"
      ],
      "metadata": {
        "id": "CRqJsHDoDoGw"
      }
    },
    {
      "cell_type": "code",
      "source": [
        "files = [\"Rat08-20130711_017.h5\", \"Part1SubjectHB10.h5\", \"Part2SubjectHB13.h5\"]\n",
        "subject_names = [\"Rat08_HPC\", \"SubjectHB10_BLA\", \"SubjectHB13_BLA\"]\n",
        "\n",
        "data_dict = {}\n",
        "for subject, filename in zip(subject_names, files):\n",
        "    segments, labels = [], []\n",
        "    with h5py.File(filename, 'r') as f:\n",
        "        fs = f.attrs.get('fs', 1250)\n",
        "        for state in f.keys():\n",
        "            lab = 1 if state == \"NREM\" else 0\n",
        "            for seg in f[state].values():\n",
        "                segments.append(seg[()].astype(float))\n",
        "                labels.append(lab)\n",
        "    data_dict[subject] = {\"segments\": segments, \"labels\": np.array(labels), \"fs\": fs}\n",
        "    print(f\"{subject}: Loaded {len(segments)} segments\")\n"
      ],
      "metadata": {
        "colab": {
          "base_uri": "https://localhost:8080/"
        },
        "id": "_-UFQUW0szsX",
        "outputId": "ef945247-9562-4017-c6f3-b0e5f7870ed5"
      },
      "execution_count": 15,
      "outputs": [
        {
          "output_type": "stream",
          "name": "stdout",
          "text": [
            "Rat08_HPC: Loaded 96 segments\n",
            "SubjectHB10_BLA: Loaded 55 segments\n",
            "SubjectHB13_BLA: Loaded 41 segments\n"
          ]
        }
      ]
    },
    {
      "cell_type": "markdown",
      "source": [
        "## 3. Preprocessing: 5-Second Clip Segmentation\n",
        "Break each continuous recording into fixed 5-second clips (based on sampling rate) and discard any partial segments. Assemble all clips and corresponding labels into NumPy arrays for each subject."
      ],
      "metadata": {
        "id": "44RQj-cPDq03"
      }
    },
    {
      "cell_type": "code",
      "source": [
        "clip_duration = 5\n",
        "processed_data = {}\n",
        "for subject in subject_names:\n",
        "    fs = data_dict[subject][\"fs\"]\n",
        "    clip_length = int(clip_duration * fs)\n",
        "    Xc, yc = [], []\n",
        "    segs, labs = data_dict[subject][\"segments\"], data_dict[subject][\"labels\"]\n",
        "    for seg, lab in zip(segs, labs):\n",
        "        if len(seg) < clip_length:\n",
        "            continue\n",
        "        n = len(seg) // clip_length\n",
        "        clips = seg[:n * clip_length].reshape(n, clip_length)\n",
        "        Xc.extend(clips)\n",
        "        yc.extend([lab]*n)\n",
        "    Xc, yc = np.array(Xc), np.array(yc)\n",
        "    print(f\"{subject}: {len(Xc)} clips ({yc.sum()} NREM, {len(yc)-yc.sum()} WAKE)\")\n",
        "    processed_data[subject] = {\"X\": Xc, \"y\": yc, \"fs\": fs}\n"
      ],
      "metadata": {
        "colab": {
          "base_uri": "https://localhost:8080/"
        },
        "id": "k9Ne7ZMIs0kM",
        "outputId": "110e03b5-acc3-4c47-804e-8ac5390d02ff"
      },
      "execution_count": 16,
      "outputs": [
        {
          "output_type": "stream",
          "name": "stdout",
          "text": [
            "Rat08_HPC: 3682 clips (1239 NREM, 2443 WAKE)\n",
            "SubjectHB10_BLA: 907 clips (330 NREM, 577 WAKE)\n",
            "SubjectHB13_BLA: 913 clips (295 NREM, 618 WAKE)\n"
          ]
        },
        {
          "output_type": "stream",
          "name": "stderr",
          "text": [
            "<ipython-input-16-32e70e6ec7f1>:6: DeprecationWarning: Conversion of an array with ndim > 0 to a scalar is deprecated, and will error in future. Ensure you extract a single element from your array before performing this operation. (Deprecated NumPy 1.25.)\n",
            "  clip_length = int(clip_duration * fs)\n"
          ]
        }
      ]
    },
    {
      "cell_type": "markdown",
      "source": [
        "## 4. Train/Validation/Test Split & Normalization\n",
        "Split each subject’s clips into train (70%), validation (15%), and test (15%) sets using stratified sampling to preserve class balance. Compute the training-set mean and standard deviation, then apply z-score normalization to all splits.\n"
      ],
      "metadata": {
        "id": "RxWEZoyeDuHJ"
      }
    },
    {
      "cell_type": "code",
      "source": [
        "splits = {}\n",
        "for subject in subject_names:\n",
        "    X, y = processed_data[subject][\"X\"], processed_data[subject][\"y\"]\n",
        "    X_tv, X_test, y_tv, y_test = train_test_split(\n",
        "        X, y, test_size=0.15, random_state=42, stratify=y)\n",
        "    X_train, X_val, y_train, y_val = train_test_split(\n",
        "        X_tv, y_tv, test_size=0.15/0.85, random_state=42, stratify=y_tv)\n",
        "    m, s = X_train.mean(), X_train.std()\n",
        "    splits[subject] = {\n",
        "        \"X_train\": (X_train - m)/s, \"y_train\": y_train,\n",
        "        \"X_val\":   (X_val   - m)/s, \"y_val\":   y_val,\n",
        "        \"X_test\":  (X_test  - m)/s, \"y_test\":  y_test\n",
        "    }\n",
        "    print(f\"{subject}: Train={len(y_train)}, Val={len(y_val)}, Test={len(y_test)}\")\n"
      ],
      "metadata": {
        "colab": {
          "base_uri": "https://localhost:8080/"
        },
        "id": "sBtR17ozs1dv",
        "outputId": "b9718f3e-8fdc-4695-e28a-6b2f28be428b"
      },
      "execution_count": 17,
      "outputs": [
        {
          "output_type": "stream",
          "name": "stdout",
          "text": [
            "Rat08_HPC: Train=2576, Val=553, Test=553\n",
            "SubjectHB10_BLA: Train=634, Val=136, Test=137\n",
            "SubjectHB13_BLA: Train=639, Val=137, Test=137\n"
          ]
        }
      ]
    },
    {
      "cell_type": "markdown",
      "source": [
        "## 5. DataLoaders with Mini-batching\n",
        "Convert the normalized NumPy arrays into PyTorch `TensorDataset` objects and wrap them in `DataLoader's` with a chosen batch size, shuffling for training, and multi-worker pinning for faster GPU transfers.\n"
      ],
      "metadata": {
        "id": "g7eURFH8Dwnp"
      }
    },
    {
      "cell_type": "code",
      "source": [
        "batch_size = 64\n",
        "loaders = {}\n",
        "for subject in subject_names:\n",
        "    sp = splits[subject]\n",
        "    X_tr = torch.tensor(sp[\"X_train\"], dtype=torch.float32).unsqueeze(1)\n",
        "    y_tr = torch.tensor(sp[\"y_train\"], dtype=torch.long)\n",
        "    X_val = torch.tensor(sp[\"X_val\"],   dtype=torch.float32).unsqueeze(1)\n",
        "    y_val = torch.tensor(sp[\"y_val\"],   dtype=torch.long)\n",
        "    X_te = torch.tensor(sp[\"X_test\"],  dtype=torch.float32).unsqueeze(1)\n",
        "    y_te = torch.tensor(sp[\"y_test\"],  dtype=torch.long)\n",
        "\n",
        "    train_ds = TensorDataset(X_tr, y_tr)\n",
        "    val_ds   = TensorDataset(X_val, y_val)\n",
        "    test_ds  = TensorDataset(X_te, y_te)\n",
        "\n",
        "    loaders[subject] = {\n",
        "        'train': DataLoader(train_ds, batch_size=batch_size, shuffle=True,\n",
        "                            num_workers=2, pin_memory=True),\n",
        "        'val':   DataLoader(val_ds,   batch_size=batch_size, shuffle=False,\n",
        "                            num_workers=2, pin_memory=True),\n",
        "        'test':  DataLoader(test_ds,  batch_size=batch_size, shuffle=False,\n",
        "                            num_workers=2, pin_memory=True)\n",
        "    }\n"
      ],
      "metadata": {
        "id": "-itDRukus2rd"
      },
      "execution_count": 18,
      "outputs": []
    },
    {
      "cell_type": "markdown",
      "source": [
        "## 6. Define the CNN Model with Global Pooling\n",
        "Implement a simple 1D CNN with two convolution + max-pool layers, followed by an adaptive global average pooling to collapse each feature map to one value. Final classification is done by a small fully connected layer.\n"
      ],
      "metadata": {
        "id": "ULrPPBTLDynG"
      }
    },
    {
      "cell_type": "code",
      "source": [
        "class SleepCNN(nn.Module):\n",
        "    def __init__(self):\n",
        "        super().__init__()\n",
        "        self.conv1 = nn.Conv1d(1, 16, kernel_size=7)\n",
        "        self.conv2 = nn.Conv1d(16, 32, kernel_size=7)\n",
        "        self.pool  = nn.MaxPool1d(2)\n",
        "        self.gpool = nn.AdaptiveAvgPool1d(1)\n",
        "        self.fc    = nn.Linear(32, 2)\n",
        "\n",
        "    def forward(self, x):\n",
        "        x = self.pool(F.relu(self.conv1(x)))\n",
        "        x = self.pool(F.relu(self.conv2(x)))\n",
        "        x = self.gpool(x)          # [B,32,1]\n",
        "        x = x.squeeze(-1)          # [B,32]\n",
        "        return self.fc(x)\n"
      ],
      "metadata": {
        "id": "aiTtX_Tjs3mz"
      },
      "execution_count": 19,
      "outputs": []
    },
    {
      "cell_type": "markdown",
      "source": [
        "## 7. Training Function with AMP & Early Stopping\n",
        "Create a reusable `train_model()` function that:\n",
        "- Moves data and model to the chosen device  \n",
        "- Uses mixed-precision (`torch.cuda.amp`) for faster training  \n",
        "- Tracks train/validation accuracy each epoch  \n",
        "- Saves the best model based on validation accuracy  \n",
        "- Implements early stopping if no improvement after a set patience"
      ],
      "metadata": {
        "id": "JhqfzKhYD36Q"
      }
    },
    {
      "cell_type": "code",
      "source": [
        "def train_model(subj, model, train_loader, val_loader,\n",
        "                epochs=100, lr=0.01, patience=10):\n",
        "    model.to(device)\n",
        "    crit = nn.CrossEntropyLoss().to(device)\n",
        "    opt  = optim.Adam(model.parameters(), lr=lr)\n",
        "    scaler = GradScaler()\n",
        "\n",
        "    best_val, wait = 0.0, 0\n",
        "    history = {'train_acc':[], 'val_acc':[]}\n",
        "\n",
        "    for ep in range(1, epochs+1):\n",
        "        model.train()\n",
        "        correct_tr, total_tr = 0, 0\n",
        "        for xb, yb in train_loader:\n",
        "            xb, yb = xb.to(device, non_blocking=True), yb.to(device, non_blocking=True)\n",
        "            opt.zero_grad()\n",
        "            with autocast():\n",
        "                out = model(xb)\n",
        "                loss = crit(out, yb)\n",
        "            scaler.scale(loss).backward()\n",
        "            scaler.step(opt)\n",
        "            scaler.update()\n",
        "            pred = out.argmax(1)\n",
        "            correct_tr += (pred==yb).sum().item()\n",
        "            total_tr   += yb.size(0)\n",
        "        tr_acc = correct_tr/total_tr\n",
        "\n",
        "        model.eval()\n",
        "        correct_val, total_val = 0, 0\n",
        "        with torch.no_grad():\n",
        "            for xb, yb in val_loader:\n",
        "                xb, yb = xb.to(device), yb.to(device)\n",
        "                out = model(xb)\n",
        "                pred = out.argmax(1)\n",
        "                correct_val += (pred==yb).sum().item()\n",
        "                total_val   += yb.size(0)\n",
        "        val_acc = correct_val/total_val\n",
        "\n",
        "        history['train_acc'].append(tr_acc)\n",
        "        history['val_acc'].append(val_acc)\n",
        "        print(f\"{subj} Epoch {ep}/{epochs} | Train {tr_acc*100:.1f}% | Val {val_acc*100:.1f}%\")\n",
        "\n",
        "        if val_acc > best_val:\n",
        "            best_val, wait = val_acc, 0\n",
        "            torch.save(model.state_dict(), f\"{subj}_best.pt\")\n",
        "        else:\n",
        "            wait += 1\n",
        "            if wait>=patience:\n",
        "                print(\"Early stopping.\")\n",
        "                break\n",
        "\n",
        "    model.load_state_dict(torch.load(f\"{subj}_best.pt\"))\n",
        "    return history, model\n"
      ],
      "metadata": {
        "id": "4XAzuriOs4zO"
      },
      "execution_count": 20,
      "outputs": []
    },
    {
      "cell_type": "markdown",
      "source": [
        "## 8. Train Models for All Subjects\n",
        "Loop through each subject, instantiate a fresh CNN, and call `train_model()` to train on that subject’s data. Store both the trained model and its training history.\n"
      ],
      "metadata": {
        "id": "kL8UVA7AD6RS"
      }
    },
    {
      "cell_type": "code",
      "source": [
        "models, histories = {}, {}\n",
        "for subj in subject_names:\n",
        "    print(f\"\\n--- Training CNN for {subj} ---\")\n",
        "    hist, mdl = train_model(\n",
        "        subj,\n",
        "        SleepCNN(),\n",
        "        loaders[subj]['train'],\n",
        "        loaders[subj]['val'],\n",
        "        epochs=100,\n",
        "        lr=0.01,\n",
        "        patience=10\n",
        "    )\n",
        "    histories[subj], models[subj] = hist, mdl\n"
      ],
      "metadata": {
        "id": "CAB4KYIzs5tT",
        "colab": {
          "base_uri": "https://localhost:8080/"
        },
        "outputId": "f89395ce-7d46-4143-cedd-0665db2c6f14"
      },
      "execution_count": 21,
      "outputs": [
        {
          "output_type": "stream",
          "name": "stdout",
          "text": [
            "\n",
            "--- Training CNN for Rat08_HPC ---\n"
          ]
        },
        {
          "output_type": "stream",
          "name": "stderr",
          "text": [
            "<ipython-input-20-602531b6333a>:7: FutureWarning: `torch.cuda.amp.GradScaler(args...)` is deprecated. Please use `torch.amp.GradScaler('cuda', args...)` instead.\n",
            "  scaler = GradScaler()\n",
            "<ipython-input-20-602531b6333a>:18: FutureWarning: `torch.cuda.amp.autocast(args...)` is deprecated. Please use `torch.amp.autocast('cuda', args...)` instead.\n",
            "  with autocast():\n"
          ]
        },
        {
          "output_type": "stream",
          "name": "stdout",
          "text": [
            "Rat08_HPC Epoch 1/100 | Train 65.3% | Val 65.5%\n",
            "Rat08_HPC Epoch 2/100 | Train 65.9% | Val 64.2%\n",
            "Rat08_HPC Epoch 3/100 | Train 66.1% | Val 67.6%\n",
            "Rat08_HPC Epoch 4/100 | Train 65.7% | Val 64.9%\n",
            "Rat08_HPC Epoch 5/100 | Train 69.0% | Val 79.0%\n",
            "Rat08_HPC Epoch 6/100 | Train 70.4% | Val 66.0%\n",
            "Rat08_HPC Epoch 7/100 | Train 71.1% | Val 66.7%\n",
            "Rat08_HPC Epoch 8/100 | Train 71.7% | Val 68.9%\n",
            "Rat08_HPC Epoch 9/100 | Train 71.9% | Val 69.1%\n",
            "Rat08_HPC Epoch 10/100 | Train 73.9% | Val 80.1%\n",
            "Rat08_HPC Epoch 11/100 | Train 75.5% | Val 76.9%\n",
            "Rat08_HPC Epoch 12/100 | Train 75.9% | Val 81.2%\n",
            "Rat08_HPC Epoch 13/100 | Train 77.2% | Val 77.0%\n",
            "Rat08_HPC Epoch 14/100 | Train 77.6% | Val 76.3%\n",
            "Rat08_HPC Epoch 15/100 | Train 78.8% | Val 82.6%\n",
            "Rat08_HPC Epoch 16/100 | Train 80.4% | Val 82.6%\n",
            "Rat08_HPC Epoch 17/100 | Train 82.6% | Val 77.0%\n",
            "Rat08_HPC Epoch 18/100 | Train 82.7% | Val 83.4%\n",
            "Rat08_HPC Epoch 19/100 | Train 83.1% | Val 85.0%\n",
            "Rat08_HPC Epoch 20/100 | Train 86.4% | Val 75.9%\n",
            "Rat08_HPC Epoch 21/100 | Train 86.1% | Val 84.6%\n",
            "Rat08_HPC Epoch 22/100 | Train 88.9% | Val 87.9%\n",
            "Rat08_HPC Epoch 23/100 | Train 88.6% | Val 85.5%\n",
            "Rat08_HPC Epoch 24/100 | Train 87.7% | Val 89.3%\n",
            "Rat08_HPC Epoch 25/100 | Train 90.0% | Val 87.0%\n",
            "Rat08_HPC Epoch 26/100 | Train 90.3% | Val 89.7%\n",
            "Rat08_HPC Epoch 27/100 | Train 89.2% | Val 89.5%\n",
            "Rat08_HPC Epoch 28/100 | Train 90.6% | Val 87.0%\n",
            "Rat08_HPC Epoch 29/100 | Train 90.9% | Val 90.2%\n",
            "Rat08_HPC Epoch 30/100 | Train 89.7% | Val 89.9%\n",
            "Rat08_HPC Epoch 31/100 | Train 91.4% | Val 86.8%\n",
            "Rat08_HPC Epoch 32/100 | Train 91.0% | Val 91.5%\n",
            "Rat08_HPC Epoch 33/100 | Train 90.8% | Val 90.2%\n",
            "Rat08_HPC Epoch 34/100 | Train 91.9% | Val 91.3%\n",
            "Rat08_HPC Epoch 35/100 | Train 92.4% | Val 91.9%\n",
            "Rat08_HPC Epoch 36/100 | Train 92.3% | Val 88.6%\n",
            "Rat08_HPC Epoch 37/100 | Train 92.5% | Val 91.7%\n",
            "Rat08_HPC Epoch 38/100 | Train 92.1% | Val 83.4%\n",
            "Rat08_HPC Epoch 39/100 | Train 91.3% | Val 91.1%\n",
            "Rat08_HPC Epoch 40/100 | Train 92.3% | Val 91.0%\n",
            "Rat08_HPC Epoch 41/100 | Train 92.0% | Val 92.4%\n",
            "Rat08_HPC Epoch 42/100 | Train 92.0% | Val 90.6%\n",
            "Rat08_HPC Epoch 43/100 | Train 92.4% | Val 92.8%\n",
            "Rat08_HPC Epoch 44/100 | Train 92.7% | Val 92.0%\n",
            "Rat08_HPC Epoch 45/100 | Train 92.1% | Val 91.5%\n",
            "Rat08_HPC Epoch 46/100 | Train 92.8% | Val 89.3%\n",
            "Rat08_HPC Epoch 47/100 | Train 93.1% | Val 92.8%\n",
            "Rat08_HPC Epoch 48/100 | Train 92.2% | Val 92.4%\n",
            "Rat08_HPC Epoch 49/100 | Train 93.2% | Val 90.8%\n",
            "Rat08_HPC Epoch 50/100 | Train 92.8% | Val 93.1%\n",
            "Rat08_HPC Epoch 51/100 | Train 93.3% | Val 92.4%\n",
            "Rat08_HPC Epoch 52/100 | Train 92.7% | Val 91.5%\n",
            "Rat08_HPC Epoch 53/100 | Train 93.2% | Val 90.1%\n",
            "Rat08_HPC Epoch 54/100 | Train 93.1% | Val 92.6%\n",
            "Rat08_HPC Epoch 55/100 | Train 92.2% | Val 92.9%\n",
            "Rat08_HPC Epoch 56/100 | Train 93.4% | Val 92.2%\n",
            "Rat08_HPC Epoch 57/100 | Train 92.4% | Val 92.2%\n",
            "Rat08_HPC Epoch 58/100 | Train 93.4% | Val 92.8%\n",
            "Rat08_HPC Epoch 59/100 | Train 93.0% | Val 93.7%\n",
            "Rat08_HPC Epoch 60/100 | Train 94.0% | Val 90.6%\n",
            "Rat08_HPC Epoch 61/100 | Train 92.7% | Val 93.3%\n",
            "Rat08_HPC Epoch 62/100 | Train 93.5% | Val 92.9%\n",
            "Rat08_HPC Epoch 63/100 | Train 93.9% | Val 94.0%\n",
            "Rat08_HPC Epoch 64/100 | Train 92.8% | Val 93.7%\n",
            "Rat08_HPC Epoch 65/100 | Train 92.4% | Val 92.9%\n",
            "Rat08_HPC Epoch 66/100 | Train 93.0% | Val 90.1%\n",
            "Rat08_HPC Epoch 67/100 | Train 93.0% | Val 93.5%\n",
            "Rat08_HPC Epoch 68/100 | Train 93.7% | Val 92.4%\n",
            "Rat08_HPC Epoch 69/100 | Train 93.3% | Val 93.7%\n",
            "Rat08_HPC Epoch 70/100 | Train 93.6% | Val 93.5%\n",
            "Rat08_HPC Epoch 71/100 | Train 93.7% | Val 91.7%\n",
            "Rat08_HPC Epoch 72/100 | Train 93.6% | Val 93.7%\n",
            "Rat08_HPC Epoch 73/100 | Train 93.0% | Val 94.0%\n",
            "Early stopping.\n",
            "\n",
            "--- Training CNN for SubjectHB10_BLA ---\n",
            "SubjectHB10_BLA Epoch 1/100 | Train 61.7% | Val 64.0%\n",
            "SubjectHB10_BLA Epoch 2/100 | Train 63.6% | Val 64.0%\n",
            "SubjectHB10_BLA Epoch 3/100 | Train 64.2% | Val 74.3%\n",
            "SubjectHB10_BLA Epoch 4/100 | Train 83.6% | Val 94.1%\n",
            "SubjectHB10_BLA Epoch 5/100 | Train 96.1% | Val 100.0%\n",
            "SubjectHB10_BLA Epoch 6/100 | Train 97.3% | Val 100.0%\n",
            "SubjectHB10_BLA Epoch 7/100 | Train 99.4% | Val 100.0%\n",
            "SubjectHB10_BLA Epoch 8/100 | Train 99.7% | Val 100.0%\n",
            "SubjectHB10_BLA Epoch 9/100 | Train 99.8% | Val 100.0%\n",
            "SubjectHB10_BLA Epoch 10/100 | Train 100.0% | Val 100.0%\n",
            "SubjectHB10_BLA Epoch 11/100 | Train 100.0% | Val 100.0%\n",
            "SubjectHB10_BLA Epoch 12/100 | Train 100.0% | Val 100.0%\n",
            "SubjectHB10_BLA Epoch 13/100 | Train 99.8% | Val 100.0%\n",
            "SubjectHB10_BLA Epoch 14/100 | Train 100.0% | Val 100.0%\n",
            "SubjectHB10_BLA Epoch 15/100 | Train 100.0% | Val 100.0%\n",
            "Early stopping.\n",
            "\n",
            "--- Training CNN for SubjectHB13_BLA ---\n",
            "SubjectHB13_BLA Epoch 1/100 | Train 66.4% | Val 67.9%\n",
            "SubjectHB13_BLA Epoch 2/100 | Train 67.6% | Val 67.9%\n",
            "SubjectHB13_BLA Epoch 3/100 | Train 67.6% | Val 67.9%\n",
            "SubjectHB13_BLA Epoch 4/100 | Train 77.0% | Val 99.3%\n",
            "SubjectHB13_BLA Epoch 5/100 | Train 97.0% | Val 100.0%\n",
            "SubjectHB13_BLA Epoch 6/100 | Train 100.0% | Val 100.0%\n",
            "SubjectHB13_BLA Epoch 7/100 | Train 100.0% | Val 100.0%\n",
            "SubjectHB13_BLA Epoch 8/100 | Train 100.0% | Val 100.0%\n",
            "SubjectHB13_BLA Epoch 9/100 | Train 100.0% | Val 100.0%\n",
            "SubjectHB13_BLA Epoch 10/100 | Train 99.8% | Val 100.0%\n",
            "SubjectHB13_BLA Epoch 11/100 | Train 99.8% | Val 100.0%\n",
            "SubjectHB13_BLA Epoch 12/100 | Train 99.7% | Val 100.0%\n",
            "SubjectHB13_BLA Epoch 13/100 | Train 100.0% | Val 99.3%\n",
            "SubjectHB13_BLA Epoch 14/100 | Train 99.8% | Val 100.0%\n",
            "SubjectHB13_BLA Epoch 15/100 | Train 99.8% | Val 100.0%\n",
            "Early stopping.\n"
          ]
        }
      ]
    },
    {
      "cell_type": "markdown",
      "source": [
        "## 9. Plot Training History for First Subject\n",
        "Visualize the training and validation accuracy curves over epochs for one example subject to diagnose learning dynamics and check for overfitting or underfitting."
      ],
      "metadata": {
        "id": "1QeuxmIQD8ig"
      }
    },
    {
      "cell_type": "code",
      "source": [
        "sub0 = subject_names[0]\n",
        "plt.figure(figsize=(6,4))\n",
        "plt.plot(histories[sub0]['train_acc'], label=\"Train Acc\")\n",
        "plt.plot(histories[sub0]['val_acc'],   label=\"Val Acc\")\n",
        "plt.title(f\"Accuracy Over Epochs ({sub0})\")\n",
        "plt.xlabel(\"Epoch\"); plt.ylabel(\"Accuracy\")\n",
        "plt.legend(); plt.show()\n"
      ],
      "metadata": {
        "colab": {
          "base_uri": "https://localhost:8080/",
          "height": 410
        },
        "id": "4AMhujPps9Ic",
        "outputId": "35313e71-6fa6-404b-b031-63f6d2ede1ba"
      },
      "execution_count": 22,
      "outputs": [
        {
          "output_type": "display_data",
          "data": {
            "text/plain": [
              "<Figure size 600x400 with 1 Axes>"
            ],
            "image/png": "[encoded data removed]"
          },
          "metadata": {}
        }
      ]
    },
    {
      "cell_type": "markdown",
      "source": [
        "## 10. Evaluate on Test Sets\n",
        "Load each subject’s best-saved model, run inference on the held-out test set, compute overall test accuracy, and display the confusion matrix to inspect classification errors."
      ],
      "metadata": {
        "id": "n6O6WkrRD_5f"
      }
    },
    {
      "cell_type": "code",
      "source": [
        "for subj in subject_names:\n",
        "    mdl = models[subj].eval()\n",
        "    preds_all, labels_all = [], []\n",
        "    with torch.no_grad():\n",
        "        for xb, yb in loaders[subj]['test']:\n",
        "            xb = xb.to(device)\n",
        "            p = mdl(xb).argmax(1).cpu().numpy()\n",
        "            preds_all.extend(p)\n",
        "            labels_all.extend(yb.numpy())\n",
        "    preds_all = np.array(preds_all)\n",
        "    labels_all = np.array(labels_all)\n",
        "    acc = (preds_all==labels_all).mean()\n",
        "    cm  = confusion_matrix(labels_all, preds_all)\n",
        "    print(f\"\\n{subj} Test Acc: {acc*100:.2f}%\\nConfusion Matrix:\\n{cm}\")\n"
      ],
      "metadata": {
        "id": "1BVy4rDDs-ai",
        "colab": {
          "base_uri": "https://localhost:8080/"
        },
        "outputId": "95ced25f-baa5-44e7-98a7-50b9016e4b57"
      },
      "execution_count": 23,
      "outputs": [
        {
          "output_type": "stream",
          "name": "stdout",
          "text": [
            "\n",
            "Rat08_HPC Test Acc: 93.85%\n",
            "Confusion Matrix:\n",
            "[[347  20]\n",
            " [ 14 172]]\n",
            "\n",
            "SubjectHB10_BLA Test Acc: 96.35%\n",
            "Confusion Matrix:\n",
            "[[87  0]\n",
            " [ 5 45]]\n",
            "\n",
            "SubjectHB13_BLA Test Acc: 100.00%\n",
            "Confusion Matrix:\n",
            "[[93  0]\n",
            " [ 0 44]]\n"
          ]
        }
      ]
    }
  ]
}