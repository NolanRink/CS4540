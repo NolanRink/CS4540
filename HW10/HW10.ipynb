{
  "nbformat": 4,
  "nbformat_minor": 0,
  "metadata": {
    "colab": {
      "provenance": [],
      "authorship_tag": "ABX9TyMF8GcXnAoGFfl3HAaKIzKd",
      "include_colab_link": true
    },
    "kernelspec": {
      "name": "python3",
      "display_name": "Python 3"
    },
    "language_info": {
      "name": "python"
    }
  },
  "cells": [
    {
      "cell_type": "markdown",
      "metadata": {
        "id": "view-in-github",
        "colab_type": "text"
      },
      "source": [
        "<a href=\"https://colab.research.google.com/github/NolanRink/CS4540/blob/main/HW10/HW10.ipynb\" target=\"_parent\"><img src=\"https://colab.research.google.com/assets/colab-badge.svg\" alt=\"Open In Colab\"/></a>"
      ]
    },
    {
      "cell_type": "markdown",
      "source": [
        "1. Peruse the lessons in this Khan Academy unit on 'Summarizing Quantitative Data'Links to an external site. and complete the quiz.  You just have to mention in the submission that you completed them, and don't need to attach anything.\n",
        "\n",
        "# All quizes completed\n",
        "______________________________\n",
        "\n",
        "\n",
        "2.  PaperAndPencil-PCA\n",
        "\n",
        "\n",
        "______________________________\n",
        "\n",
        "3.  Add a section to both the Colabs to implement the models using PyTorch\n",
        "\n",
        "COLAB PCA - https://colab.research.google.com/github/jakevdp/PythonDataScienceHandbook/blob/master/notebooks/05.09-Principal-Component-Analysis.ipynbLinks\n",
        "\n",
        "COLAB K-means clustering - https://colab.research.google.com/github/jakevdp/PythonDataScienceHandbook/blob/master/notebooks/05.11-K-Means.ipynbLinks"
      ],
      "metadata": {
        "id": "izeNBY_GiwPY"
      }
    },
    {
      "cell_type": "code",
      "source": [],
      "metadata": {
        "id": "JIMtBCyOoWtf"
      },
      "execution_count": null,
      "outputs": []
    }
  ]
}