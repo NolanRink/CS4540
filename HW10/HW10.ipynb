{
  "cells": [
    {
      "cell_type": "markdown",
      "metadata": {
        "colab_type": "text",
        "id": "view-in-github"
      },
      "source": [
        "<a href=\"https://colab.research.google.com/github/NolanRink/CS4540/blob/main/HW10/HW10.ipynb\" target=\"_parent\"><img src=\"https://colab.research.google.com/assets/colab-badge.svg\" alt=\"Open In Colab\"/></a>"
      ]
    },
    {
      "cell_type": "markdown",
      "metadata": {
        "id": "izeNBY_GiwPY"
      },
      "source": [
        "1. Peruse the lessons in this Khan Academy unit on 'Summarizing Quantitative Data'Links to an external site. and complete the quiz.  You just have to mention in the submission that you completed them, and don't need to attach anything.\n",
        "\n",
        "# All quizes completed\n",
        "______________________________\n",
        "\n",
        "\n",
        "2.  PaperAndPencil-PCA\n",
        "\n",
        "# See the Cam Scanner File\n",
        "______________________________\n",
        "\n",
        "3.  Add a section to both the Colabs to implement the models using PyTorch\n",
        "\n",
        "# See the bottom of the two other ipynb files"
      ]
    }
  ],
  "metadata": {
    "colab": {
      "authorship_tag": "ABX9TyMF8GcXnAoGFfl3HAaKIzKd",
      "include_colab_link": true,
      "provenance": []
    },
    "kernelspec": {
      "display_name": "Python 3",
      "name": "python3"
    },
    "language_info": {
      "name": "python"
    }
  },
  "nbformat": 4,
  "nbformat_minor": 0
}
