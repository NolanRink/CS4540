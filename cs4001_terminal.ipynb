{
  "cells": [
    {
      "cell_type": "markdown",
      "metadata": {
        "id": "h83qKisK-ffi"
      },
      "source": [
        "<a target=\"_blank\" href=\"https://colab.research.google.com/github/cyneuro/CI-BioEng-Class/blob/main/cs4001_terminal.ipynb\">\n",
        "  <img src=\"https://colab.research.google.com/assets/colab-badge.svg\" alt=\"Open In Colab\"/>\n",
        "</a>"
      ]
    },
    {
      "cell_type": "markdown",
      "metadata": {
        "id": "6Bqzm047k1RD"
      },
      "source": [
        "# The Unix Terminal"
      ]
    },
    {
      "cell_type": "markdown",
      "metadata": {
        "id": "NpOiSFdBk471"
      },
      "source": [
        "This notebook is based on this [tutorial](https://ubuntu.com/tutorials/command-line-for-beginners#1-overview) and covers basics of using the Unix Terminal. The notebook is designed to run in Google Colab."
      ]
    },
    {
      "cell_type": "markdown",
      "metadata": {
        "id": "k_Y2ZGBagJPH"
      },
      "source": [
        "## Overview and history\n",
        "\n",
        "Read sections 1-2 from the [tutorial](https://ubuntu.com/tutorials/command-line-for-beginners#1-overview)."
      ]
    },
    {
      "cell_type": "markdown",
      "metadata": {
        "id": "FfGhm2l_jA4h"
      },
      "source": [
        "## The Terminal in different operating environments\n",
        "\n",
        "As you learned from the previous section, Unix-based systems (e.g., Linux or Mac) have a built-in **Terminal** (or **the command line**) which allows the user to interact with the operating system by issuing specific commands (`ls`, `cd`, etc.). Operating systems with other architectures, e.g., MS Windows, have their own built-in Terminals as well (e.g., PowerShell), and they use a different set of commands ([check this](https://www.geeksforgeeks.org/linux-vs-windows-commands/)). Since the majority of servers and HPC enivronments are based on Linux, here we focus on showcasing the Unix Terminal commands.\n",
        "\n",
        "Since Google Colab runs in a Linux-based environment and Jupyter Notebook supports execution of the Terminal commands, we can emulate the Unix Terminal directly in Google Colab. However, if you have a Linux or Mac machine, you can also follow the steps from the [tutorial](https://ubuntu.com/tutorials/command-line-for-beginners#1-overview) locally. Alternatively, you can install a Unix-based Terminal for MS Windows (check Git Bash for Windows or Windows Subsystem for Linux)."
      ]
    },
    {
      "cell_type": "markdown",
      "metadata": {
        "id": "5_5SEPRVgzjB"
      },
      "source": [
        "## Opening the terminal and navigating the file system\n",
        "\n",
        "Read section 3 from the [tutorial](https://ubuntu.com/tutorials/command-line-for-beginners#1-overview) to get a feel of how you would open the Terminal on a real machine and learn about locating yourself in the file system.\n",
        "\n",
        "To run the Terminal commands in Jupyter Notebook, put \"!\" or \"%\" before the command. E.g., running\n",
        "\n",
        "> pwd\n",
        "\n",
        "in the Unix Terminal is equivalent to running\n",
        "\n",
        "> !pwd\n",
        "\n",
        "in Google Colab. The difference is that \"!\" creates a new process and executes the command, i.e., changes are not saved, while \"%\" executes the command on the notebook's process and saves the changes. Consequently, \"!\" and \"%\" are equivalent for transient (e.g., info-providing) commands such as `pwd`:\n"
      ]
    },
    {
      "cell_type": "code",
      "execution_count": 1,
      "metadata": {
        "colab": {
          "base_uri": "https://localhost:8080/"
        },
        "id": "l5gsrDNpk4IE",
        "outputId": "b5b17211-321b-45b7-d97b-40375f03443d"
      },
      "outputs": [
        {
          "output_type": "stream",
          "name": "stdout",
          "text": [
            "/content\n"
          ]
        }
      ],
      "source": [
        "!pwd"
      ]
    },
    {
      "cell_type": "code",
      "execution_count": 2,
      "metadata": {
        "colab": {
          "base_uri": "https://localhost:8080/",
          "height": 35
        },
        "id": "GMMuhD9an0Vg",
        "outputId": "ddaefc94-0a24-4868-edb7-6eb8c6fcbbe3"
      },
      "outputs": [
        {
          "output_type": "execute_result",
          "data": {
            "text/plain": [
              "'/content'"
            ],
            "application/vnd.google.colaboratory.intrinsic+json": {
              "type": "string"
            }
          },
          "metadata": {},
          "execution_count": 2
        }
      ],
      "source": [
        "%pwd"
      ]
    },
    {
      "cell_type": "markdown",
      "metadata": {
        "id": "K6uJ75PomS4E"
      },
      "source": [
        "Note that Google Colab's default directory is `/content`, not `/home/mark` as in the [tutorial](https://ubuntu.com/tutorials/command-line-for-beginners#1-overview). You can visualize the file system by clicking the \"Files\" tab on the left. Here are some more examples."
      ]
    },
    {
      "cell_type": "code",
      "execution_count": 3,
      "metadata": {
        "colab": {
          "base_uri": "https://localhost:8080/"
        },
        "id": "SZ1hcsiElO05",
        "outputId": "383a0cd7-f090-4ee0-93f3-4ed24d2277ad"
      },
      "outputs": [
        {
          "output_type": "stream",
          "name": "stdout",
          "text": [
            "/content\n"
          ]
        }
      ],
      "source": [
        "!cd /\n",
        "!pwd"
      ]
    },
    {
      "cell_type": "code",
      "execution_count": 4,
      "metadata": {
        "colab": {
          "base_uri": "https://localhost:8080/",
          "height": 52
        },
        "id": "hQKQ2ZB6nDgr",
        "outputId": "10750bdf-88f8-42e3-d59f-cecdecb5f48e"
      },
      "outputs": [
        {
          "output_type": "stream",
          "name": "stdout",
          "text": [
            "/\n"
          ]
        },
        {
          "output_type": "execute_result",
          "data": {
            "text/plain": [
              "'/'"
            ],
            "application/vnd.google.colaboratory.intrinsic+json": {
              "type": "string"
            }
          },
          "metadata": {},
          "execution_count": 4
        }
      ],
      "source": [
        "%cd /\n",
        "%pwd"
      ]
    },
    {
      "cell_type": "markdown",
      "metadata": {
        "id": "2I6xXPqRoLEh"
      },
      "source": [
        "**Exercise 1:** Explain why \"!\" did not produce the same result as in the [tutorial](https://ubuntu.com/tutorials/command-line-for-beginners#1-overview), but \"%\" did.\n",
        "\n",
        "The percent sign executes the command in the current proccess so the next command continues on what the previous command did. The exclimation point spawns a new process and deletes the process after executing the command."
      ]
    },
    {
      "cell_type": "code",
      "execution_count": 5,
      "metadata": {
        "colab": {
          "base_uri": "https://localhost:8080/",
          "height": 52
        },
        "id": "MDyahwbvnGrj",
        "outputId": "0e136469-a3c7-4847-9121-e79de00b133a"
      },
      "outputs": [
        {
          "output_type": "stream",
          "name": "stdout",
          "text": [
            "/home\n"
          ]
        },
        {
          "output_type": "execute_result",
          "data": {
            "text/plain": [
              "'/home'"
            ],
            "application/vnd.google.colaboratory.intrinsic+json": {
              "type": "string"
            }
          },
          "metadata": {},
          "execution_count": 5
        }
      ],
      "source": [
        "%cd home\n",
        "%pwd"
      ]
    },
    {
      "cell_type": "code",
      "execution_count": 6,
      "metadata": {
        "colab": {
          "base_uri": "https://localhost:8080/",
          "height": 52
        },
        "id": "cUrB2YfLoYXo",
        "outputId": "3101bd2f-cbb3-45c5-a377-b196bdcb1c7a"
      },
      "outputs": [
        {
          "output_type": "stream",
          "name": "stdout",
          "text": [
            "/\n"
          ]
        },
        {
          "output_type": "execute_result",
          "data": {
            "text/plain": [
              "'/'"
            ],
            "application/vnd.google.colaboratory.intrinsic+json": {
              "type": "string"
            }
          },
          "metadata": {},
          "execution_count": 6
        }
      ],
      "source": [
        "%cd ..\n",
        "%pwd"
      ]
    },
    {
      "cell_type": "code",
      "execution_count": 7,
      "metadata": {
        "colab": {
          "base_uri": "https://localhost:8080/",
          "height": 52
        },
        "id": "fzXJ1PFCobH6",
        "outputId": "90055b47-6bf9-469a-d21b-6282d8408818"
      },
      "outputs": [
        {
          "output_type": "stream",
          "name": "stdout",
          "text": [
            "/root\n"
          ]
        },
        {
          "output_type": "execute_result",
          "data": {
            "text/plain": [
              "'/root'"
            ],
            "application/vnd.google.colaboratory.intrinsic+json": {
              "type": "string"
            }
          },
          "metadata": {},
          "execution_count": 7
        }
      ],
      "source": [
        "%cd\n",
        "%pwd"
      ]
    },
    {
      "cell_type": "markdown",
      "metadata": {
        "id": "wQ6B5huxo20j"
      },
      "source": [
        "**Exercise 2:** Use the [tutorial](https://ubuntu.com/tutorials/command-line-for-beginners#1-overview) to find out what your user name is in Colab's file system."
      ]
    },
    {
      "cell_type": "code",
      "execution_count": 8,
      "metadata": {
        "id": "dwWsg3KooveC",
        "outputId": "e379cc14-1570-4890-ae73-2640b824873f",
        "colab": {
          "base_uri": "https://localhost:8080/"
        }
      },
      "outputs": [
        {
          "output_type": "stream",
          "name": "stdout",
          "text": [
            "root\n"
          ]
        }
      ],
      "source": [
        "!whoami"
      ]
    },
    {
      "cell_type": "markdown",
      "metadata": {
        "id": "Yu3Z8r_kpecZ"
      },
      "source": [
        "**Exercise 3:** What is the name of the **home** directory in Colab's file system? (Hint: it is neither the default directory from above, nor `/home`)."
      ]
    },
    {
      "cell_type": "code",
      "execution_count": 9,
      "metadata": {
        "id": "XQybqwINpezC",
        "outputId": "348fde57-f104-4dc4-f864-c3f6be488476",
        "colab": {
          "base_uri": "https://localhost:8080/",
          "height": 52
        }
      },
      "outputs": [
        {
          "output_type": "stream",
          "name": "stdout",
          "text": [
            "/root\n"
          ]
        },
        {
          "output_type": "execute_result",
          "data": {
            "text/plain": [
              "'/root'"
            ],
            "application/vnd.google.colaboratory.intrinsic+json": {
              "type": "string"
            }
          },
          "metadata": {},
          "execution_count": 9
        }
      ],
      "source": [
        "%cd\n",
        "%pwd"
      ]
    },
    {
      "cell_type": "markdown",
      "metadata": {
        "id": "munwafnJpD_E"
      },
      "source": [
        "## Creating folders and files"
      ]
    },
    {
      "cell_type": "markdown",
      "metadata": {
        "id": "ZFSo27_3pMNi"
      },
      "source": [
        "First, we return back to the default directory:"
      ]
    },
    {
      "cell_type": "code",
      "execution_count": 10,
      "metadata": {
        "colab": {
          "base_uri": "https://localhost:8080/"
        },
        "id": "jx39toAqpK4w",
        "outputId": "53271690-97ea-4b46-daf6-a3e90bd08a81"
      },
      "outputs": [
        {
          "output_type": "stream",
          "name": "stdout",
          "text": [
            "/content\n"
          ]
        }
      ],
      "source": [
        "%cd /content/"
      ]
    },
    {
      "cell_type": "markdown",
      "metadata": {
        "id": "7q8txvROqIA0"
      },
      "source": [
        "Read section 4 from the [tutorial](https://ubuntu.com/tutorials/command-line-for-beginners#4-creating-folders-and-files). Here are some examples:"
      ]
    },
    {
      "cell_type": "code",
      "execution_count": 11,
      "metadata": {
        "id": "NdZ3ti7XpURN"
      },
      "outputs": [],
      "source": [
        "!mkdir tutorial"
      ]
    },
    {
      "cell_type": "markdown",
      "metadata": {
        "id": "mWc84Lp-qoTd"
      },
      "source": [
        "To see the created folder, click the \"Refresh\" button on the left."
      ]
    },
    {
      "cell_type": "markdown",
      "metadata": {
        "id": "A80J5vRPqus5"
      },
      "source": [
        "**Exercise 4:** Why did \"!\" work in this case?\n",
        "\n",
        "The mkdir command makes changes to the filesystem which is independent from the processes. This means that the changes to the filesystem stay even if the process that the command used was deleted."
      ]
    },
    {
      "cell_type": "code",
      "execution_count": 12,
      "metadata": {
        "colab": {
          "base_uri": "https://localhost:8080/"
        },
        "id": "01aUguQEqdpW",
        "outputId": "e52d1dc5-a696-473c-8a4a-7b1b57e7a1b7"
      },
      "outputs": [
        {
          "output_type": "stream",
          "name": "stdout",
          "text": [
            "sample_data  tutorial\n"
          ]
        }
      ],
      "source": [
        "!ls"
      ]
    },
    {
      "cell_type": "code",
      "execution_count": 13,
      "metadata": {
        "colab": {
          "base_uri": "https://localhost:8080/"
        },
        "id": "AZfU8xYErDqk",
        "outputId": "cd0e7058-c59f-45f3-9e83-4d922ed21ced"
      },
      "outputs": [
        {
          "output_type": "stream",
          "name": "stdout",
          "text": [
            "This is a test\n"
          ]
        }
      ],
      "source": [
        "!echo \"This is a test\" > test_1.txt\n",
        "!cat test_1.txt"
      ]
    },
    {
      "cell_type": "markdown",
      "metadata": {
        "id": "Hnmw10sCq4GF"
      },
      "source": [
        "**Exercise 5:** Repeat the steps from section 4. Treat `/content/` as your working directory, i.e., create all folders and files inside of it."
      ]
    },
    {
      "cell_type": "code",
      "execution_count": 14,
      "metadata": {
        "id": "yxrnOzIusK5k",
        "outputId": "0318d8ff-fa1b-415e-c12b-217f15530019",
        "colab": {
          "base_uri": "https://localhost:8080/"
        }
      },
      "outputs": [
        {
          "output_type": "stream",
          "name": "stdout",
          "text": [
            "/content\n"
          ]
        }
      ],
      "source": [
        "# Your answer here\n",
        "# You can add as many cells as you want"
      ]
    },
    {
      "cell_type": "code",
      "source": [
        "%cd /content/tutorial\n",
        "!pwd"
      ],
      "metadata": {
        "id": "xChrn7sgDSYe",
        "outputId": "e5ca5735-40f8-4f20-d052-c37912cd1c4a",
        "colab": {
          "base_uri": "https://localhost:8080/"
        }
      },
      "execution_count": 17,
      "outputs": [
        {
          "output_type": "stream",
          "name": "stdout",
          "text": [
            "/content/tutorial\n",
            "/content/tutorial\n"
          ]
        }
      ]
    },
    {
      "cell_type": "code",
      "source": [
        "%mkdir dir1 dir2 dir3"
      ],
      "metadata": {
        "id": "MpVGT9FzDvqc"
      },
      "execution_count": 18,
      "outputs": []
    },
    {
      "cell_type": "code",
      "source": [
        "%ls"
      ],
      "metadata": {
        "id": "YzD9sDxxEHiV",
        "outputId": "41fd9ef9-6215-43e5-c0a8-bbcdbc298793",
        "colab": {
          "base_uri": "https://localhost:8080/"
        }
      },
      "execution_count": 21,
      "outputs": [
        {
          "output_type": "stream",
          "name": "stdout",
          "text": [
            "\u001b[0m\u001b[01;34mdir1\u001b[0m/  \u001b[01;34mdir2\u001b[0m/  \u001b[01;34mdir3\u001b[0m/\n"
          ]
        }
      ]
    },
    {
      "cell_type": "code",
      "source": [
        "%mkdir -p dir4/dir5/dir6\n",
        "%ls"
      ],
      "metadata": {
        "id": "vHtlI0xjEHq6",
        "outputId": "641f17ec-9a69-4064-9809-b47659957771",
        "colab": {
          "base_uri": "https://localhost:8080/"
        }
      },
      "execution_count": 22,
      "outputs": [
        {
          "output_type": "stream",
          "name": "stdout",
          "text": [
            "\u001b[0m\u001b[01;34mdir1\u001b[0m/  \u001b[01;34mdir2\u001b[0m/  \u001b[01;34mdir3\u001b[0m/  \u001b[01;34mdir4\u001b[0m/\n"
          ]
        }
      ]
    },
    {
      "cell_type": "code",
      "source": [
        "%mkdir \"folder 1\"\n",
        "%mkdir 'folder 2'\n",
        "%mkdir folder\\ 3\n",
        "%mkdir \"folder 4\" \"folder 5\"\n",
        "%mkdir -p \"folder 6\"/\"folder 7\"\n",
        "%ls"
      ],
      "metadata": {
        "id": "5FP5RuZjEH0z",
        "outputId": "882ae185-236b-4555-c1c3-1a83ee8a90d3",
        "colab": {
          "base_uri": "https://localhost:8080/"
        }
      },
      "execution_count": 23,
      "outputs": [
        {
          "output_type": "stream",
          "name": "stdout",
          "text": [
            " \u001b[0m\u001b[01;34mdir1\u001b[0m/   \u001b[01;34mdir3\u001b[0m/  \u001b[01;34m'folder 1'\u001b[0m/  \u001b[01;34m'folder 3'\u001b[0m/  \u001b[01;34m'folder 5'\u001b[0m/\n",
            " \u001b[01;34mdir2\u001b[0m/   \u001b[01;34mdir4\u001b[0m/  \u001b[01;34m'folder 2'\u001b[0m/  \u001b[01;34m'folder 4'\u001b[0m/  \u001b[01;34m'folder 6'\u001b[0m/\n"
          ]
        }
      ]
    },
    {
      "cell_type": "code",
      "source": [
        "ls > output.txt\n"
      ],
      "metadata": {
        "id": "2Y8VkskWFUFa"
      },
      "execution_count": null,
      "outputs": []
    },
    {
      "cell_type": "code",
      "source": [],
      "metadata": {
        "id": "mLNpCj4vFUOQ"
      },
      "execution_count": null,
      "outputs": []
    },
    {
      "cell_type": "code",
      "source": [],
      "metadata": {
        "id": "pAfyzag4FUVy"
      },
      "execution_count": null,
      "outputs": []
    },
    {
      "cell_type": "code",
      "source": [],
      "metadata": {
        "id": "9VZyfdQfFUZJ"
      },
      "execution_count": null,
      "outputs": []
    },
    {
      "cell_type": "code",
      "source": [],
      "metadata": {
        "id": "yWiYhSm2FUbO"
      },
      "execution_count": null,
      "outputs": []
    },
    {
      "cell_type": "code",
      "source": [],
      "metadata": {
        "id": "B8RFBjbJFUdT"
      },
      "execution_count": null,
      "outputs": []
    },
    {
      "cell_type": "markdown",
      "metadata": {
        "id": "ghq5hHxRrr_V"
      },
      "source": [
        "## Moving and manipulating files"
      ]
    },
    {
      "cell_type": "markdown",
      "metadata": {
        "id": "wm0CC9ukruQT"
      },
      "source": [
        "Read section 5 from the [tutorial](https://ubuntu.com/tutorials/command-line-for-beginners#5-moving-and-manipulating-files).\n",
        "\n"
      ]
    },
    {
      "cell_type": "markdown",
      "metadata": {
        "id": "pryXMwlTsem0"
      },
      "source": [
        "**Exercise 6:** Repeat the steps from section 5. As before, treat `/content/` as your working directory."
      ]
    },
    {
      "cell_type": "code",
      "execution_count": null,
      "metadata": {
        "id": "vUC68Hveqj3h"
      },
      "outputs": [],
      "source": [
        "# Your answer here\n",
        "# You can add as many cells as you want"
      ]
    },
    {
      "cell_type": "markdown",
      "metadata": {
        "id": "gmFQWvGss4n8"
      },
      "source": [
        "## A bit of plumbing"
      ]
    },
    {
      "cell_type": "markdown",
      "metadata": {
        "id": "ICuFe37Qs7xc"
      },
      "source": [
        "Read section 6 from the [tutorial](https://ubuntu.com/tutorials/command-line-for-beginners#6-a-bit-of-plumbing).\n",
        "\n",
        "Once again, you will have to repeat the steps from the section. However, if you try to run the `man` command, you will probably encounter an error."
      ]
    },
    {
      "cell_type": "code",
      "execution_count": null,
      "metadata": {
        "id": "MF8AIgkotPh0"
      },
      "outputs": [],
      "source": [
        "!man uniq"
      ]
    },
    {
      "cell_type": "markdown",
      "metadata": {
        "id": "XWjXoM3-tRMc"
      },
      "source": [
        "To solve this error, run the following (you will have to type \"y\" in the provided input window with the black rectangle):"
      ]
    },
    {
      "cell_type": "code",
      "execution_count": null,
      "metadata": {
        "colab": {
          "base_uri": "https://localhost:8080/"
        },
        "id": "x3XABCeksp62",
        "outputId": "4487c2d2-345b-4a4f-e141-c7c942ae18d5"
      },
      "outputs": [
        {
          "name": "stdout",
          "output_type": "stream",
          "text": [
            "This system has been minimized by removing packages and content that are\n",
            "not required on a system that users do not log into.\n",
            "\n",
            "This script restores content and packages that are found on a default\n",
            "Ubuntu server system in order to make this system more suitable for\n",
            "interactive use.\n",
            "\n",
            "Reinstallation of packages may fail due to changes to the system\n",
            "configuration, the presence of third-party packages, or for other\n",
            "reasons.\n",
            "\n",
            "This operation may take some time.\n",
            "\n",
            "Would you like to continue? [y/N] y\n",
            "\n"
          ]
        }
      ],
      "source": [
        "!unminimize"
      ]
    },
    {
      "cell_type": "markdown",
      "metadata": {
        "id": "nz0ZzNSLtf-p"
      },
      "source": [
        "**Exercise 7:** repeat the steps from section 6."
      ]
    },
    {
      "cell_type": "code",
      "execution_count": null,
      "metadata": {
        "id": "oDb0BKHtvp8F"
      },
      "outputs": [],
      "source": [
        "# Your answer here\n",
        "# You can add as many cells as you want"
      ]
    },
    {
      "cell_type": "markdown",
      "metadata": {
        "id": "j0W6V-QstpMf"
      },
      "source": [
        "## The command line and the superuser"
      ]
    },
    {
      "cell_type": "markdown",
      "metadata": {
        "id": "YZ0Iyy_0tqH2"
      },
      "source": [
        "Read section 7 from the [tutorial](https://ubuntu.com/tutorials/command-line-for-beginners#7-the-command-line-and-the-superuser)."
      ]
    },
    {
      "cell_type": "markdown",
      "metadata": {
        "id": "a7dCXeaht6bE"
      },
      "source": [
        "**Exercise 8:** The `sudo` command is crucial when setting up environments on a local machine or a VM. Explain what the `sudo` command does.\n",
        "\n",
        "[Your answer here]"
      ]
    },
    {
      "cell_type": "markdown",
      "metadata": {
        "id": "2h8uKTPkuOkN"
      },
      "source": [
        "Here is an example:"
      ]
    },
    {
      "cell_type": "code",
      "execution_count": null,
      "metadata": {
        "colab": {
          "base_uri": "https://localhost:8080/"
        },
        "id": "4FVyi5ans0RN",
        "outputId": "14290822-67f2-4fc6-8dcd-5107bdb341bc"
      },
      "outputs": [
        {
          "name": "stdout",
          "output_type": "stream",
          "text": [
            "root\n"
          ]
        }
      ],
      "source": [
        "!sudo whoami"
      ]
    },
    {
      "cell_type": "code",
      "execution_count": null,
      "metadata": {
        "id": "xOPwaE26uvjB"
      },
      "outputs": [],
      "source": [
        "!sudo apt install tree"
      ]
    },
    {
      "cell_type": "code",
      "execution_count": null,
      "metadata": {
        "id": "7YDVSi9vvA5t"
      },
      "outputs": [],
      "source": [
        "!tree"
      ]
    },
    {
      "cell_type": "markdown",
      "metadata": {
        "id": "yjqJ4w2vukYg"
      },
      "source": [
        "**Exercise 9:** repeat the remaining steps from section 7."
      ]
    },
    {
      "cell_type": "code",
      "execution_count": null,
      "metadata": {
        "id": "Pka_v5AJvoc-"
      },
      "outputs": [],
      "source": [
        "# Your answer here\n",
        "# You can add as many cells as you want"
      ]
    },
    {
      "cell_type": "markdown",
      "metadata": {
        "id": "TWOwEMhcvF08"
      },
      "source": [
        "## Conclusion"
      ]
    },
    {
      "cell_type": "markdown",
      "metadata": {
        "id": "Yo7hdVEdvJJU"
      },
      "source": [
        "Read sections 8 and 9 from the [tutorial](https://ubuntu.com/tutorials/command-line-for-beginners)."
      ]
    },
    {
      "cell_type": "markdown",
      "metadata": {
        "id": "qOViqNE0vc7O"
      },
      "source": [
        "**Exercise 10:** Demonstrate the usage of any command not mentioned in the [tutorial](https://ubuntu.com/tutorials/command-line-for-beginners)."
      ]
    },
    {
      "cell_type": "code",
      "execution_count": null,
      "metadata": {
        "id": "18f3ekWuvHs7"
      },
      "outputs": [],
      "source": [
        "# Your answer here\n",
        "# You can add as many cells as you want"
      ]
    }
  ],
  "metadata": {
    "colab": {
      "provenance": []
    },
    "kernelspec": {
      "display_name": "Python 3",
      "name": "python3"
    },
    "language_info": {
      "name": "python"
    }
  },
  "nbformat": 4,
  "nbformat_minor": 0
}