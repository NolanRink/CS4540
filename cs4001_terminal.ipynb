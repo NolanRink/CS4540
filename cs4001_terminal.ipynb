{
  "cells": [
    {
      "cell_type": "markdown",
      "metadata": {
        "id": "view-in-github",
        "colab_type": "text"
      },
      "source": [
        "<a href=\"https://colab.research.google.com/github/NolanRink/CS4540/blob/main/cs4001_terminal.ipynb\" target=\"_parent\"><img src=\"https://colab.research.google.com/assets/colab-badge.svg\" alt=\"Open In Colab\"/></a>"
      ]
    },
    {
      "cell_type": "markdown",
      "metadata": {
        "id": "h83qKisK-ffi"
      },
      "source": [
        "<a target=\"_blank\" href=\"https://colab.research.google.com/github/cyneuro/CI-BioEng-Class/blob/main/cs4001_terminal.ipynb\">\n",
        "  <img src=\"https://colab.research.google.com/assets/colab-badge.svg\" alt=\"Open In Colab\"/>\n",
        "</a>"
      ]
    },
    {
      "cell_type": "markdown",
      "metadata": {
        "id": "6Bqzm047k1RD"
      },
      "source": [
        "# The Unix Terminal"
      ]
    },
    {
      "cell_type": "markdown",
      "metadata": {
        "id": "NpOiSFdBk471"
      },
      "source": [
        "This notebook is based on this [tutorial](https://ubuntu.com/tutorials/command-line-for-beginners#1-overview) and covers basics of using the Unix Terminal. The notebook is designed to run in Google Colab."
      ]
    },
    {
      "cell_type": "markdown",
      "metadata": {
        "id": "k_Y2ZGBagJPH"
      },
      "source": [
        "## Overview and history\n",
        "\n",
        "Read sections 1-2 from the [tutorial](https://ubuntu.com/tutorials/command-line-for-beginners#1-overview)."
      ]
    },
    {
      "cell_type": "markdown",
      "metadata": {
        "id": "FfGhm2l_jA4h"
      },
      "source": [
        "## The Terminal in different operating environments\n",
        "\n",
        "As you learned from the previous section, Unix-based systems (e.g., Linux or Mac) have a built-in **Terminal** (or **the command line**) which allows the user to interact with the operating system by issuing specific commands (`ls`, `cd`, etc.). Operating systems with other architectures, e.g., MS Windows, have their own built-in Terminals as well (e.g., PowerShell), and they use a different set of commands ([check this](https://www.geeksforgeeks.org/linux-vs-windows-commands/)). Since the majority of servers and HPC enivronments are based on Linux, here we focus on showcasing the Unix Terminal commands.\n",
        "\n",
        "Since Google Colab runs in a Linux-based environment and Jupyter Notebook supports execution of the Terminal commands, we can emulate the Unix Terminal directly in Google Colab. However, if you have a Linux or Mac machine, you can also follow the steps from the [tutorial](https://ubuntu.com/tutorials/command-line-for-beginners#1-overview) locally. Alternatively, you can install a Unix-based Terminal for MS Windows (check Git Bash for Windows or Windows Subsystem for Linux)."
      ]
    },
    {
      "cell_type": "markdown",
      "metadata": {
        "id": "5_5SEPRVgzjB"
      },
      "source": [
        "## Opening the terminal and navigating the file system\n",
        "\n",
        "Read section 3 from the [tutorial](https://ubuntu.com/tutorials/command-line-for-beginners#1-overview) to get a feel of how you would open the Terminal on a real machine and learn about locating yourself in the file system.\n",
        "\n",
        "To run the Terminal commands in Jupyter Notebook, put \"!\" or \"%\" before the command. E.g., running\n",
        "\n",
        "> pwd\n",
        "\n",
        "in the Unix Terminal is equivalent to running\n",
        "\n",
        "> !pwd\n",
        "\n",
        "in Google Colab. The difference is that \"!\" creates a new process and executes the command, i.e., changes are not saved, while \"%\" executes the command on the notebook's process and saves the changes. Consequently, \"!\" and \"%\" are equivalent for transient (e.g., info-providing) commands such as `pwd`:\n"
      ]
    },
    {
      "cell_type": "code",
      "execution_count": 1,
      "metadata": {
        "colab": {
          "base_uri": "https://localhost:8080/"
        },
        "id": "l5gsrDNpk4IE",
        "outputId": "ac402097-e85f-48b8-be69-a8e8632f4079"
      },
      "outputs": [
        {
          "output_type": "stream",
          "name": "stdout",
          "text": [
            "/content\n"
          ]
        }
      ],
      "source": [
        "!pwd"
      ]
    },
    {
      "cell_type": "code",
      "execution_count": 2,
      "metadata": {
        "colab": {
          "base_uri": "https://localhost:8080/",
          "height": 35
        },
        "id": "GMMuhD9an0Vg",
        "outputId": "e866c58f-58c5-4df3-d1de-286c9b5ea0ce"
      },
      "outputs": [
        {
          "output_type": "execute_result",
          "data": {
            "text/plain": [
              "'/content'"
            ],
            "application/vnd.google.colaboratory.intrinsic+json": {
              "type": "string"
            }
          },
          "metadata": {},
          "execution_count": 2
        }
      ],
      "source": [
        "%pwd"
      ]
    },
    {
      "cell_type": "markdown",
      "metadata": {
        "id": "K6uJ75PomS4E"
      },
      "source": [
        "Note that Google Colab's default directory is `/content`, not `/home/mark` as in the [tutorial](https://ubuntu.com/tutorials/command-line-for-beginners#1-overview). You can visualize the file system by clicking the \"Files\" tab on the left. Here are some more examples."
      ]
    },
    {
      "cell_type": "code",
      "execution_count": 3,
      "metadata": {
        "colab": {
          "base_uri": "https://localhost:8080/"
        },
        "id": "SZ1hcsiElO05",
        "outputId": "41561e50-26c2-4dc6-ccff-78ffb7008719"
      },
      "outputs": [
        {
          "output_type": "stream",
          "name": "stdout",
          "text": [
            "/content\n"
          ]
        }
      ],
      "source": [
        "!cd /\n",
        "!pwd"
      ]
    },
    {
      "cell_type": "code",
      "execution_count": 4,
      "metadata": {
        "colab": {
          "base_uri": "https://localhost:8080/",
          "height": 52
        },
        "id": "hQKQ2ZB6nDgr",
        "outputId": "721066f6-e251-4bc9-aa0e-e8f7df14d180"
      },
      "outputs": [
        {
          "output_type": "stream",
          "name": "stdout",
          "text": [
            "/\n"
          ]
        },
        {
          "output_type": "execute_result",
          "data": {
            "text/plain": [
              "'/'"
            ],
            "application/vnd.google.colaboratory.intrinsic+json": {
              "type": "string"
            }
          },
          "metadata": {},
          "execution_count": 4
        }
      ],
      "source": [
        "%cd /\n",
        "%pwd"
      ]
    },
    {
      "cell_type": "markdown",
      "metadata": {
        "id": "2I6xXPqRoLEh"
      },
      "source": [
        "**Exercise 1:** Explain why \"!\" did not produce the same result as in the [tutorial](https://ubuntu.com/tutorials/command-line-for-beginners#1-overview), but \"%\" did.\n",
        "\n",
        "The percent sign executes the command in the current proccess so the next command continues on what the previous command did. The exclimation point spawns a new process and deletes the process after executing the command."
      ]
    },
    {
      "cell_type": "code",
      "execution_count": 5,
      "metadata": {
        "colab": {
          "base_uri": "https://localhost:8080/",
          "height": 52
        },
        "id": "MDyahwbvnGrj",
        "outputId": "6d7fbde3-8988-4ece-9640-04f37504548e"
      },
      "outputs": [
        {
          "output_type": "stream",
          "name": "stdout",
          "text": [
            "/home\n"
          ]
        },
        {
          "output_type": "execute_result",
          "data": {
            "text/plain": [
              "'/home'"
            ],
            "application/vnd.google.colaboratory.intrinsic+json": {
              "type": "string"
            }
          },
          "metadata": {},
          "execution_count": 5
        }
      ],
      "source": [
        "%cd home\n",
        "%pwd"
      ]
    },
    {
      "cell_type": "code",
      "execution_count": 6,
      "metadata": {
        "colab": {
          "base_uri": "https://localhost:8080/",
          "height": 52
        },
        "id": "cUrB2YfLoYXo",
        "outputId": "0bf65001-02ed-4577-ea2d-6ce1149c9635"
      },
      "outputs": [
        {
          "output_type": "stream",
          "name": "stdout",
          "text": [
            "/\n"
          ]
        },
        {
          "output_type": "execute_result",
          "data": {
            "text/plain": [
              "'/'"
            ],
            "application/vnd.google.colaboratory.intrinsic+json": {
              "type": "string"
            }
          },
          "metadata": {},
          "execution_count": 6
        }
      ],
      "source": [
        "%cd ..\n",
        "%pwd"
      ]
    },
    {
      "cell_type": "code",
      "execution_count": 7,
      "metadata": {
        "colab": {
          "base_uri": "https://localhost:8080/",
          "height": 52
        },
        "id": "fzXJ1PFCobH6",
        "outputId": "dcd90e43-5ffb-4257-b64a-7bbf3e128b4f"
      },
      "outputs": [
        {
          "output_type": "stream",
          "name": "stdout",
          "text": [
            "/root\n"
          ]
        },
        {
          "output_type": "execute_result",
          "data": {
            "text/plain": [
              "'/root'"
            ],
            "application/vnd.google.colaboratory.intrinsic+json": {
              "type": "string"
            }
          },
          "metadata": {},
          "execution_count": 7
        }
      ],
      "source": [
        "%cd\n",
        "%pwd"
      ]
    },
    {
      "cell_type": "markdown",
      "metadata": {
        "id": "wQ6B5huxo20j"
      },
      "source": [
        "**Exercise 2:** Use the [tutorial](https://ubuntu.com/tutorials/command-line-for-beginners#1-overview) to find out what your user name is in Colab's file system."
      ]
    },
    {
      "cell_type": "code",
      "execution_count": 8,
      "metadata": {
        "id": "dwWsg3KooveC",
        "colab": {
          "base_uri": "https://localhost:8080/"
        },
        "outputId": "6ff180af-3f0e-4419-af35-49b114334602"
      },
      "outputs": [
        {
          "output_type": "stream",
          "name": "stdout",
          "text": [
            "root\n"
          ]
        }
      ],
      "source": [
        "!whoami"
      ]
    },
    {
      "cell_type": "markdown",
      "metadata": {
        "id": "Yu3Z8r_kpecZ"
      },
      "source": [
        "**Exercise 3:** What is the name of the **home** directory in Colab's file system? (Hint: it is neither the default directory from above, nor `/home`)."
      ]
    },
    {
      "cell_type": "code",
      "execution_count": 9,
      "metadata": {
        "id": "XQybqwINpezC",
        "colab": {
          "base_uri": "https://localhost:8080/",
          "height": 52
        },
        "outputId": "642d42e6-b3d2-4d35-e57e-27fd7c14e585"
      },
      "outputs": [
        {
          "output_type": "stream",
          "name": "stdout",
          "text": [
            "/root\n"
          ]
        },
        {
          "output_type": "execute_result",
          "data": {
            "text/plain": [
              "'/root'"
            ],
            "application/vnd.google.colaboratory.intrinsic+json": {
              "type": "string"
            }
          },
          "metadata": {},
          "execution_count": 9
        }
      ],
      "source": [
        "%cd\n",
        "%pwd"
      ]
    },
    {
      "cell_type": "markdown",
      "metadata": {
        "id": "munwafnJpD_E"
      },
      "source": [
        "## Creating folders and files"
      ]
    },
    {
      "cell_type": "markdown",
      "metadata": {
        "id": "ZFSo27_3pMNi"
      },
      "source": [
        "First, we return back to the default directory:"
      ]
    },
    {
      "cell_type": "code",
      "execution_count": 10,
      "metadata": {
        "colab": {
          "base_uri": "https://localhost:8080/"
        },
        "id": "jx39toAqpK4w",
        "outputId": "7c771fd6-484d-4793-b0ad-0affbc383dab"
      },
      "outputs": [
        {
          "output_type": "stream",
          "name": "stdout",
          "text": [
            "/content\n"
          ]
        }
      ],
      "source": [
        "%cd /content/"
      ]
    },
    {
      "cell_type": "markdown",
      "metadata": {
        "id": "7q8txvROqIA0"
      },
      "source": [
        "Read section 4 from the [tutorial](https://ubuntu.com/tutorials/command-line-for-beginners#4-creating-folders-and-files). Here are some examples:"
      ]
    },
    {
      "cell_type": "code",
      "execution_count": 11,
      "metadata": {
        "id": "NdZ3ti7XpURN"
      },
      "outputs": [],
      "source": [
        "!mkdir tutorial"
      ]
    },
    {
      "cell_type": "markdown",
      "metadata": {
        "id": "mWc84Lp-qoTd"
      },
      "source": [
        "To see the created folder, click the \"Refresh\" button on the left."
      ]
    },
    {
      "cell_type": "markdown",
      "metadata": {
        "id": "A80J5vRPqus5"
      },
      "source": [
        "**Exercise 4:** Why did \"!\" work in this case?\n",
        "\n",
        "The mkdir command makes changes to the filesystem which is independent from the processes. This means that the changes to the filesystem stay even if the process that the command used was deleted."
      ]
    },
    {
      "cell_type": "code",
      "execution_count": 12,
      "metadata": {
        "colab": {
          "base_uri": "https://localhost:8080/"
        },
        "id": "01aUguQEqdpW",
        "outputId": "1371c4c5-9b8c-4121-c01b-a943b7f57612"
      },
      "outputs": [
        {
          "output_type": "stream",
          "name": "stdout",
          "text": [
            "sample_data  tutorial\n"
          ]
        }
      ],
      "source": [
        "!ls"
      ]
    },
    {
      "cell_type": "code",
      "execution_count": 13,
      "metadata": {
        "colab": {
          "base_uri": "https://localhost:8080/"
        },
        "id": "AZfU8xYErDqk",
        "outputId": "95bc5eb3-dd45-45cf-d262-c7cff3beb0f8"
      },
      "outputs": [
        {
          "output_type": "stream",
          "name": "stdout",
          "text": [
            "This is a test\n"
          ]
        }
      ],
      "source": [
        "!echo \"This is a test\" > test_1.txt\n",
        "!cat test_1.txt"
      ]
    },
    {
      "cell_type": "markdown",
      "metadata": {
        "id": "Hnmw10sCq4GF"
      },
      "source": [
        "**Exercise 5:** Repeat the steps from section 4. Treat `/content/` as your working directory, i.e., create all folders and files inside of it."
      ]
    },
    {
      "cell_type": "code",
      "execution_count": 14,
      "metadata": {
        "id": "yxrnOzIusK5k"
      },
      "outputs": [],
      "source": [
        "# Your answer here\n",
        "# You can add as many cells as you want"
      ]
    },
    {
      "cell_type": "code",
      "source": [
        "%cd /content/tutorial\n",
        "!pwd"
      ],
      "metadata": {
        "colab": {
          "base_uri": "https://localhost:8080/"
        },
        "id": "xChrn7sgDSYe",
        "outputId": "bf574376-39fb-41a6-95a9-b7c97c0ed623"
      },
      "execution_count": 15,
      "outputs": [
        {
          "output_type": "stream",
          "name": "stdout",
          "text": [
            "/content/tutorial\n",
            "/content/tutorial\n"
          ]
        }
      ]
    },
    {
      "cell_type": "code",
      "source": [
        "%mkdir dir1 dir2 dir3"
      ],
      "metadata": {
        "id": "MpVGT9FzDvqc"
      },
      "execution_count": 16,
      "outputs": []
    },
    {
      "cell_type": "code",
      "source": [
        "%ls"
      ],
      "metadata": {
        "colab": {
          "base_uri": "https://localhost:8080/"
        },
        "id": "YzD9sDxxEHiV",
        "outputId": "482b8a67-fa70-490d-b78f-fe3f5a704d16"
      },
      "execution_count": 17,
      "outputs": [
        {
          "output_type": "stream",
          "name": "stdout",
          "text": [
            "\u001b[0m\u001b[01;34mdir1\u001b[0m/  \u001b[01;34mdir2\u001b[0m/  \u001b[01;34mdir3\u001b[0m/\n"
          ]
        }
      ]
    },
    {
      "cell_type": "code",
      "source": [
        "%mkdir -p dir4/dir5/dir6\n",
        "%ls"
      ],
      "metadata": {
        "colab": {
          "base_uri": "https://localhost:8080/"
        },
        "id": "vHtlI0xjEHq6",
        "outputId": "dbdf5f68-29a2-4a01-8f6a-b46855d45c9d"
      },
      "execution_count": 18,
      "outputs": [
        {
          "output_type": "stream",
          "name": "stdout",
          "text": [
            "\u001b[0m\u001b[01;34mdir1\u001b[0m/  \u001b[01;34mdir2\u001b[0m/  \u001b[01;34mdir3\u001b[0m/  \u001b[01;34mdir4\u001b[0m/\n"
          ]
        }
      ]
    },
    {
      "cell_type": "code",
      "source": [
        "%mkdir \"folder 1\"\n",
        "%mkdir 'folder 2'\n",
        "%mkdir folder\\ 3\n",
        "%mkdir \"folder 4\" \"folder 5\"\n",
        "%mkdir -p \"folder 6\"/\"folder 7\"\n",
        "%ls"
      ],
      "metadata": {
        "colab": {
          "base_uri": "https://localhost:8080/"
        },
        "id": "5FP5RuZjEH0z",
        "outputId": "fc44dd48-dc4b-4eed-a72f-53f5c1d4313c"
      },
      "execution_count": 19,
      "outputs": [
        {
          "output_type": "stream",
          "name": "stdout",
          "text": [
            " \u001b[0m\u001b[01;34mdir1\u001b[0m/   \u001b[01;34mdir3\u001b[0m/  \u001b[01;34m'folder 1'\u001b[0m/  \u001b[01;34m'folder 3'\u001b[0m/  \u001b[01;34m'folder 5'\u001b[0m/\n",
            " \u001b[01;34mdir2\u001b[0m/   \u001b[01;34mdir4\u001b[0m/  \u001b[01;34m'folder 2'\u001b[0m/  \u001b[01;34m'folder 4'\u001b[0m/  \u001b[01;34m'folder 6'\u001b[0m/\n"
          ]
        }
      ]
    },
    {
      "cell_type": "code",
      "source": [
        "%ls > output.txt"
      ],
      "metadata": {
        "id": "2Y8VkskWFUFa"
      },
      "execution_count": 20,
      "outputs": []
    },
    {
      "cell_type": "code",
      "source": [
        "%cat output.txt"
      ],
      "metadata": {
        "colab": {
          "base_uri": "https://localhost:8080/"
        },
        "id": "mLNpCj4vFUOQ",
        "outputId": "f320f157-610c-4bd9-a4ea-b7a53ff6d2e5"
      },
      "execution_count": 21,
      "outputs": [
        {
          "output_type": "stream",
          "name": "stdout",
          "text": [
            "\u001b[0m\u001b[01;34mdir1\u001b[0m/\n",
            "\u001b[01;34mdir2\u001b[0m/\n",
            "\u001b[01;34mdir3\u001b[0m/\n",
            "\u001b[01;34mdir4\u001b[0m/\n",
            "\u001b[01;34mfolder 1\u001b[0m/\n",
            "\u001b[01;34mfolder 2\u001b[0m/\n",
            "\u001b[01;34mfolder 3\u001b[0m/\n",
            "\u001b[01;34mfolder 4\u001b[0m/\n",
            "\u001b[01;34mfolder 5\u001b[0m/\n",
            "\u001b[01;34mfolder 6\u001b[0m/\n",
            "output.txt\n"
          ]
        }
      ]
    },
    {
      "cell_type": "code",
      "source": [
        "!echo \"This is a test\""
      ],
      "metadata": {
        "colab": {
          "base_uri": "https://localhost:8080/"
        },
        "id": "pAfyzag4FUVy",
        "outputId": "dc2c8bac-f220-4a00-d953-6a7e1a9ab8aa"
      },
      "execution_count": 22,
      "outputs": [
        {
          "output_type": "stream",
          "name": "stdout",
          "text": [
            "This is a test\n"
          ]
        }
      ]
    },
    {
      "cell_type": "code",
      "source": [
        "!echo \"This is a test\" > test_1.txt\n",
        "!echo \"This is a second test\" > test_2.txt\n",
        "!echo \"This is a third test\" > test_3.txt\n",
        "!ls"
      ],
      "metadata": {
        "colab": {
          "base_uri": "https://localhost:8080/"
        },
        "id": "9VZyfdQfFUZJ",
        "outputId": "88451c32-28c4-4451-ffc4-ad7d131032d9"
      },
      "execution_count": 23,
      "outputs": [
        {
          "output_type": "stream",
          "name": "stdout",
          "text": [
            " dir1   dir3  'folder 1'  'folder 3'  'folder 5'   output.txt   test_2.txt\n",
            " dir2   dir4  'folder 2'  'folder 4'  'folder 6'   test_1.txt   test_3.txt\n"
          ]
        }
      ]
    },
    {
      "cell_type": "code",
      "source": [
        "!cat test_1.txt test_2.txt test_3.txt"
      ],
      "metadata": {
        "colab": {
          "base_uri": "https://localhost:8080/"
        },
        "id": "yWiYhSm2FUbO",
        "outputId": "6a05f802-1514-441f-da29-b9a5f901264f"
      },
      "execution_count": 24,
      "outputs": [
        {
          "output_type": "stream",
          "name": "stdout",
          "text": [
            "This is a test\n",
            "This is a second test\n",
            "This is a third test\n"
          ]
        }
      ]
    },
    {
      "cell_type": "code",
      "source": [
        "%cat t* >> combined.txt\n",
        "!echo \"I've appended a line!\" >> combined.txt\n",
        "%cat combined.txt"
      ],
      "metadata": {
        "colab": {
          "base_uri": "https://localhost:8080/"
        },
        "id": "B8RFBjbJFUdT",
        "outputId": "e16b0282-3a99-4df2-9683-bc9dcae96fce"
      },
      "execution_count": 25,
      "outputs": [
        {
          "output_type": "stream",
          "name": "stdout",
          "text": [
            "This is a test\n",
            "This is a second test\n",
            "This is a third test\n",
            "I've appended a line!\n"
          ]
        }
      ]
    },
    {
      "cell_type": "code",
      "source": [
        "!less combined.txt"
      ],
      "metadata": {
        "id": "OzGXWDFJU98W",
        "outputId": "e8e5a970-cc10-4ce6-a1b7-ef1f2b4fd653",
        "colab": {
          "base_uri": "https://localhost:8080/"
        }
      },
      "execution_count": 26,
      "outputs": [
        {
          "output_type": "stream",
          "name": "stdout",
          "text": [
            "\u001b7\u001b[?47h\u001b[?1h\u001b=\rThis is a test\r\n",
            "This is a second test\r\n",
            "This is a third test\r\n",
            "I've appended a line!\n",
            "\u001b[7mcombined.txt (END)\u001b[m\u001b[K\u0007\u001b[H\u001b[2J\u001b[H\u001b[H\u001b[2J\u001b[HThis is a test\n",
            "This is a second test\n",
            "This is a third test\n",
            "I've appended a line!\n",
            "\u001b[1m~\u001b[m\n",
            "\u001b[1m~\u001b[m\n",
            "\u001b[1m~\u001b[m\n",
            "\u001b[1m~\u001b[m\n",
            "\u001b[1m~\u001b[m\n",
            "\u001b[1m~\u001b[m\n",
            "\u001b[1m~\u001b[m\n",
            "\u001b[1m~\u001b[m\n",
            "\u001b[1m~\u001b[m\n",
            "\u001b[1m~\u001b[m\n",
            "\u001b[1m~\u001b[m\n",
            "\u001b[1m~\u001b[m\n",
            "\u001b[1m~\u001b[m\n",
            "\u001b[1m~\u001b[m\n",
            "\u001b[1m~\u001b[m\n",
            "\u001b[1m~\u001b[m\n",
            "\u001b[1m~\u001b[m\n",
            "\u001b[1m~\u001b[m\n",
            "\u001b[1m~\u001b[m\n",
            "\u001b[7m(END)\u001b[m\u001b[K\u0007\u001b[H\u001b[2J\u001b[H\u001b[H\u001b[2J\u001b[HThis is a test\n",
            "This is a second test\n",
            "This is a third test\n",
            "I've appended a line!\n",
            "\u001b[1m~\u001b[m\n",
            "\u001b[1m~\u001b[m\n",
            "\u001b[1m~\u001b[m\n",
            "\u001b[1m~\u001b[m\n",
            "\u001b[1m~\u001b[m\n",
            "\u001b[1m~\u001b[m\n",
            "\u001b[1m~\u001b[m\n",
            "\u001b[1m~\u001b[m\n",
            "\u001b[1m~\u001b[m\n",
            "\u001b[1m~\u001b[m\n",
            "\u001b[1m~\u001b[m\n",
            "\u001b[1m~\u001b[m\n",
            "\u001b[1m~\u001b[m\n",
            "\u001b[1m~\u001b[m\n",
            "\u001b[1m~\u001b[m\n",
            "\u001b[1m~\u001b[m\n",
            "\u001b[1m~\u001b[m\n",
            "\u001b[1m~\u001b[m\n",
            "\u001b[1m~\u001b[m\n",
            "\u001b[7m(END)\u001b[m\u001b[K\u0007\u001b[H\u001b[2J\u001b[H\u001b[H\u001b[2J\u001b[HThis is a test\n",
            "This is a second test\n",
            "This is a third test\n",
            "I've appended a line!\n",
            "\u001b[1m~\u001b[m\n",
            "\u001b[1m~\u001b[m\n",
            "\u001b[1m~\u001b[m\n",
            "\u001b[1m~\u001b[m\n",
            "\u001b[1m~\u001b[m\n",
            "\u001b[1m~\u001b[m\n",
            "\u001b[1m~\u001b[m\n",
            "\u001b[1m~\u001b[m\n",
            "\u001b[1m~\u001b[m\n",
            "\u001b[1m~\u001b[m\n",
            "\u001b[1m~\u001b[m\n",
            "\u001b[1m~\u001b[m\n",
            "\u001b[1m~\u001b[m\n",
            "\u001b[1m~\u001b[m\n",
            "\u001b[1m~\u001b[m\n",
            "\u001b[1m~\u001b[m\n",
            "\u001b[1m~\u001b[m\n",
            "\u001b[1m~\u001b[m\n",
            "\u001b[1m~\u001b[m\n",
            "\u001b[K\u001b[?1l\u001b>\u001b[2J\u001b[?47l\u001b8"
          ]
        }
      ]
    },
    {
      "cell_type": "markdown",
      "metadata": {
        "id": "ghq5hHxRrr_V"
      },
      "source": [
        "## Moving and manipulating files"
      ]
    },
    {
      "cell_type": "markdown",
      "metadata": {
        "id": "wm0CC9ukruQT"
      },
      "source": [
        "Read section 5 from the [tutorial](https://ubuntu.com/tutorials/command-line-for-beginners#5-moving-and-manipulating-files).\n",
        "\n"
      ]
    },
    {
      "cell_type": "markdown",
      "metadata": {
        "id": "pryXMwlTsem0"
      },
      "source": [
        "**Exercise 6:** Repeat the steps from section 5. As before, treat `/content/` as your working directory."
      ]
    },
    {
      "cell_type": "code",
      "execution_count": 30,
      "metadata": {
        "id": "vUC68Hveqj3h",
        "colab": {
          "base_uri": "https://localhost:8080/"
        },
        "outputId": "77c073f8-909c-4753-b169-861ae11f80cc"
      },
      "outputs": [
        {
          "output_type": "stream",
          "name": "stdout",
          "text": [
            "/content/tutorial\n"
          ]
        }
      ],
      "source": [
        "# Your answer here\n",
        "# You can add as many cells as you want\n",
        "%cd /content/tutorial\n",
        "%mv combined.txt dir1"
      ]
    },
    {
      "cell_type": "code",
      "source": [
        "!ls dir1"
      ],
      "metadata": {
        "id": "0HUoJRqZVU0s",
        "outputId": "d3b3ce6d-4d89-43bd-f55f-e6a0ef000c6f",
        "colab": {
          "base_uri": "https://localhost:8080/"
        }
      },
      "execution_count": 32,
      "outputs": [
        {
          "output_type": "stream",
          "name": "stdout",
          "text": [
            "combined.txt\n"
          ]
        }
      ]
    },
    {
      "cell_type": "code",
      "source": [
        "%cd /content/tutorial"
      ],
      "metadata": {
        "id": "rBoT5zoRVU3h",
        "outputId": "c208e003-fa78-448e-e0e1-340900987644",
        "colab": {
          "base_uri": "https://localhost:8080/"
        }
      },
      "execution_count": 37,
      "outputs": [
        {
          "output_type": "stream",
          "name": "stdout",
          "text": [
            "/content/tutorial\n"
          ]
        }
      ]
    },
    {
      "cell_type": "code",
      "source": [
        "!mv dir1/* ."
      ],
      "metadata": {
        "id": "xzi-2WqKVU7a"
      },
      "execution_count": 38,
      "outputs": []
    },
    {
      "cell_type": "code",
      "source": [
        "!ls dir1"
      ],
      "metadata": {
        "id": "wOYtzHhPVU-D"
      },
      "execution_count": 39,
      "outputs": []
    },
    {
      "cell_type": "code",
      "source": [
        "!ls"
      ],
      "metadata": {
        "id": "Sxn2aOp2VU_2",
        "outputId": "030cdf46-3388-4bfe-855e-5557f1099c2b",
        "colab": {
          "base_uri": "https://localhost:8080/"
        }
      },
      "execution_count": 40,
      "outputs": [
        {
          "output_type": "stream",
          "name": "stdout",
          "text": [
            " combined.txt   dir2   dir4\t  'folder 2'  'folder 4'  'folder 6'    test_1.txt   test_3.txt\n",
            " dir1\t        dir3  'folder 1'  'folder 3'  'folder 5'   output.txt   test_2.txt\n"
          ]
        }
      ]
    },
    {
      "cell_type": "code",
      "source": [
        "!mv combined.txt test_* dir3 dir2\n",
        "!ls\n",
        "!ls dir2"
      ],
      "metadata": {
        "id": "J8a58z0hVVCM",
        "outputId": "0527f827-cdec-4279-e95c-8c096efc8471",
        "colab": {
          "base_uri": "https://localhost:8080/"
        }
      },
      "execution_count": 41,
      "outputs": [
        {
          "output_type": "stream",
          "name": "stdout",
          "text": [
            " dir1   dir4\t   'folder 2'  'folder 4'  'folder 6'\n",
            " dir2  'folder 1'  'folder 3'  'folder 5'   output.txt\n",
            "combined.txt  dir3  test_1.txt\ttest_2.txt  test_3.txt\n"
          ]
        }
      ]
    },
    {
      "cell_type": "code",
      "source": [
        "!mv dir2/combined.txt dir4/dir5/dir6\n",
        "!ls dir2\n",
        "!ls dir4/dir5/dir6"
      ],
      "metadata": {
        "id": "gADuqOVTVVG5",
        "outputId": "e3b96c50-7ae7-493d-dc70-41eca241a88a",
        "colab": {
          "base_uri": "https://localhost:8080/"
        }
      },
      "execution_count": 42,
      "outputs": [
        {
          "output_type": "stream",
          "name": "stdout",
          "text": [
            "dir3  test_1.txt  test_2.txt  test_3.txt\n",
            "combined.txt\n"
          ]
        }
      ]
    },
    {
      "cell_type": "code",
      "source": [
        "!cp dir4/dir5/dir6/combined.txt .\n",
        "!ls dir4/dir5/dir6\n",
        "!ls"
      ],
      "metadata": {
        "id": "0hr8p31SVVKA",
        "outputId": "746f7e14-f6da-4bfe-fb04-556cc5992a80",
        "colab": {
          "base_uri": "https://localhost:8080/"
        }
      },
      "execution_count": 43,
      "outputs": [
        {
          "output_type": "stream",
          "name": "stdout",
          "text": [
            "combined.txt\n",
            " combined.txt   dir2  'folder 1'  'folder 3'  'folder 5'   output.txt\n",
            " dir1\t        dir4  'folder 2'  'folder 4'  'folder 6'\n"
          ]
        }
      ]
    },
    {
      "cell_type": "code",
      "source": [
        "!cp combined.txt backup_combined.txt\n",
        "!ls"
      ],
      "metadata": {
        "id": "-GC4wcX8VVO-",
        "outputId": "15f0d438-86a5-4ae8-f35c-a7683e035494",
        "colab": {
          "base_uri": "https://localhost:8080/"
        }
      },
      "execution_count": 44,
      "outputs": [
        {
          "output_type": "stream",
          "name": "stdout",
          "text": [
            " backup_combined.txt   dir1   dir4\t 'folder 2'  'folder 4'  'folder 6'\n",
            " combined.txt\t       dir2  'folder 1'  'folder 3'  'folder 5'   output.txt\n"
          ]
        }
      ]
    },
    {
      "cell_type": "code",
      "source": [
        "!mv backup_combined.txt combined_backup.txt\n",
        "!ls"
      ],
      "metadata": {
        "id": "aaty8KexVVR0",
        "outputId": "5e9a01c9-f4ed-4d2a-dbd4-bc432d528d95",
        "colab": {
          "base_uri": "https://localhost:8080/"
        }
      },
      "execution_count": 45,
      "outputs": [
        {
          "output_type": "stream",
          "name": "stdout",
          "text": [
            " combined_backup.txt   dir1   dir4\t 'folder 2'  'folder 4'  'folder 6'\n",
            " combined.txt\t       dir2  'folder 1'  'folder 3'  'folder 5'   output.txt\n"
          ]
        }
      ]
    },
    {
      "cell_type": "code",
      "source": [
        "!mv \"folder 1\" folder_1\n",
        "!mv \"folder 2\" folder_2\n",
        "!mv \"folder 3\" folder_3\n",
        "!mv \"folder 4\" folder_4\n",
        "!mv \"folder 5\" folder_5\n",
        "!mv \"folder 6\" folder_6\n",
        "!ls"
      ],
      "metadata": {
        "id": "nXb7iATAYYun",
        "outputId": "8e9d9578-360a-4f8d-ea1b-82a831448c50",
        "colab": {
          "base_uri": "https://localhost:8080/"
        }
      },
      "execution_count": 46,
      "outputs": [
        {
          "output_type": "stream",
          "name": "stdout",
          "text": [
            "combined_backup.txt  dir1  dir4      folder_2  folder_4  folder_6\n",
            "combined.txt\t     dir2  folder_1  folder_3  folder_5  output.txt\n"
          ]
        }
      ]
    },
    {
      "cell_type": "code",
      "source": [
        "!rm dir4/dir5/dir6/combined.txt combined_backup.txt\n",
        "!ls\n",
        "!ls dir4/dir5/dir6"
      ],
      "metadata": {
        "id": "vkzKPcgqYYxK",
        "outputId": "5b11674e-ce93-48c9-cfc3-9f9def5d70da",
        "colab": {
          "base_uri": "https://localhost:8080/"
        }
      },
      "execution_count": 47,
      "outputs": [
        {
          "output_type": "stream",
          "name": "stdout",
          "text": [
            "combined.txt  dir2  folder_1  folder_3\tfolder_5  output.txt\n",
            "dir1\t      dir4  folder_2  folder_4\tfolder_6\n"
          ]
        }
      ]
    },
    {
      "cell_type": "code",
      "source": [
        "!rm folder_*"
      ],
      "metadata": {
        "id": "WkIQFA10YYzP",
        "outputId": "0bed17e2-bd60-497c-b924-e10041862a71",
        "colab": {
          "base_uri": "https://localhost:8080/"
        }
      },
      "execution_count": 48,
      "outputs": [
        {
          "output_type": "stream",
          "name": "stdout",
          "text": [
            "rm: cannot remove 'folder_1': Is a directory\n",
            "rm: cannot remove 'folder_2': Is a directory\n",
            "rm: cannot remove 'folder_3': Is a directory\n",
            "rm: cannot remove 'folder_4': Is a directory\n",
            "rm: cannot remove 'folder_5': Is a directory\n",
            "rm: cannot remove 'folder_6': Is a directory\n"
          ]
        }
      ]
    },
    {
      "cell_type": "code",
      "source": [
        "!rmdir folder_*"
      ],
      "metadata": {
        "id": "gdUpvzZiYY1l",
        "outputId": "cfe137ee-0e0f-42a3-aa66-c5b182095b6c",
        "colab": {
          "base_uri": "https://localhost:8080/"
        }
      },
      "execution_count": 49,
      "outputs": [
        {
          "output_type": "stream",
          "name": "stdout",
          "text": [
            "rmdir: failed to remove 'folder_6': Directory not empty\n"
          ]
        }
      ]
    },
    {
      "cell_type": "code",
      "source": [
        "!rm -r folder_6\n",
        "!ls"
      ],
      "metadata": {
        "id": "ffhDYcjZYY3r",
        "outputId": "576e0f34-f286-4752-efe7-187254a63c57",
        "colab": {
          "base_uri": "https://localhost:8080/"
        }
      },
      "execution_count": 50,
      "outputs": [
        {
          "output_type": "stream",
          "name": "stdout",
          "text": [
            "combined.txt  dir1  dir2  dir4\toutput.txt\n"
          ]
        }
      ]
    },
    {
      "cell_type": "markdown",
      "metadata": {
        "id": "gmFQWvGss4n8"
      },
      "source": [
        "## A bit of plumbing"
      ]
    },
    {
      "cell_type": "markdown",
      "metadata": {
        "id": "ICuFe37Qs7xc"
      },
      "source": [
        "Read section 6 from the [tutorial](https://ubuntu.com/tutorials/command-line-for-beginners#6-a-bit-of-plumbing).\n",
        "\n",
        "Once again, you will have to repeat the steps from the section. However, if you try to run the `man` command, you will probably encounter an error."
      ]
    },
    {
      "cell_type": "code",
      "execution_count": 51,
      "metadata": {
        "id": "MF8AIgkotPh0",
        "colab": {
          "base_uri": "https://localhost:8080/"
        },
        "outputId": "e7514ed4-028d-43fa-dc09-f1dd74b4051e"
      },
      "outputs": [
        {
          "output_type": "stream",
          "name": "stdout",
          "text": [
            "This system has been minimized by removing packages and content that are\n",
            "not required on a system that users do not log into.\n",
            "\n",
            "To restore this content, including manpages, you can run the 'unminimize'\n",
            "command. You will still need to ensure the 'man-db' package is installed.\n"
          ]
        }
      ],
      "source": [
        "!man uniq"
      ]
    },
    {
      "cell_type": "markdown",
      "metadata": {
        "id": "XWjXoM3-tRMc"
      },
      "source": [
        "To solve this error, run the following (you will have to type \"y\" in the provided input window with the black rectangle):"
      ]
    },
    {
      "cell_type": "code",
      "execution_count": 52,
      "metadata": {
        "colab": {
          "base_uri": "https://localhost:8080/"
        },
        "id": "x3XABCeksp62",
        "outputId": "3d28e5c5-19f4-4701-8e44-da9c1f4f772f"
      },
      "outputs": [
        {
          "output_type": "stream",
          "name": "stdout",
          "text": [
            "This system has been minimized by removing packages and content that are\n",
            "not required on a system that users do not log into.\n",
            "\n",
            "This script restores content and packages that are found on a default\n",
            "Ubuntu server system in order to make this system more suitable for\n",
            "interactive use.\n",
            "\n",
            "Reinstallation of packages may fail due to changes to the system\n",
            "configuration, the presence of third-party packages, or for other\n",
            "reasons.\n",
            "\n",
            "This operation may take some time.\n",
            "\n",
            "Would you like to continue? [y/N] y\n",
            "\n"
          ]
        }
      ],
      "source": [
        "!unminimize"
      ]
    },
    {
      "cell_type": "markdown",
      "metadata": {
        "id": "nz0ZzNSLtf-p"
      },
      "source": [
        "**Exercise 7:** repeat the steps from section 6."
      ]
    },
    {
      "cell_type": "code",
      "execution_count": 53,
      "metadata": {
        "id": "oDb0BKHtvp8F",
        "colab": {
          "base_uri": "https://localhost:8080/"
        },
        "outputId": "2286deac-7d74-43f5-895f-36eebe18ba29"
      },
      "outputs": [
        {
          "output_type": "stream",
          "name": "stdout",
          "text": [
            "4 combined.txt\n"
          ]
        }
      ],
      "source": [
        "# Your answer here\n",
        "# You can add as many cells as you want\n",
        "!wc -l combined.txt"
      ]
    },
    {
      "cell_type": "code",
      "source": [
        "!ls ~ > file_list.txt\n",
        "!wc -l file_list.txt\n",
        "!rm file_list.txt"
      ],
      "metadata": {
        "id": "8HMk7CfsZeKY",
        "outputId": "4068e4a3-69bb-435a-b7b3-b59f814a2bb4",
        "colab": {
          "base_uri": "https://localhost:8080/"
        }
      },
      "execution_count": 54,
      "outputs": [
        {
          "output_type": "stream",
          "name": "stdout",
          "text": [
            "0 file_list.txt\n"
          ]
        }
      ]
    },
    {
      "cell_type": "code",
      "source": [
        "!ls ~ | wc -l"
      ],
      "metadata": {
        "id": "UtJ3ZsRKZeM9",
        "outputId": "94145cbb-13e0-402c-eec0-cbf7d95d18b2",
        "colab": {
          "base_uri": "https://localhost:8080/"
        }
      },
      "execution_count": 55,
      "outputs": [
        {
          "output_type": "stream",
          "name": "stdout",
          "text": [
            "0\n"
          ]
        }
      ]
    },
    {
      "cell_type": "code",
      "source": [
        "!ls /etc|wc -l"
      ],
      "metadata": {
        "id": "e7yLWC6TZePC",
        "outputId": "b035c0ff-b8ec-4935-8609-26066bab79a7",
        "colab": {
          "base_uri": "https://localhost:8080/"
        }
      },
      "execution_count": 56,
      "outputs": [
        {
          "output_type": "stream",
          "name": "stdout",
          "text": [
            "150\n"
          ]
        }
      ]
    },
    {
      "cell_type": "code",
      "source": [
        "!ls /etc | less"
      ],
      "metadata": {
        "id": "9zQ_gbqvZeQ3",
        "outputId": "1455d732-f676-4ba5-cc8f-f4bc24c52eaa",
        "colab": {
          "base_uri": "https://localhost:8080/"
        }
      },
      "execution_count": 57,
      "outputs": [
        {
          "output_type": "stream",
          "name": "stdout",
          "text": [
            "\u001b7\u001b[?47h\u001b[?1h\u001b=\radduser.conf\r\n",
            "alternatives\r\n",
            "apparmor.d\r\n",
            "apt\r\n",
            "bash.bashrc\r\n",
            "bash_completion.d\r\n",
            "bindresvport.blacklist\r\n",
            "binfmt.d\r\n",
            "ca-certificates\r\n",
            "ca-certificates.conf\r\n",
            "ca-certificates.conf.dpkg-old\r\n",
            "cloud\r\n",
            "cron.d\r\n",
            "cron.daily\r\n",
            "cron.weekly\r\n",
            "cufile.json\r\n",
            "dbus-1\r\n",
            "dconf\r\n",
            "debconf.conf\r\n",
            "debian_version\r\n",
            "default\r\n",
            "deluser.conf\r\n",
            "depmod.d\n",
            "\u001b[K\u001b[?1l\u001b>\u001b[2J\u001b[?47l\u001b8"
          ]
        }
      ]
    },
    {
      "cell_type": "code",
      "source": [
        "!cat combined.txt | uniq | wc -l"
      ],
      "metadata": {
        "id": "xlJBeCf6ZeTN",
        "outputId": "9629a559-e2ca-4585-d3bc-4cf90d3dcc83",
        "colab": {
          "base_uri": "https://localhost:8080/"
        }
      },
      "execution_count": 58,
      "outputs": [
        {
          "output_type": "stream",
          "name": "stdout",
          "text": [
            "4\n"
          ]
        }
      ]
    },
    {
      "cell_type": "code",
      "source": [
        "!cat combined.txt | uniq | less\n"
      ],
      "metadata": {
        "id": "Xpx69o2aZeVU",
        "outputId": "19fb08fb-d9f3-4436-96ee-d5534fb8a740",
        "colab": {
          "base_uri": "https://localhost:8080/"
        }
      },
      "execution_count": 59,
      "outputs": [
        {
          "output_type": "stream",
          "name": "stdout",
          "text": [
            "\u001b7\u001b[?47h\u001b[?1h\u001b=\rThis is a test\r\n",
            "This is a second test\r\n",
            "This is a third test\r\n",
            "I've appended a line!\n",
            "\u001b[K\u001b[?1l\u001b>\u001b[2J\u001b[?47l\u001b8"
          ]
        }
      ]
    },
    {
      "cell_type": "code",
      "source": [
        "!man uniq"
      ],
      "metadata": {
        "id": "Sjhr5JizZeXX",
        "outputId": "be3382b8-0af6-4244-d28d-84cf7d90cf27",
        "colab": {
          "base_uri": "https://localhost:8080/"
        }
      },
      "execution_count": 60,
      "outputs": [
        {
          "output_type": "stream",
          "name": "stdout",
          "text": [
            "UNIQ(1POSIX)                        POSIX Programmer's Manual                        UNIQ(1POSIX)\n",
            "\n",
            "P\bPR\bRO\bOL\bLO\bOG\bG\n",
            "       This  manual  page  is part of the POSIX Programmer's Manual.  The Linux implementation of\n",
            "       this interface may differ (consult the corresponding Linux  manual  page  for  details  of\n",
            "       Linux behavior), or the interface may not be implemented on Linux.\n",
            "\n",
            "N\bNA\bAM\bME\bE\n",
            "       uniq — report or filter out repeated lines in a file\n",
            "\n",
            "S\bSY\bYN\bNO\bOP\bPS\bSI\bIS\bS\n",
            "       uniq [\b[-c|-d|-u]\b] [\b[-f _\bf_\bi_\be_\bl_\bd_\bs]\b] [\b[-s _\bc_\bh_\ba_\br]\b] [\b[_\bi_\bn_\bp_\bu_\bt_\b__\bf_\bi_\bl_\be [\b[_\bo_\bu_\bt_\bp_\bu_\bt_\b__\bf_\bi_\bl_\be]\b]]\b]\n",
            "\n",
            "D\bDE\bES\bSC\bCR\bRI\bIP\bPT\bTI\bIO\bON\bN\n",
            "       The  _\bu_\bn_\bi_\bq utility shall read an input file comparing adjacent lines, and write one copy of\n",
            "       each input line on the output. The second and succeeding copies of repeated adjacent input\n",
            "       lines shall not be written.  The trailing <newline> of each line in the input shall be ig‐\n",
            "       nored when doing comparisons.\n",
            "\n",
            "       Repeated lines in the input shall not be detected if they are not adjacent.\n",
            "\n",
            "O\bOP\bPT\bTI\bIO\bON\bNS\bS\n",
            "       The _\bu_\bn_\bi_\bq utility shall conform to the Base Definitions  volume  of  POSIX.1‐2017,  _\bS_\be_\bc_\bt_\bi_\bo_\bn\n",
            "       _\b1_\b2_\b._\b2,  _\bU_\bt_\bi_\bl_\bi_\bt_\by _\bS_\by_\bn_\bt_\ba_\bx _\bG_\bu_\bi_\bd_\be_\bl_\bi_\bn_\be_\bs, except that '\b'+\b+'\b' may be recognized as an option delimiter\n",
            "       as well as '\b'-\b-'\b'.\n",
            "\n",
            "       The following options shall be supported:\n",
            "\n",
            "       -\b-c\bc        Precede each output line with a count of the number of times the  line  occurred\n",
            "                 in the input.\n",
            "\n",
            "       -\b-d\bd        Suppress the writing of lines that are not repeated in the input.\n",
            "\n",
            "       -\b-f\bf _\bf_\bi_\be_\bl_\bd_\bs Ignore  the first _\bf_\bi_\be_\bl_\bd_\bs fields on each input line when doing comparisons, where\n",
            "                 _\bf_\bi_\be_\bl_\bd_\bs is a positive decimal integer. A field is the maximal string  matched  by\n",
            "                 the basic regular expression:\n",
            "\n",
            "                     [[:blank:]]*[^[:blank:]]*\n",
            "\n",
            "                 If  the  _\bf_\bi_\be_\bl_\bd_\bs  option-argument  specifies  more fields than appear on an input\n",
            "                 line, a null string shall be used for comparison.\n",
            "\n",
            "       -\b-s\bs _\bc_\bh_\ba_\br_\bs  Ignore the first _\bc_\bh_\ba_\br_\bs characters when doing comparisons, where _\bc_\bh_\ba_\br_\bs shall be a\n",
            "                 positive  decimal  integer.  If specified in conjunction with the -\b-f\bf option, the\n",
            "                 first _\bc_\bh_\ba_\br_\bs characters after the first _\bf_\bi_\be_\bl_\bd_\bs fields shall be  ignored.  If  the\n",
            "                 _\bc_\bh_\ba_\br_\bs  option-argument specifies more characters than remain on an input line, a\n",
            "                 null string shall be used for comparison.\n",
            "\n",
            "       -\b-u\bu        Suppress the writing of lines that are repeated in the input.\n",
            "\n",
            "O\bOP\bPE\bER\bRA\bAN\bND\bDS\bS\n",
            "       The following operands shall be supported:\n",
            "\n",
            "       _\bi_\bn_\bp_\bu_\bt_\b__\bf_\bi_\bl_\be\n",
            "                 A pathname of the input file. If the _\bi_\bn_\bp_\bu_\bt_\b__\bf_\bi_\bl_\be operand is not specified, or  if\n",
            "                 the _\bi_\bn_\bp_\bu_\bt_\b__\bf_\bi_\bl_\be is '\b'-\b-'\b', the standard input shall be used.\n",
            "\n",
            "       _\bo_\bu_\bt_\bp_\bu_\bt_\b__\bf_\bi_\bl_\be\n",
            "                 A  pathname of the output file. If the _\bo_\bu_\bt_\bp_\bu_\bt_\b__\bf_\bi_\bl_\be operand is not specified, the\n",
            "                 standard output shall be used. The results are unspecified if the file named  by\n",
            "                 _\bo_\bu_\bt_\bp_\bu_\bt_\b__\bf_\bi_\bl_\be is the file named by _\bi_\bn_\bp_\bu_\bt_\b__\bf_\bi_\bl_\be.\n",
            "\n",
            "S\bST\bTD\bDI\bIN\bN\n",
            "       The  standard  input  shall  be  used only if no _\bi_\bn_\bp_\bu_\bt_\b__\bf_\bi_\bl_\be operand is specified or if _\bi_\bn_\b‐\n",
            "       _\bp_\bu_\bt_\b__\bf_\bi_\bl_\be is '\b'-\b-'\b'.  See the INPUT FILES section.\n",
            "\n",
            "I\bIN\bNP\bPU\bUT\bT F\bFI\bIL\bLE\bES\bS\n",
            "       The input file shall be a text file.\n",
            "\n",
            "E\bEN\bNV\bVI\bIR\bRO\bON\bNM\bME\bEN\bNT\bT V\bVA\bAR\bRI\bIA\bAB\bBL\bLE\bES\bS\n",
            "       The following environment variables shall affect the execution of _\bu_\bn_\bi_\bq:\n",
            "\n",
            "       _\bL_\bA_\bN_\bG      Provide a default value for the internationalization variables that are unset or\n",
            "                 null.  (See  the  Base Definitions volume of POSIX.1‐2017, _\bS_\be_\bc_\bt_\bi_\bo_\bn _\b8_\b._\b2, _\bI_\bn_\bt_\be_\br_\bn_\ba_\b‐\n",
            "                 _\bt_\bi_\bo_\bn_\ba_\bl_\bi_\bz_\ba_\bt_\bi_\bo_\bn _\bV_\ba_\br_\bi_\ba_\bb_\bl_\be_\bs for the  precedence  of  internationalization  variables\n",
            "                 used to determine the values of locale categories.)\n",
            "\n",
            "       _\bL_\bC_\b__\bA_\bL_\bL    If  set to a non-empty string value, override the values of all the other inter‐\n",
            "                 nationalization variables.\n",
            "\n",
            "       _\bL_\bC_\b__\bC_\bT_\bY_\bP_\bE  Determine the locale for the interpretation of sequences of bytes of  text  data\n",
            "                 as  characters  (for example, single-byte as opposed to multi-byte characters in\n",
            "                 arguments and input files) and which characters constitute a <blank> in the cur‐\n",
            "                 rent locale.\n",
            "\n",
            "       _\bL_\bC_\b__\bM_\bE_\bS_\bS_\bA_\bG_\bE_\bS\n",
            "                 Determine  the  locale  that should be used to affect the format and contents of\n",
            "                 diagnostic messages written to standard error.\n",
            "\n",
            "       _\bN_\bL_\bS_\bP_\bA_\bT_\bH   Determine the location of message catalogs for the processing of _\bL_\bC_\b__\bM_\bE_\bS_\bS_\bA_\bG_\bE_\bS.\n",
            "\n",
            "A\bAS\bSY\bYN\bNC\bCH\bHR\bRO\bON\bNO\bOU\bUS\bS E\bEV\bVE\bEN\bNT\bTS\bS\n",
            "       Default.\n",
            "\n",
            "S\bST\bTD\bDO\bOU\bUT\bT\n",
            "       The standard output shall be used if no _\bo_\bu_\bt_\bp_\bu_\bt_\b__\bf_\bi_\bl_\be operand is  specified,  and  shall  be\n",
            "       used  if  the  _\bo_\bu_\bt_\bp_\bu_\bt_\b__\bf_\bi_\bl_\be operand is '\b'-\b-'\b' and the implementation treats the '\b'-\b-'\b' as meaning\n",
            "       standard output. Otherwise, the standard output shall not be used.  See the  OUTPUT  FILES\n",
            "       section.\n",
            "\n",
            "S\bST\bTD\bDE\bER\bRR\bR\n",
            "       The standard error shall be used only for diagnostic messages.\n",
            "\n",
            "O\bOU\bUT\bTP\bPU\bUT\bT F\bFI\bIL\bLE\bES\bS\n",
            "       If the -\b-c\bc option is specified, the output file shall be empty or each line shall be of the\n",
            "       form:\n",
            "\n",
            "           \"%d %s\", <_\bn_\bu_\bm_\bb_\be_\br _\bo_\bf _\bd_\bu_\bp_\bl_\bi_\bc_\ba_\bt_\be_\bs>, <_\bl_\bi_\bn_\be>\n",
            "\n",
            "       otherwise, the output file shall be empty or each line shall be of the form:\n",
            "\n",
            "           \"%s\", <_\bl_\bi_\bn_\be>\n",
            "\n",
            "E\bEX\bXT\bTE\bEN\bND\bDE\bED\bD D\bDE\bES\bSC\bCR\bRI\bIP\bPT\bTI\bIO\bON\bN\n",
            "       None.\n",
            "\n",
            "E\bEX\bXI\bIT\bT S\bST\bTA\bAT\bTU\bUS\bS\n",
            "       The following exit values shall be returned:\n",
            "\n",
            "        0    The utility executed successfully.\n",
            "\n",
            "       >0    An error occurred.\n",
            "\n",
            "C\bCO\bON\bNS\bSE\bEQ\bQU\bUE\bEN\bNC\bCE\bES\bS O\bOF\bF E\bER\bRR\bRO\bOR\bRS\bS\n",
            "       Default.\n",
            "\n",
            "       _\bT_\bh_\be _\bf_\bo_\bl_\bl_\bo_\bw_\bi_\bn_\bg _\bs_\be_\bc_\bt_\bi_\bo_\bn_\bs _\ba_\br_\be _\bi_\bn_\bf_\bo_\br_\bm_\ba_\bt_\bi_\bv_\be_\b.\n",
            "\n",
            "A\bAP\bPP\bPL\bLI\bIC\bCA\bAT\bTI\bIO\bON\bN U\bUS\bSA\bAG\bGE\bE\n",
            "       If the collating sequence of the current locale has a total ordering  of  all  characters,\n",
            "       the  _\bs_\bo_\br_\bt utility can be used to cause repeated lines to be adjacent in the input file. If\n",
            "       the collating sequence does not have a total ordering of all characters, the _\bs_\bo_\br_\bt  utility\n",
            "       should  still do this but it might not. To ensure that all duplicate lines are eliminated,\n",
            "       and have the output sorted according the collating sequence of the current locale,  appli‐\n",
            "       cations should use:\n",
            "\n",
            "           LC_ALL=C sort -u | sort\n",
            "\n",
            "       instead of:\n",
            "\n",
            "           sort | uniq\n",
            "\n",
            "       To  remove  duplicate  lines based on whether they collate equally instead of whether they\n",
            "       are identical, applications should use:\n",
            "\n",
            "           sort -u\n",
            "\n",
            "       instead of:\n",
            "\n",
            "           sort | uniq\n",
            "\n",
            "       When using _\bu_\bn_\bi_\bq to process pathnames, it is recommended that LC_ALL, or at least  LC_CTYPE\n",
            "       and LC_COLLATE, are set to POSIX or C in the environment, since pathnames can contain byte\n",
            "       sequences that do not form valid characters in some locales, in which case  the  utility's\n",
            "       behavior  would be undefined. In the POSIX locale each byte is a valid single-byte charac‐\n",
            "       ter, and therefore this problem is avoided.\n",
            "\n",
            "E\bEX\bXA\bAM\bMP\bPL\bLE\bES\bS\n",
            "       The following input file data (but flushed left) was used for a test series on _\bu_\bn_\bi_\bq:\n",
            "\n",
            "           #01 foo0 bar0 foo1 bar1\n",
            "           #02 bar0 foo1 bar1 foo1\n",
            "           #03 foo0 bar0 foo1 bar1\n",
            "           #04\n",
            "           #05 foo0 bar0 foo1 bar1\n",
            "           #06 foo0 bar0 foo1 bar1\n",
            "           #07 bar0 foo1 bar1 foo0\n",
            "\n",
            "       What follows is a series of test invocations of the _\bu_\bn_\bi_\bq utility that  use  a  mixture  of\n",
            "       _\bu_\bn_\bi_\bq options against the input file data. These tests verify the meaning of _\ba_\bd_\bj_\ba_\bc_\be_\bn_\bt.  The\n",
            "       _\bu_\bn_\bi_\bq utility views the input data as a sequence of strings  delimited  by  '\b'\\\b\\n\bn'\b'.   Accord‐\n",
            "       ingly,  for  the _\bf_\bi_\be_\bl_\bd_\bsth member of the sequence, _\bu_\bn_\bi_\bq interprets unique or repeated adja‐\n",
            "       cent lines strictly relative to the _\bf_\bi_\be_\bl_\bd_\bs+1th member.\n",
            "\n",
            "        1. This first example tests the line counting option, comparing each line  of  the  input\n",
            "           file data starting from the second field:\n",
            "\n",
            "               uniq -c -f 1 uniq_0I.t\n",
            "                   1 #01 foo0 bar0 foo1 bar1\n",
            "                   1 #02 bar0 foo1 bar1 foo1\n",
            "                   1 #03 foo0 bar0 foo1 bar1\n",
            "                   1 #04\n",
            "                   2 #05 foo0 bar0 foo1 bar1\n",
            "                   1 #07 bar0 foo1 bar1 foo0\n",
            "\n",
            "           The  number  '\b'2\b2'\b',  prefixing the fifth line of output, signifies that the _\bu_\bn_\bi_\bq utility\n",
            "           detected a pair of repeated lines. Given the input data, this can only  be  true  when\n",
            "           _\bu_\bn_\bi_\bq is run using the -\b-f\bf 1\b1 option (which shall cause _\bu_\bn_\bi_\bq to ignore the first field on\n",
            "           each input line).\n",
            "\n",
            "        2. The second example tests the option to suppress unique lines, comparing each  line  of\n",
            "           the input file data starting from the second field:\n",
            "\n",
            "               uniq -d -f 1 uniq_0I.t\n",
            "               #05 foo0 bar0 foo1 bar1\n",
            "\n",
            "        3. This test suppresses repeated lines, comparing each line of the input file data start‐\n",
            "           ing from the second field:\n",
            "\n",
            "               uniq -u -f 1 uniq_0I.t\n",
            "               #01 foo0 bar0 foo1 bar1\n",
            "               #02 bar0 foo1 bar1 foo1\n",
            "               #03 foo0 bar0 foo1 bar1\n",
            "               #04\n",
            "               #07 bar0 foo1 bar1 foo0\n",
            "\n",
            "        4. This suppresses unique lines, comparing each line of the input file data starting from\n",
            "           the third character:\n",
            "\n",
            "               uniq -d -s 2 uniq_0I.t\n",
            "\n",
            "           In the last example, the _\bu_\bn_\bi_\bq utility found no input matching the above criteria.\n",
            "\n",
            "R\bRA\bAT\bTI\bIO\bON\bNA\bAL\bLE\bE\n",
            "       Some  historical implementations have limited lines to be 1080 bytes in length, which does\n",
            "       not meet the implied {LINE_MAX} limit.\n",
            "\n",
            "       Earlier versions of this standard allowed the -\b-_\bn_\bu_\bm_\bb_\be_\br and +\b+_\bn_\bu_\bm_\bb_\be_\br options.  These  options\n",
            "       are no longer specified by POSIX.1‐2008 but may be present in some implementations.\n",
            "\n",
            "F\bFU\bUT\bTU\bUR\bRE\bE D\bDI\bIR\bRE\bEC\bCT\bTI\bIO\bON\bNS\bS\n",
            "       None.\n",
            "\n",
            "S\bSE\bEE\bE A\bAL\bLS\bSO\bO\n",
            "       _\bc_\bo_\bm_\bm, _\bs_\bo_\br_\bt\n",
            "\n",
            "       The  Base  Definitions  volume  of POSIX.1‐2017, _\bC_\bh_\ba_\bp_\bt_\be_\br _\b8, _\bE_\bn_\bv_\bi_\br_\bo_\bn_\bm_\be_\bn_\bt _\bV_\ba_\br_\bi_\ba_\bb_\bl_\be_\bs, _\bS_\be_\bc_\bt_\bi_\bo_\bn\n",
            "       _\b1_\b2_\b._\b2, _\bU_\bt_\bi_\bl_\bi_\bt_\by _\bS_\by_\bn_\bt_\ba_\bx _\bG_\bu_\bi_\bd_\be_\bl_\bi_\bn_\be_\bs\n",
            "\n",
            "C\bCO\bOP\bPY\bYR\bRI\bIG\bGH\bHT\bT\n",
            "       Portions of this text are reprinted and  reproduced  in  electronic  form  from  IEEE  Std\n",
            "       1003.1-2017,  Standard  for  Information Technology -- Portable Operating System Interface\n",
            "       (POSIX), The Open Group Base Specifications Issue 7, 2018 Edition, Copyright (C)  2018  by\n",
            "       the  Institute  of  Electrical  and Electronics Engineers, Inc and The Open Group.  In the\n",
            "       event of any discrepancy between this version and the original IEEE  and  The  Open  Group\n",
            "       Standard, the original IEEE and The Open Group Standard is the referee document. The orig‐\n",
            "       inal Standard can be obtained online at http://www.opengroup.org/unix/online.html .\n",
            "\n",
            "       Any typographical or formatting errors that appear in this page are most  likely  to  have\n",
            "       been  introduced  during  the conversion of the source files to man page format. To report\n",
            "       such errors, see https://www.kernel.org/doc/man-pages/reporting_bugs.html .\n",
            "\n",
            "IEEE/The Open Group                            2017                                  UNIQ(1POSIX)\n"
          ]
        }
      ]
    },
    {
      "cell_type": "code",
      "source": [
        "!sort combined.txt | uniq | wc -l"
      ],
      "metadata": {
        "id": "aWPOboW9ZeZe",
        "outputId": "a5a81941-b85d-4699-defe-5568ba5e7630",
        "colab": {
          "base_uri": "https://localhost:8080/"
        }
      },
      "execution_count": 61,
      "outputs": [
        {
          "output_type": "stream",
          "name": "stdout",
          "text": [
            "4\n"
          ]
        }
      ]
    },
    {
      "cell_type": "markdown",
      "metadata": {
        "id": "j0W6V-QstpMf"
      },
      "source": [
        "## The command line and the superuser"
      ]
    },
    {
      "cell_type": "markdown",
      "metadata": {
        "id": "YZ0Iyy_0tqH2"
      },
      "source": [
        "Read section 7 from the [tutorial](https://ubuntu.com/tutorials/command-line-for-beginners#7-the-command-line-and-the-superuser)."
      ]
    },
    {
      "cell_type": "markdown",
      "metadata": {
        "id": "a7dCXeaht6bE"
      },
      "source": [
        "**Exercise 8:** The `sudo` command is crucial when setting up environments on a local machine or a VM. Explain what the `sudo` command does.\n",
        "\n",
        "[Your answer here]"
      ]
    },
    {
      "cell_type": "markdown",
      "metadata": {
        "id": "2h8uKTPkuOkN"
      },
      "source": [
        "Here is an example:"
      ]
    },
    {
      "cell_type": "code",
      "execution_count": null,
      "metadata": {
        "colab": {
          "base_uri": "https://localhost:8080/"
        },
        "id": "4FVyi5ans0RN",
        "outputId": "14290822-67f2-4fc6-8dcd-5107bdb341bc"
      },
      "outputs": [
        {
          "name": "stdout",
          "output_type": "stream",
          "text": [
            "root\n"
          ]
        }
      ],
      "source": [
        "!sudo whoami"
      ]
    },
    {
      "cell_type": "code",
      "execution_count": null,
      "metadata": {
        "id": "xOPwaE26uvjB"
      },
      "outputs": [],
      "source": [
        "!sudo apt install tree"
      ]
    },
    {
      "cell_type": "code",
      "execution_count": null,
      "metadata": {
        "id": "7YDVSi9vvA5t"
      },
      "outputs": [],
      "source": [
        "!tree"
      ]
    },
    {
      "cell_type": "markdown",
      "metadata": {
        "id": "yjqJ4w2vukYg"
      },
      "source": [
        "**Exercise 9:** repeat the remaining steps from section 7."
      ]
    },
    {
      "cell_type": "code",
      "execution_count": 62,
      "metadata": {
        "id": "Pka_v5AJvoc-",
        "colab": {
          "base_uri": "https://localhost:8080/"
        },
        "outputId": "ea27bff0-9ed7-4fa5-f270-ddb35604576f"
      },
      "outputs": [
        {
          "output_type": "stream",
          "name": "stdout",
          "text": [
            "root:*:19901:0:99999:7:::\n",
            "daemon:*:19901:0:99999:7:::\n",
            "bin:*:19901:0:99999:7:::\n",
            "sys:*:19901:0:99999:7:::\n",
            "sync:*:19901:0:99999:7:::\n",
            "games:*:19901:0:99999:7:::\n",
            "man:*:19901:0:99999:7:::\n",
            "lp:*:19901:0:99999:7:::\n",
            "mail:*:19901:0:99999:7:::\n",
            "news:*:19901:0:99999:7:::\n",
            "uucp:*:19901:0:99999:7:::\n",
            "proxy:*:19901:0:99999:7:::\n",
            "www-data:*:19901:0:99999:7:::\n",
            "backup:*:19901:0:99999:7:::\n",
            "list:*:19901:0:99999:7:::\n",
            "irc:*:19901:0:99999:7:::\n",
            "gnats:*:19901:0:99999:7:::\n",
            "nobody:*:19901:0:99999:7:::\n",
            "_apt:*:19901:0:99999:7:::\n",
            "systemd-network:*:20132:0:99999:7:::\n",
            "systemd-resolve:*:20132:0:99999:7:::\n",
            "messagebus:*:20132:0:99999:7:::\n",
            "root:*:19901:0:99999:7:::\n",
            "daemon:*:19901:0:99999:7:::\n",
            "bin:*:19901:0:99999:7:::\n",
            "sys:*:19901:0:99999:7:::\n",
            "sync:*:19901:0:99999:7:::\n",
            "games:*:19901:0:99999:7:::\n",
            "man:*:19901:0:99999:7:::\n",
            "lp:*:19901:0:99999:7:::\n",
            "mail:*:19901:0:99999:7:::\n",
            "news:*:19901:0:99999:7:::\n",
            "uucp:*:19901:0:99999:7:::\n",
            "proxy:*:19901:0:99999:7:::\n",
            "www-data:*:19901:0:99999:7:::\n",
            "backup:*:19901:0:99999:7:::\n",
            "list:*:19901:0:99999:7:::\n",
            "irc:*:19901:0:99999:7:::\n",
            "gnats:*:19901:0:99999:7:::\n",
            "nobody:*:19901:0:99999:7:::\n",
            "_apt:*:19901:0:99999:7:::\n",
            "systemd-network:*:20132:0:99999:7:::\n",
            "systemd-resolve:*:20132:0:99999:7:::\n",
            "messagebus:*:20132:0:99999:7:::\n"
          ]
        }
      ],
      "source": [
        "# Your answer here\n",
        "# You can add as many cells as you want\n",
        "!cat /etc/shadow\n",
        "!sudo cat /etc/shadow"
      ]
    },
    {
      "cell_type": "code",
      "source": [
        "!sudo apt install tree"
      ],
      "metadata": {
        "id": "Pcpj1s7dbLZW",
        "outputId": "ff36fc1b-8640-4042-acf9-3d74bd374885",
        "colab": {
          "base_uri": "https://localhost:8080/"
        }
      },
      "execution_count": 63,
      "outputs": [
        {
          "output_type": "stream",
          "name": "stdout",
          "text": [
            "Reading package lists... Done\n",
            "Building dependency tree... Done\n",
            "Reading state information... Done\n",
            "The following NEW packages will be installed:\n",
            "  tree\n",
            "0 upgraded, 1 newly installed, 0 to remove and 20 not upgraded.\n",
            "Need to get 47.9 kB of archives.\n",
            "After this operation, 116 kB of additional disk space will be used.\n",
            "Get:1 http://archive.ubuntu.com/ubuntu jammy/universe amd64 tree amd64 2.0.2-1 [47.9 kB]\n",
            "Fetched 47.9 kB in 1s (44.2 kB/s)\n",
            "debconf: unable to initialize frontend: Dialog\n",
            "debconf: (No usable dialog-like program is installed, so the dialog based frontend cannot be used. at /usr/share/perl5/Debconf/FrontEnd/Dialog.pm line 78, <> line 1.)\n",
            "debconf: falling back to frontend: Readline\n",
            "debconf: unable to initialize frontend: Readline\n",
            "debconf: (This frontend requires a controlling tty.)\n",
            "debconf: falling back to frontend: Teletype\n",
            "dpkg-preconfigure: unable to re-open stdin: \n",
            "Selecting previously unselected package tree.\n",
            "(Reading database ... 124925 files and directories currently installed.)\n",
            "Preparing to unpack .../tree_2.0.2-1_amd64.deb ...\n",
            "Unpacking tree (2.0.2-1) ...\n",
            "Setting up tree (2.0.2-1) ...\n",
            "Processing triggers for man-db (2.10.2-1) ...\n"
          ]
        }
      ]
    },
    {
      "cell_type": "code",
      "source": [
        "!cd /tmp/tutorial\n",
        "!tree"
      ],
      "metadata": {
        "id": "EBEJ1rOubLef",
        "outputId": "ccbac845-6293-4d13-f402-427e504dcd79",
        "colab": {
          "base_uri": "https://localhost:8080/"
        }
      },
      "execution_count": 64,
      "outputs": [
        {
          "output_type": "stream",
          "name": "stdout",
          "text": [
            "/bin/bash: line 1: cd: /tmp/tutorial: No such file or directory\n",
            "\u001b[01;34m.\u001b[0m\n",
            "├── \u001b[00mcombined.txt\u001b[0m\n",
            "├── \u001b[01;34mdir1\u001b[0m\n",
            "├── \u001b[01;34mdir2\u001b[0m\n",
            "│   ├── \u001b[01;34mdir3\u001b[0m\n",
            "│   ├── \u001b[00mtest_1.txt\u001b[0m\n",
            "│   ├── \u001b[00mtest_2.txt\u001b[0m\n",
            "│   └── \u001b[00mtest_3.txt\u001b[0m\n",
            "├── \u001b[01;34mdir4\u001b[0m\n",
            "│   └── \u001b[01;34mdir5\u001b[0m\n",
            "│       └── \u001b[01;34mdir6\u001b[0m\n",
            "└── \u001b[00moutput.txt\u001b[0m\n",
            "\n",
            "6 directories, 5 files\n"
          ]
        }
      ]
    },
    {
      "cell_type": "markdown",
      "metadata": {
        "id": "TWOwEMhcvF08"
      },
      "source": [
        "## Conclusion"
      ]
    },
    {
      "cell_type": "markdown",
      "metadata": {
        "id": "Yo7hdVEdvJJU"
      },
      "source": [
        "Read sections 8 and 9 from the [tutorial](https://ubuntu.com/tutorials/command-line-for-beginners)."
      ]
    },
    {
      "cell_type": "markdown",
      "metadata": {
        "id": "qOViqNE0vc7O"
      },
      "source": [
        "**Exercise 10:** Demonstrate the usage of any command not mentioned in the [tutorial](https://ubuntu.com/tutorials/command-line-for-beginners)."
      ]
    },
    {
      "cell_type": "code",
      "execution_count": 65,
      "metadata": {
        "id": "18f3ekWuvHs7",
        "colab": {
          "base_uri": "https://localhost:8080/"
        },
        "outputId": "e83a5aa3-ad59-4828-f510-b2e0350a2664"
      },
      "outputs": [
        {
          "output_type": "stream",
          "name": "stdout",
          "text": [
            "\u001b[?1h\u001b=\u001b[H\u001b[2J\u001b[mtop - 02:27:50 up 27 min,  0 users,  load average: 0.36, 0.29, 0.27\u001b[m\u001b[m\u001b[m\u001b[m\u001b[K\n",
            "Tasks:\u001b[m\u001b[m\u001b[1m  17 \u001b[m\u001b[mtotal,\u001b[m\u001b[m\u001b[1m   1 \u001b[m\u001b[mrunning,\u001b[m\u001b[m\u001b[1m  15 \u001b[m\u001b[msleeping,\u001b[m\u001b[m\u001b[1m   0 \u001b[m\u001b[mstopped,\u001b[m\u001b[m\u001b[1m   1 \u001b[m\u001b[mzombie\u001b[m\u001b[m\u001b[m\u001b[m\u001b[K\n",
            "%Cpu(s):\u001b[m\u001b[m\u001b[1m 45.2 \u001b[m\u001b[mus,\u001b[m\u001b[m\u001b[1m  9.7 \u001b[m\u001b[msy,\u001b[m\u001b[m\u001b[1m  0.0 \u001b[m\u001b[mni,\u001b[m\u001b[m\u001b[1m 45.2 \u001b[m\u001b[mid,\u001b[m\u001b[m\u001b[1m  0.0 \u001b[m\u001b[mwa,\u001b[m\u001b[m\u001b[1m  0.0 \u001b[m\u001b[mhi,\u001b[m\u001b[m\u001b[1m  0.0 \u001b[m\u001b[msi,\u001b[m\u001b[m\u001b[1m  0.0 \u001b[m\u001b[mst\u001b[m\u001b[m\u001b[m\u001b[m\u001b[K\n",
            "MiB Mem :\u001b[m\u001b[m\u001b[1m  12979.0 \u001b[m\u001b[mtotal,\u001b[m\u001b[m\u001b[1m   8173.2 \u001b[m\u001b[mfree,\u001b[m\u001b[m\u001b[1m    960.1 \u001b[m\u001b[mused,\u001b[m\u001b[m\u001b[1m   3845.7 \u001b[m\u001b[mbuff/cache\u001b[m\u001b[m\u001b[m\u001b[m\u001b[K\n",
            "MiB Swap:\u001b[m\u001b[m\u001b[1m      0.0 \u001b[m\u001b[mtotal,\u001b[m\u001b[m\u001b[1m      0.0 \u001b[m\u001b[mfree,\u001b[m\u001b[m\u001b[1m      0.0 \u001b[m\u001b[mused.\u001b[m\u001b[m\u001b[1m  11697.3 \u001b[m\u001b[mavail Mem \u001b[m\u001b[m\u001b[m\u001b[m\u001b[K\n",
            "\u001b[K\n",
            "\u001b[7m    PID USER      PR  NI    VIRT    RES    SHR S  %CPU  %MEM     TIME+ COMMAND                      \u001b[m\u001b[m\u001b[K\n",
            "\u001b[m      1 root      20   0    1076      8      0 S   0.0   0.0   0:00.06 docker-init                  \u001b[m\u001b[m\u001b[K\n",
            "\u001b[m      6 root      20   0  909416  66184  39116 S   0.0   0.5   0:04.22 node                         \u001b[m\u001b[m\u001b[K\n",
            "\u001b[m     21 root      20   0    7376   3476   3172 S   0.0   0.0   0:00.96 oom_monitor.sh               \u001b[m\u001b[m\u001b[K\n",
            "\u001b[m     23 root      20   0    7376   1912   1620 S   0.0   0.0   0:00.00 run.sh                       \u001b[m\u001b[m\u001b[K\n",
            "\u001b[m     25 root      20   0 1237848  15228   9392 S   0.0   0.1   0:00.82 kernel_manager_              \u001b[m\u001b[m\u001b[K\n",
            "\u001b[m     27 root      20   0    5808   1000    908 S   0.0   0.0   0:00.09 tail                         \u001b[m\u001b[m\u001b[K\n",
            "\u001b[m     33 root      20   0    5808   1096   1004 S   0.0   0.0   0:00.08 tail                         \u001b[m\u001b[m\u001b[K\n",
            "\u001b[m     68 root      20   0       0      0      0 Z   0.0   0.0   0:19.86 python3                      \u001b[m\u001b[m\u001b[K\n",
            "\u001b[m     69 root      20   0   63756  50868  14740 S   0.0   0.4   0:00.79 colab-fileshim.              \u001b[m\u001b[m\u001b[K\n",
            "\u001b[m     90 root      20   0  366216 122228  22892 S   0.0   0.9   0:06.18 jupyter-noteboo              \u001b[m\u001b[m\u001b[K\n",
            "\u001b[m     91 root      20   0 1230316   9632   3568 S   0.0   0.1   0:01.78 dap_multiplexer              \u001b[m\u001b[m\u001b[K\n",
            "\u001b[m    248 root      20   0 1386152 288648  82464 S   0.0   2.2   0:15.93 python3                      \u001b[m\u001b[m\u001b[K\n",
            "\u001b[m    283 root      20   0  544748  20536   5620 S   0.0   0.2   0:04.33 python3                      \u001b[m\u001b[m\u001b[K\n",
            "\u001b[m    323 root      20   0 1241056  20000  11132 S   0.0   0.2   0:00.93 language_servic              \u001b[m\u001b[m\u001b[K\n",
            "\u001b[m    329 root      20   0  927548 146328  39020 S   0.0   1.1   0:11.38 node                         \u001b[m\u001b[m\u001b[K\n",
            "\u001b[m   6835 root      20   0    5776   1016    928 S   0.0   0.0   0:00.00 sleep                        \u001b[m\u001b[m\u001b[K\n",
            "\u001b[m\u001b[1m   6836 root      20   0   10352   3508   3148 R   0.0   0.0   0:00.00 top                          \u001b[m\u001b[m\u001b[K\u001b[H\u001b[mtop - 02:27:53 up 27 min,  0 users,  load average: 0.36, 0.29, 0.27\u001b[m\u001b[m\u001b[m\u001b[m\u001b[K\n",
            "\n",
            "%Cpu(s):\u001b[m\u001b[m\u001b[1m 14.1 \u001b[m\u001b[mus,\u001b[m\u001b[m\u001b[1m  8.2 \u001b[m\u001b[msy,\u001b[m\u001b[m\u001b[1m  0.0 \u001b[m\u001b[mni,\u001b[m\u001b[m\u001b[1m 77.2 \u001b[m\u001b[mid,\u001b[m\u001b[m\u001b[1m  0.2 \u001b[m\u001b[mwa,\u001b[m\u001b[m\u001b[1m  0.0 \u001b[m\u001b[mhi,\u001b[m\u001b[m\u001b[1m  0.2 \u001b[m\u001b[msi,\u001b[m\u001b[m\u001b[1m  0.2 \u001b[m\u001b[mst\u001b[m\u001b[m\u001b[m\u001b[m\u001b[K\n",
            "MiB Mem :\u001b[m\u001b[m\u001b[1m  12979.0 \u001b[m\u001b[mtotal,\u001b[m\u001b[m\u001b[1m   8166.8 \u001b[m\u001b[mfree,\u001b[m\u001b[m\u001b[1m    966.3 \u001b[m\u001b[mused,\u001b[m\u001b[m\u001b[1m   3845.9 \u001b[m\u001b[mbuff/cache\u001b[m\u001b[m\u001b[m\u001b[m\u001b[K\n",
            "MiB Swap:\u001b[m\u001b[m\u001b[1m      0.0 \u001b[m\u001b[mtotal,\u001b[m\u001b[m\u001b[1m      0.0 \u001b[m\u001b[mfree,\u001b[m\u001b[m\u001b[1m      0.0 \u001b[m\u001b[mused.\u001b[m\u001b[m\u001b[1m  11691.1 \u001b[m\u001b[mavail Mem \u001b[m\u001b[m\u001b[m\u001b[m\u001b[K\n",
            "\u001b[K\n",
            "\n",
            "\u001b[m    248 root      20   0 1386152 288648  82464 S   0.7   2.2   0:15.95 python3                      \u001b[m\u001b[m\u001b[K\n",
            "\u001b[m    283 root      20   0  544748  20536   5620 S   0.7   0.2   0:04.35 python3                      \u001b[m\u001b[m\u001b[K\n",
            "\u001b[m      6 root      20   0  909416  66448  39116 S   0.3   0.5   0:04.23 node                         \u001b[m\u001b[m\u001b[K\n",
            "\u001b[m     91 root      20   0 1230316   9632   3568 S   0.3   0.1   0:01.79 dap_multiplexer              \u001b[m\u001b[m\u001b[K\n",
            "\u001b[m      1 root      20   0    1076      8      0 S   0.0   0.0   0:00.06 docker-init                  \u001b[m\u001b[m\u001b[K\n",
            "\u001b[m     21 root      20   0    7376   3476   3172 S   0.0   0.0   0:00.96 oom_monitor.sh               \u001b[m\u001b[m\u001b[K\n",
            "\u001b[m     23 root      20   0    7376   1912   1620 S   0.0   0.0   0:00.00 run.sh                       \u001b[m\u001b[m\u001b[K\n",
            "\u001b[m     25 root      20   0 1237848  15228   9392 S   0.0   0.1   0:00.82 kernel_manager_              \u001b[m\u001b[m\u001b[K\n",
            "\u001b[m     27 root      20   0    5808   1000    908 S   0.0   0.0   0:00.09 tail                         \u001b[m\u001b[m\u001b[K\n",
            "\u001b[m     33 root      20   0    5808   1096   1004 S   0.0   0.0   0:00.08 tail                         \u001b[m\u001b[m\u001b[K\n",
            "\u001b[m     68 root      20   0       0      0      0 Z   0.0   0.0   0:19.86 python3                      \u001b[m\u001b[m\u001b[K\n",
            "\u001b[m     69 root      20   0   63756  50868  14740 S   0.0   0.4   0:00.79 colab-fileshim.              \u001b[m\u001b[m\u001b[K\n",
            "\u001b[m     90 root      20   0  366216 122228  22892 S   0.0   0.9   0:06.18 jupyter-noteboo              \u001b[m\u001b[m\u001b[K\n",
            "\n",
            "\n",
            "\u001b[m\u001b[1m   6836 root      20   0   10352   3508   3148 R   0.0   0.0   0:00.00 top                          \u001b[m\u001b[m\u001b[K\n",
            "\u001b[m   6848 root      20   0    5776   1056    960 S   0.0   0.0   0:00.00 sleep                        \u001b[m\u001b[m\u001b[K\u001b[H\u001b[mtop - 02:27:56 up 27 min,  0 users,  load average: 0.33, 0.28, 0.27\u001b[m\u001b[m\u001b[m\u001b[m\u001b[K\n",
            "\n",
            "%Cpu(s):\u001b[m\u001b[m\u001b[1m  1.2 \u001b[m\u001b[mus,\u001b[m\u001b[m\u001b[1m  1.3 \u001b[m\u001b[msy,\u001b[m\u001b[m\u001b[1m  0.0 \u001b[m\u001b[mni,\u001b[m\u001b[m\u001b[1m 97.2 \u001b[m\u001b[mid,\u001b[m\u001b[m\u001b[1m  0.2 \u001b[m\u001b[mwa,\u001b[m\u001b[m\u001b[1m  0.0 \u001b[m\u001b[mhi,\u001b[m\u001b[m\u001b[1m  0.2 \u001b[m\u001b[msi,\u001b[m\u001b[m\u001b[1m  0.0 \u001b[m\u001b[mst\u001b[m\u001b[m\u001b[m\u001b[m\u001b[K\n",
            "MiB Mem :\u001b[m\u001b[m\u001b[1m  12979.0 \u001b[m\u001b[mtotal,\u001b[m\u001b[m\u001b[1m   8166.5 \u001b[m\u001b[mfree,\u001b[m\u001b[m\u001b[1m    966.4 \u001b[m\u001b[mused,\u001b[m\u001b[m\u001b[1m   3846.0 \u001b[m\u001b[mbuff/cache\u001b[m\u001b[m\u001b[m\u001b[m\u001b[K\n",
            "MiB Swap:\u001b[m\u001b[m\u001b[1m      0.0 \u001b[m\u001b[mtotal,\u001b[m\u001b[m\u001b[1m      0.0 \u001b[m\u001b[mfree,\u001b[m\u001b[m\u001b[1m      0.0 \u001b[m\u001b[mused.\u001b[m\u001b[m\u001b[1m  11690.9 \u001b[m\u001b[mavail Mem \u001b[m\u001b[m\u001b[m\u001b[m\u001b[K\n",
            "\u001b[K\n",
            "\n",
            "\u001b[m    248 root      20   0 1386152 288648  82464 S   1.0   2.2   0:15.98 python3                      \u001b[m\u001b[m\u001b[K\n",
            "\u001b[m     25 root      20   0 1237848  15228   9392 S   0.3   0.1   0:00.83 kernel_manager_              \u001b[m\u001b[m\u001b[K\n",
            "\u001b[m      1 root      20   0    1076      8      0 S   0.0   0.0   0:00.06 docker-init                  \u001b[m\u001b[m\u001b[K\n",
            "\u001b[m      6 root      20   0  909416  66448  39116 S   0.0   0.5   0:04.23 node                         \u001b[m\u001b[m\u001b[K\n",
            "\u001b[m     21 root      20   0    7376   3476   3172 S   0.0   0.0   0:00.96 oom_monitor.sh               \u001b[m\u001b[m\u001b[K\n",
            "\u001b[m     23 root      20   0    7376   1912   1620 S   0.0   0.0   0:00.00 run.sh                       \u001b[m\u001b[m\u001b[K\n",
            "\u001b[m     27 root      20   0    5808   1000    908 S   0.0   0.0   0:00.09 tail                         \u001b[m\u001b[m\u001b[K\n",
            "\u001b[m     33 root      20   0    5808   1096   1004 S   0.0   0.0   0:00.08 tail                         \u001b[m\u001b[m\u001b[K\n",
            "\u001b[m     68 root      20   0       0      0      0 Z   0.0   0.0   0:19.86 python3                      \u001b[m\u001b[m\u001b[K\n",
            "\u001b[m     69 root      20   0   63756  50868  14740 S   0.0   0.4   0:00.79 colab-fileshim.              \u001b[m\u001b[m\u001b[K\n",
            "\u001b[m     90 root      20   0  366216 122228  22892 S   0.0   0.9   0:06.18 jupyter-noteboo              \u001b[m\u001b[m\u001b[K\n",
            "\u001b[m     91 root      20   0 1230316   9632   3568 S   0.0   0.1   0:01.79 dap_multiplexer              \u001b[m\u001b[m\u001b[K\n",
            "\u001b[m    283 root      20   0  544748  20536   5620 S   0.0   0.2   0:04.35 python3                      \u001b[m\u001b[m\u001b[K\n",
            "\n",
            "\n",
            "\n",
            "\u001b[m   6860 root      20   0    5776   1056    964 S   0.0   0.0   0:00.00 sleep                        \u001b[m\u001b[m\u001b[K\u001b[?1l\u001b>\u001b[25;1H\n",
            "\u001b[K"
          ]
        }
      ],
      "source": [
        "# Your answer here\n",
        "# You can add as many cells as you want\n",
        "!top"
      ]
    },
    {
      "cell_type": "markdown",
      "source": [
        "top displays running processes, CPU/memory usage, and system statistics in real time, letting you monitor and manage performance interactively."
      ],
      "metadata": {
        "id": "uC9eloeMcMwu"
      }
    },
    {
      "cell_type": "code",
      "source": [],
      "metadata": {
        "id": "MhxHONY2cOC8"
      },
      "execution_count": null,
      "outputs": []
    }
  ],
  "metadata": {
    "colab": {
      "provenance": [],
      "include_colab_link": true
    },
    "kernelspec": {
      "display_name": "Python 3",
      "name": "python3"
    },
    "language_info": {
      "name": "python"
    }
  },
  "nbformat": 4,
  "nbformat_minor": 0
}