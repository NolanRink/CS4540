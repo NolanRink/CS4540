{
  "nbformat": 4,
  "nbformat_minor": 0,
  "metadata": {
    "colab": {
      "provenance": [],
      "authorship_tag": "ABX9TyMcegibULweY44MQ9A0R6fE",
      "include_colab_link": true
    },
    "kernelspec": {
      "name": "python3",
      "display_name": "Python 3"
    },
    "language_info": {
      "name": "python"
    }
  },
  "cells": [
    {
      "cell_type": "markdown",
      "metadata": {
        "id": "view-in-github",
        "colab_type": "text"
      },
      "source": [
        "<a href=\"https://colab.research.google.com/github/NolanRink/CS4540/blob/main/HW15/HW15.ipynb\" target=\"_parent\"><img src=\"https://colab.research.google.com/assets/colab-badge.svg\" alt=\"Open In Colab\"/></a>"
      ]
    },
    {
      "cell_type": "markdown",
      "source": [
        "# HW#15\n",
        "\n",
        "## Assigned on Monday\n",
        "\n",
        "### Task 1: Summarize GANs\n",
        "\n",
        "**Summarize the key ideas related to GANs in itemized (bullet) form, using the provided paper and other internet sources as appropriate.**\n",
        "\n",
        "* Answer:\n",
        "  * **Key GAN ideas:**\n",
        "    * GANs consist of two networks: a Generator that creates synthetic data and a Discriminator that aims to differentiate between real and fake data.\n",
        "    * These networks engage in a minimax game, where the Discriminator learns to identify fake data while the Generator learns to deceive the Discriminator.\n",
        "    * Mode collapse can occur when the Generator produces only a limited variety of outputs, leading to a lack of diversity.\n",
        "    * Training GANs can be unstable if one network learns significantly faster than the other.\n",
        "    * DCGAN introduces best practices for image-based GANs, including the use of strided convolutions, batch normalization, and the avoidance of fully-connected layers.\n",
        "    * WGAN employs the Wasserstein distance as a loss function, promoting smoother training and greater stability.\n",
        "    * Techniques such as minibatch discrimination, label smoothing, and noise injection help to prevent mode collapse and enhance training stability.\n",
        "  * **MNIST GAN Experiment Summary:**\n",
        "    * A small DCGAN was trained on the MNIST dataset for 20 epochs using the Adam optimizer with a learning rate of 2e-4 and beta1 of 0.5.\n",
        "    * The Generator successfully learned to generate legible but slightly blurry handwritten digits.\n",
        "    * Interpolating between two noise vectors resulted in smooth transitions between digits, demonstrating a learned continuous representation.\n",
        "    * The observed blurriness and occasional unusual shapes suggest limitations in model depth and training data size.\n",
        "    * To enhance the quality of generated images, consider increasing the amount of training data and epochs, using deeper networks, and implementing GAN techniques like minibatch discrimination or WGAN-GP.\n",
        "\n",
        "\n",
        "### Task 2: Train a GAN model on MNIST\n",
        "\n",
        "**Use the notebook from class to train a GAN model on the MNIST dataset and replicate generation results reported in the notebook (sections \"Sample Latent Vector from Prior (GAN as Generator)\" and \"Interpolate in Latent Space\").**\n",
        "\n",
        "Generated samples do not have to be perfect but it should be clear that they contain digits (i.e., it is fine if the digits appear blurry as long as they are legible). You are free to change the network architecture and training parameters.\n",
        "\n",
        "**Comment on the quality of the generated samples and suggest what can be done to improve it.**\n",
        "    \n",
        "\n",
        "**Submit the notebook showing training history and generated samples.**\n",
        "\n",
        "* Answer: <a target=\"_blank\" href=\"https://colab.research.google.com/github/NolanRink/CS4540/blob/main/HW15/HW15_gan.ipynb\">\n",
        "  <img src=\"https://colab.research.google.com/assets/colab-badge.svg\" alt=\"Open In Colab\"/>\n",
        "</a>"
      ],
      "metadata": {
        "id": "61dzEPgZvHPM"
      }
    }
  ]
}