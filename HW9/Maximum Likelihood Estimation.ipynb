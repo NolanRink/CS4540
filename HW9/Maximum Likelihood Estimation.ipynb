{
 "cells": [
  {
   "cell_type": "markdown",
   "metadata": {
    "collapsed": false,
    "pycharm": {
     "name": "#%% md\n"
    }
   },
   "source": [
    "## Maximum Likelihood Estimation\n",
    "\n",
    "This notebook assumes the data is a standard continuous normal distribution. The number of random samples, mean, and standard deviation of the distribution can be set in lines 7-9 in code cell 1.\n",
    "\n",
    "The function `gaussian` calculates the negative log likelihood given the random samples and the initial predicted mean and standard deviations defined in initParams.\n",
    "\n",
    "The key to the whole program is the scipy function `minimize`. It is a regular optimization function and more information about it can be found [here](https://docs.scipy.org/doc/scipy/reference/generated/scipy.optimize.minimize.html).\n",
    "\n",
    "**Note:** the method can be a lot of different options, all different mathematical optimization techniques.\n",
    "\n",
    "\n",
    "#### Questions:\n",
    "1. If everything is working, we would expect more accurate $\\mu^*$ and $\\sigma^*$ predictions with more random samples. Think about why this is.\n",
    "2. What happens when the initial parameter guesses are extremely off? What about when they're extremely close? How does this impact the number of samples?\n",
    "3. Break down each line in the `gaussian` function. Knowing what you know about MLE, what do you think the function `stats.norm.logpdf` does?"
   ]
  },
  {
   "cell_type": "code",
   "execution_count": null,
   "metadata": {
    "collapsed": false,
    "pycharm": {
     "name": "#%%\n"
    }
   },
   "outputs": [],
   "source": [
    "from scipy import stats\n",
    "import numpy as np\n",
    "from scipy.optimize import minimize\n",
    "np.random.seed(1)\n",
    "\n",
    "\n",
    "samples = 100\n",
    "mu      = 0\n",
    "sigma   = 3\n",
    "\n",
    "\n",
    "#  Take random sample from the distribution of data (normal dist in this case)\n",
    "sample_data = np.random.normal(loc=mu, scale=sigma, size=samples)\n",
    "\n",
    "def gaussian(params):\n",
    "    mean = params[0]\n",
    "    sd = params[1]\n",
    "\n",
    "    # Calculate negative log likelihood\n",
    "    nll = -np.sum(stats.norm.logpdf(sample_data, loc=mean, scale=sd))\n",
    "\n",
    "    return nll\n",
    "\n",
    "\n",
    "initParams = [1, 1]\n",
    "\n",
    "results = minimize(gaussian, initParams, method='Nelder-Mead')\n",
    "\n",
    "\n",
    "print('mean*  = {:.3f} std*  = {:.3f}'.format(results.x[0],results.x[1]))\n",
    "print('mean   = {:.3f} std   = {:.3f}'.format(mu, sigma))"
   ]
  },
  {
   "cell_type": "code",
   "execution_count": null,
   "metadata": {
    "collapsed": false,
    "pycharm": {
     "name": "#%%\n"
    }
   },
   "outputs": [],
   "source": [
    "import matplotlib.pyplot as plt\n",
    "\n",
    "def normal_dist(inp, mean, std):\n",
    "    return 1./(np.sqrt(2.*np.pi)*std)*np.exp(-np.power((inp - mean)/std, 2.)/2)\n",
    "\n",
    "x = np.arange(-10, 10, 0.1)\n",
    "y = normal_dist(x, mu, sigma)\n",
    "\n",
    "num_bins = 20\n",
    "\n",
    "count, bins, ignored = plt.hist(sample_data, bins=num_bins, density=True)\n",
    "plt.plot(bins, 1/(sigma * np.sqrt(2 * np.pi)) * np.exp( - (bins - mu)**2 / (2 * sigma**2) ))\n",
    "plt.show()"
   ]
  },
  {
   "cell_type": "code",
   "execution_count": null,
   "metadata": {
    "collapsed": false,
    "pycharm": {
     "name": "#%%\n"
    }
   },
   "outputs": [],
   "source": []
  }
 ],
 "metadata": {
  "kernelspec": {
   "display_name": "Python 3",
   "language": "python",
   "name": "python3"
  },
  "language_info": {
   "codemirror_mode": {
    "name": "ipython",
    "version": 2
   },
   "file_extension": ".py",
   "mimetype": "text/x-python",
   "name": "python",
   "nbconvert_exporter": "python",
   "pygments_lexer": "ipython2",
   "version": "2.7.6"
  }
 },
 "nbformat": 4,
 "nbformat_minor": 0
}
