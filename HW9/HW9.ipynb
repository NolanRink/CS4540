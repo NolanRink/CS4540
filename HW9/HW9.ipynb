{
  "cells": [
    {
      "cell_type": "markdown",
      "metadata": {
        "id": "51yPjMmqJEPw"
      },
      "source": [
        "# Homework Assignment Template\n",
        "\n",
        "---\n",
        "\n",
        "## 1. Loss Functions and Theoretical Questions\n",
        "\n",
        "### Study Resources\n",
        "- [PyTorch Loss Functions: The Ultimate Guide](https://pytorch.org/docs/stable/nn.html#loss-functions)  \n",
        "- [Mathematics for Deep Learning](https://mattmazur.com/2015/03/17/a-step-by-step-backpropagation-example/)  \n",
        "\n",
        "### Questions to Answer\n",
        "1. **When would you use MAE over MSE as a loss function for a regression problem?**  \n",
        "   *Answer:*  \n",
        "   You would use MAE in situation where you want to reduce the effect outliers have on the problem. MSE squares the values so an outlier has a much greater effect.\n",
        "\n",
        "2. **What is the difference between Negative Log-Likelihood loss (NLL) and Cross Entropy loss (CE)?**  \n",
        "   *Answer:*  \n",
        "   NLL Loss expects the values to already be in log probablilites while CE will expects the raw values before log softmax.\n",
        "\n",
        "---\n",
        "\n",
        "## 2. Maximum Likelihood Estimation (MLE) on Logistic Data\n",
        "\n",
        "### Objective\n",
        "- Familiarize yourself with maximum likelihood estimation using the provided resources.\n",
        "- Run the [Colab-example-MLE](#) notebook (for Gaussian data) as a base.\n",
        "- **Task:** Generate random data from the Logistic distribution and modify the code to estimate the parameters **μ** and **s**.\n",
        "\n",
        "---\n",
        "\n",
        "## 3. Sketch the structure of an MLP and explain clearly how it solves the problem.\n",
        "\n",
        "   *Answer:*\n",
        "   - ![CNN Image](C:/Users/nolan/OneDrive/Desktop/School/CS/CS4540/CS4540/HW9/Screenshot%2025-03-31%233329.png)\n",
        "\n"
      ]
    },
    {
      "cell_type": "code",
      "execution_count": null,
      "metadata": {
        "id": "JubuRMbCLbhI"
      },
      "outputs": [],
      "source": []
    }
  ],
  "metadata": {
    "colab": {
      "provenance": []
    },
    "kernelspec": {
      "display_name": "Python 3",
      "name": "python3"
    },
    "language_info": {
      "name": "python"
    }
  },
  "nbformat": 4,
  "nbformat_minor": 0
}
